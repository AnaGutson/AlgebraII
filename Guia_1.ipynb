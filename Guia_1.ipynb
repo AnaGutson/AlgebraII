{
  "nbformat": 4,
  "nbformat_minor": 0,
  "metadata": {
    "colab": {
      "name": "Guia 1.ipynb",
      "provenance": [],
      "collapsed_sections": [
        "kGBSomiI8GcR",
        "g8rw1LwY8IpB",
        "4n8w6ECPNN1k",
        "5DGVva2AKLtV",
        "1bZlB0xxMEEd",
        "MClCSYDd4hTb",
        "fzeGiWDtDF-p",
        "iue9JMJ80q2R",
        "9AW3t3944WOy",
        "O-cNdVZQQj1q",
        "dz-uvhcWULoB",
        "9ANzZkEYUBDI",
        "15ltKsYjVLE3",
        "GIL2b5WGC1zo",
        "4twCa6ZQG5nO",
        "wn0Uu7bEL7XT",
        "NzQGGEu5QbsK",
        "xu5q-6mLRtD5",
        "Wx1h-v35D26H",
        "NnOjdnrCDO1F",
        "I4i5exu4oF_R",
        "8uzuBTgObs4c",
        "Cf81q_3KhRwa",
        "AnpKIK-MmEn3",
        "ZyzStC3JOk0k",
        "-AzPO_R4QzHe",
        "MsgOSEKacsa9",
        "LhK1zmItd9Ak",
        "yGuNbhKQiqvj",
        "Y2hbzfbvvV3K",
        "VLy36x-fkrHG",
        "NDyI_QA-qOVz",
        "K_7qGCqSuFjY",
        "dtdsQ5peb0QQ",
        "yyBt3JpwcAOL",
        "RG8SvrgTkwNG",
        "Zwwf-8sBg5YV",
        "TrWdDT2evXVV",
        "Pp19LnwByX4i",
        "CdZXl5abE2hO"
      ],
      "authorship_tag": "ABX9TyN0763GwRtVGbEhL6YMbNMt",
      "include_colab_link": true
    },
    "kernelspec": {
      "name": "python3",
      "display_name": "Python 3"
    },
    "language_info": {
      "name": "python"
    }
  },
  "cells": [
    {
      "cell_type": "markdown",
      "metadata": {
        "id": "view-in-github",
        "colab_type": "text"
      },
      "source": [
        "<a href=\"https://colab.research.google.com/github/AnaGutson/AlgebraII/blob/main/Guia_1.ipynb\" target=\"_parent\"><img src=\"https://colab.research.google.com/assets/colab-badge.svg\" alt=\"Open In Colab\"/></a>"
      ]
    },
    {
      "cell_type": "markdown",
      "source": [
        "# **Guía 1**"
      ],
      "metadata": {
        "id": "NceeY2MU0k7V"
      }
    },
    {
      "cell_type": "code",
      "execution_count": 3,
      "metadata": {
        "id": "RMrGYW2S0YSI"
      },
      "outputs": [],
      "source": [
        "from sympy import *\n",
        "from sympy import I as i\n",
        "init_printing(use_unicode=True)\n",
        "from typing import List, Dict"
      ]
    },
    {
      "cell_type": "markdown",
      "source": [
        "## **General**"
      ],
      "metadata": {
        "id": "kGBSomiI8GcR"
      }
    },
    {
      "cell_type": "markdown",
      "source": [
        "### **Producto Vectorial**"
      ],
      "metadata": {
        "id": "g8rw1LwY8IpB"
      }
    },
    {
      "cell_type": "code",
      "source": [
        "def vectorial_product(A,B):\n",
        "  a = Matrix([[A[1], A[2]], [B[1], B[2]]]).det()\n",
        "  b = Matrix([[A[0], A[2]], [B[0], B[2]]]).det()\n",
        "  c = Matrix([[A[0], A[1]], [B[0], B[1]]]).det()\n",
        "  return Matrix([a, -b, c])"
      ],
      "metadata": {
        "id": "oMx8awBI8ONr"
      },
      "execution_count": 4,
      "outputs": []
    },
    {
      "cell_type": "markdown",
      "source": [
        "## **Específico**"
      ],
      "metadata": {
        "id": "cIYILaApnr4d"
      }
    },
    {
      "cell_type": "markdown",
      "source": [
        "### **Matrices**"
      ],
      "metadata": {
        "id": "6wCzuFol7Q9J"
      }
    },
    {
      "cell_type": "code",
      "source": [
        "'''\n",
        "  A.inv                                   -> La inversa de A\n",
        "  A.T                                     -> La transpuesta de A\n",
        "  A.transpose()                           -> La transpuesta de A\n",
        "  A.det                                   -> Determinante de A\n",
        "  A.normalized()                          -> Matriz normalizada\n",
        "  A.rref()                                -> Matriz triangulada\n",
        "  A[1,0]                                  -> Posicion segunda fila primera columna\n",
        "  A[:,0]                                  -> La primera columna de A\n",
        "  A[0,:]                                  -> La primera fila de A\n",
        "  A.col(0)                                -> La primera columna de A\n",
        "  A.subs(t, pi/3)                         -> Reemplaza las t por pi/3\n",
        "  A.subs({x1:1, x2:5, x3:7})               -> Reemplaza x1 por 1, x2 por 5...\n",
        "  Z = zeros(2,1)                          -> Matriz de 0s de 2 filas 1 columna\n",
        "  eye(n)                                  -> Matriz identidad en n x n\n",
        "  Matrix.hstack(v1,v2)                    -> Matriz con columnas v1, v2\n",
        "  Matrix.vstack(v1,v2)                    -> Matriz con filas v1, v2\n",
        "  Lambda = diag(2, 2, 3)                  -> Matriz diagonal\n",
        "  x, parametro = B.gauss_jordan_solve(v)  -> Solucion de B.x = v\n",
        "  simplify(A)                             -> Simplifica A\n",
        "  expand(A)                               -> Expande A\n",
        "  n, m = A.shape                          -> Cantidad filas y columnas de A\n",
        "'''\n",
        "\n",
        "#Escritura de matriz, ejemplos:\n",
        "\n",
        "U = Rational('1/3') * Matrix([[ 2, 2, 1],\n",
        "                              [-2, 1, 2],\n",
        "                              [ 1,-2, 2]])\n",
        "\n",
        "#___________________________________________\n",
        "\n",
        "t = Symbol('t')\n",
        "A = Matrix([[ cos(t), -sin(t)],\n",
        "            [ sin(t), cos(t)]])\n",
        "A = A.subs(t, pi/3)\n",
        "\n",
        "def rango(A):\n",
        "  return len(A.columnspace())"
      ],
      "metadata": {
        "id": "tRH_o0pn7P4J"
      },
      "execution_count": 5,
      "outputs": []
    },
    {
      "cell_type": "markdown",
      "source": [
        "### **Polinomios**"
      ],
      "metadata": {
        "id": "4n8w6ECPNN1k"
      }
    },
    {
      "cell_type": "code",
      "source": [
        "'''\n",
        "  diff(p,x) -> La derivada de p respecto de x\n",
        "  p.subs(x,1) -> p(1)\n",
        "  p.factor() -> factoriza un polinomio\n",
        "  p.roots() -> las raices del polinomio\n",
        "  P = plot(p,(x,0,2)) -> grafico del polinomio con x entre 0 y 2\n",
        "  P = plot(*L, (x,0,2)) -> grafico de una lista de polinomios con x entre 0 y 2\n",
        "  P[0].line_color = 'red' -> color del primer polimonio\n",
        "  P.show() -> muestra el grafico del polinomio con x entre 0 y 10\n",
        "'''\n",
        "\n",
        "#Escritura de polimomio, ejemplos:\n",
        "\n",
        "x, a0, a1, a2 = symbols('x, a0, a1, a2')\n",
        "p = a0 + a1*x + a2*x**2"
      ],
      "metadata": {
        "id": "UBbd4bBqNUvk"
      },
      "execution_count": 6,
      "outputs": []
    },
    {
      "cell_type": "markdown",
      "source": [
        "### **Combinación Lineal**"
      ],
      "metadata": {
        "id": "4IwtbBsS_75d"
      }
    },
    {
      "cell_type": "markdown",
      "source": [
        "Sea $\\mathbb{S}={\\rm gen}\\left\\{\\underbrace{\\begin{bmatrix}2&1&2\\end{bmatrix}^T}_{v_1}, \\underbrace{\\begin{bmatrix}1&2&-2\\end{bmatrix}^T}_{v_2}\\right\\}$.\n",
        "\n",
        "Por definición, $v\\in\\mathbb{S}$ si y solamente si existen $a,b\\in\\mathbb{R}$ tales que $v=av_1+bv_2$.\n",
        "\n",
        "Nótese que \n",
        "\\begin{align}\n",
        "v&=av_1+bv_2=a\\begin{bmatrix}2\\\\1\\\\2\\end{bmatrix}+b\\begin{bmatrix}1\\\\2\\\\-2\\end{bmatrix}=\\begin{bmatrix}2a+b\\\\a+2b\\\\2a-2b\\end{bmatrix}=\\underbrace{\\begin{bmatrix}2&1\\\\1&2\\\\2&-2\\end{bmatrix}}_{B\\in\\mathbb{R}^{3\\times 2}}\\underbrace{\\begin{bmatrix}a\\\\b\\end{bmatrix}}_{x\\in\\mathbb{R}^2}.\n",
        "\\end{align}\n",
        "\n",
        "El sistema $Bx=v$ tiene soluciones de la forma $x=\\begin{bmatrix}0\\\\3\\\\0\\end{bmatrix}+\\tau_0\\begin{bmatrix}1\\\\-2\\\\1\\end{bmatrix}$, donde $\\tau_0\\in\\mathbb{R}$. \n",
        "\n",
        "\n",
        "$Bx=v$ tiene solución si y solamente si $v ∈ col(B)$\n",
        "\n",
        "*   $Bx=v$ tiene solución única $<=>$ las columnas de A forman un conjunto LI $<=>$ $Nul(A)$ = 0 \n",
        "*   $Bx=v$ tiene $\\infty$ soluciones $<=>$ las columnas de A forman un conjunto LD $<=>$ $Nul(A)$ $\\neq$ 0 "
      ],
      "metadata": {
        "id": "ChhjoBvuL-Hq"
      }
    },
    {
      "cell_type": "code",
      "source": [
        "#Definir los vectores \n",
        "v1 = Matrix([2,1,2])\n",
        "v2 = Matrix([1,2,-2])\n",
        "\n",
        "#Definir los parámetros simbólicos\n",
        "a = Symbol('a')\n",
        "b = Symbol('b')\n",
        "\n",
        "#Realizar la combinación lineal\n",
        "v = a*v1 + b*v2\n",
        "\n",
        "#_____________________________\n",
        "\n",
        "#Construcción de la matriz A \n",
        "A = Matrix.hstack(v1, v2) #Los vectores v1 y v2 son las columnas de A\n",
        "\n",
        "#Construcción del vector x\n",
        "x = Matrix([a, b])\n",
        "\n",
        "#Multiplicación de A por x  \n",
        "v = A*x\n",
        "\n",
        "#_____________________________\n",
        "    \n",
        "B = Matrix([[1,2,3],[4,5,6],[7,8,9]])\n",
        "v = Matrix([6,15,24])\n",
        "x_sol, parametro = B.gauss_jordan_solve(v) #Soluciones de B.x = v  \n",
        "\n",
        "#_____________________________\n",
        "\n",
        "#Tres soluciones distintas de la ecuación Bx=v \n",
        "tau0 = parametro[0]\n",
        "for val in [0, 2, 4]:\n",
        "  x_sol_eval = x_sol.subs({tau0: val})\n",
        "  print('x = ({}).v_1 + ({}).v_2 + ({}).v_3'.format(x_sol_eval[0], x_sol_eval[1], x_sol_eval[2]))\n",
        "\n",
        "#_____________________________\n",
        "\n",
        "def gauss_jordan_con_generadores(A: Matrix, z: Matrix): #devuelve la solucion de gauss jordan entera, la sol part y sus generadores\n",
        "  x, p = A.gauss_jordan_solve(z) \n",
        "  \n",
        "  #hallo sol particular\n",
        "  x_0 = x\n",
        "  for i in range(len(p)):  \n",
        "    x_0 = x_0.subs({p[i]:0}) \n",
        "  \n",
        "  #hallo generadores\n",
        "  generadores = []\n",
        "  for i in range(len(p)):\n",
        "    x_i = x - x_0\n",
        "    for j in range(len(p)):\n",
        "      if j != i:\n",
        "        x_i = x_i.subs({p[j]:0})\n",
        "    x_i = x_i.subs({p[i]:1})\n",
        "    generadores.append(x_i)\n",
        "\n",
        "  return x, x_0, generadores"
      ],
      "metadata": {
        "id": "mFvuloKi-8zs",
        "colab": {
          "base_uri": "https://localhost:8080/"
        },
        "outputId": "a7077622-e94a-4421-8e1d-288d7eaaca65"
      },
      "execution_count": 7,
      "outputs": [
        {
          "output_type": "stream",
          "name": "stdout",
          "text": [
            "x = (0).v_1 + (3).v_2 + (0).v_3\n",
            "x = (2).v_1 + (-1).v_2 + (2).v_3\n",
            "x = (4).v_1 + (-5).v_2 + (4).v_3\n"
          ]
        }
      ]
    },
    {
      "cell_type": "markdown",
      "source": [
        "### **Independencia Lineal**"
      ],
      "metadata": {
        "id": "5DGVva2AKLtV"
      }
    },
    {
      "cell_type": "markdown",
      "source": [
        "Para analizar la dependencia lineal de un conjunto de vectores $\\mathbb  {\\rm}\\left\\{v_1, v_2, v_3\\right\\}$, se arma una matriz A con los vectores como columnas.\n",
        "\n",
        "Si $\\det(A)\\neq 0$, se deduce que $\\{v_1, v_2, v_3\\}$ es linealmente independiente.\n",
        "\n",
        "Otra forma de verlo es haciendo una combinación lineal tal que al igualarlo a 0, la única posible solución sea la trivial:\n",
        "\n",
        "$\\mathcal{L}$ $\\mathbb = {\\rm}\\left\\{\\underbrace{\\begin{bmatrix}2&0&1&1\\end{bmatrix}^T}_{v_1}, \\underbrace{\\begin{bmatrix}1&0&4&4\\end{bmatrix}^T}_{v_2}, \\underbrace{\\begin{bmatrix}2&5&5&5\\end{bmatrix}^T}_{v_3}\\right\\}$ es linealmente independiente porque la ecuación\n",
        "$x_1v_1+x_2v_2+x_3v_3=0$ tiene única solución, la solucion trivial.\n",
        "\n",
        "Cuando la cantidad de vectores de un conjunto es igual a la dimensión del espacio vectorial, y ese conjunto de vectores es linealmente independiente, entonces forma una base.\n",
        "\n",
        "Como el conjunto $$\\mathcal{B}=\\left\\{\\underbrace{\\begin{bmatrix}2\\\\2\\\\1\\end{bmatrix}}_{v_1}, \\underbrace{\\begin{bmatrix}-2\\\\1\\\\2\\end{bmatrix}}_{v_2}, \\underbrace{\\begin{bmatrix}1\\\\-2\\\\2\\end{bmatrix}}_{v_3}\\right\\}$$ tiene 3 vectores linealmente independientes, es una base de $\\mathbb{R}^3$. \n",
        "\n"
      ],
      "metadata": {
        "id": "Y6v9RalCUdMU"
      }
    },
    {
      "cell_type": "code",
      "source": [
        "#Verificar que un conjunto es LI\n",
        "\n",
        "#FORMA 1: Los coeficientes de la combinación lineal deben ser 0.\n",
        "v_1=Matrix([2,0,1,1])\n",
        "v_2=Matrix([1,0,4,4])\n",
        "v_3=Matrix([2,5,5,5])\n",
        "\n",
        "A=Matrix.hstack(v_1,v_2,v_3)\n",
        "b=Matrix([0,0,0,0])\n",
        "\n",
        "x = A.gauss_jordan_solve(b) #si la solucion es la trivial, el conjunto es li.\n",
        "x #la solucion es la trivial, así que el conjunto es li\n",
        "\n",
        "\n",
        "#FORMA 2: El determinante de la matriz debe ser distinto de 0\n",
        "#         La matriz debe ser cuadrada\n",
        "v_1=Matrix([2,2,1])\n",
        "v_2=Matrix([-2,1,2])\n",
        "v_3=Matrix([1,-2,2])\n",
        "\n",
        "MB=Matrix.hstack(v_1,v_2,v_3)\n",
        "\n",
        "MB.det()\n",
        "\n",
        "#_______________________\n",
        "\n",
        "def encontrar_vector_li_a_conjunto(A: List[Matrix]):  #Principio de sustitución de Steinez\n",
        "  cant_filas, _ = A[0].shape\n",
        "  A_ld = Matrix.hstack(*A, eye(cant_filas,cant_filas))\n",
        "  A_li = obtener_vectores_li(A_ld)\n",
        "  return A_li\n",
        "\n",
        "#_______________________\n",
        "\n",
        "def obtener_vectores_li(A: Matrix):\n",
        "  E_A, pivotes_A = A.rref()\n",
        "  A_li = []\n",
        "  for pivote in pivotes_A:\n",
        "      A_li.append(A.col(pivote))        #De la matriz original\n",
        "  return A_li\n",
        "\n",
        "#_______________________\n",
        "\n",
        "'''\n",
        "  Ejemplo:\n",
        "  B = [Matrix([a, 1, 2]), Matrix([3, 2, 3]), Matrix([1, -a, 1])] #una lista\n",
        "  encontrar_a(B, a)\n",
        "'''\n",
        "a = Symbol('a')\n",
        "def encontrar_a(B: List[Matrix], a: Symbol): #Halla el o los valores que puede tener a para que los vectores sean linealmente independientes: formen una base\n",
        "\n",
        "    return solve(det(Matrix.hstack(*B)), a)"
      ],
      "metadata": {
        "id": "FFwB62zfy_Cx"
      },
      "execution_count": 8,
      "outputs": []
    },
    {
      "cell_type": "markdown",
      "source": [
        "#### **Polinomios**\n",
        "Sean $p_1, p_2, p_3$ los polinomios definidos por \n",
        "\n",
        "$p_1=1+x-x^2$, $p_2=7+9x^2$, $p_3=3-x-x^2$\n",
        "\n",
        "Para examinar la independencia lineal de $\\{p_1, p_2, p_3\\}$ analizamos el determinante de la matriz de coeficientes de los polinomios $p_1, p_2, p_3$ respecto de las potencias de $x$.\n",
        "\n",
        "$A=\\begin{bmatrix}1&7&3\\\\1&0&-1\\\\-1&9&-1\\end{bmatrix}$.\n",
        "\n",
        "Como $\\det(A)=50$, se concluye que el conjunto $\\{p_1, p_2, p_3\\}$ es linealmente independiente.\n"
      ],
      "metadata": {
        "id": "1bZlB0xxMEEd"
      }
    },
    {
      "cell_type": "code",
      "source": [
        "#Construir una matriz a partir de vectores\n",
        "p1 = Matrix([1,1,-1])\n",
        "p2 = Matrix([7,0,9])\n",
        "p3 = Matrix([3,-1,-1])\n",
        "\n",
        "A = Matrix.hstack(p1,p2,p3) #los vectores quedan en columnas\n",
        "\n",
        "determinante = A.det()"
      ],
      "metadata": {
        "id": "i88FvAqpKPgl"
      },
      "execution_count": 9,
      "outputs": []
    },
    {
      "cell_type": "markdown",
      "source": [
        "### **Wronskiano**"
      ],
      "metadata": {
        "id": "MClCSYDd4hTb"
      }
    },
    {
      "cell_type": "code",
      "source": [
        "#(existe wronskian() directamente de sympy, pero no devuelve la matriz wronskiana, sino sólo el valor del wronskiano)\n",
        "\n",
        "\"\"\"\n",
        "    B (lista de funciones): conjunto de funciones sobre el cual calcular el Wronskiano en función de la variable x.\n",
        "            \n",
        "    Ejemplo:\n",
        "    # Para ver si un conjunto es linealmente independiente en su correspondiente espacio vectorial, podemos emplear el Wronskiano.\n",
        "    x = Symbol('x') # Definición de la variable simbólica\n",
        "    F = [1, sinh(x), cosh(x)] #Conjunto de funciones\n",
        "\n",
        "    W, M_W = Wronskiano(F, x) #W es el Wronskiano, M_W es la matriz wronskiana\n",
        "    print('La matriz wronskiana es: '); display(M_W)\n",
        "    print('y el Wronskiano resulta: '); display(W)\n",
        "\n",
        "    #W.subs(x,0) #Si quisiera evaluar el Wronskiano en algún valor de x, por ejemplo en este caso x=0\n",
        "\"\"\"\n",
        "\n",
        "def Wronskiano(B, x): #Calcula el Wronskiano del conjunto de funciones contenidas en B en función de la variable x.\n",
        "\n",
        "    n = len(B) # Cantidad de vectores\n",
        "\n",
        "    # Calculo la matriz wronskiana\n",
        "    W = zeros(n,n)\n",
        "    for i in range(n):\n",
        "        for j, f in enumerate(B):\n",
        "            W[i,j] = diff(f,x,i)\n",
        "            \n",
        "    return W.det(), W #devuelve el wronskiano y su matriz W"
      ],
      "metadata": {
        "id": "PwEgWHrT4hrD"
      },
      "execution_count": 10,
      "outputs": []
    },
    {
      "cell_type": "markdown",
      "source": [
        "### **Subespacios**"
      ],
      "metadata": {
        "id": "XHEJoy463K01"
      }
    },
    {
      "cell_type": "markdown",
      "source": [
        "*   $rango(A)$ $:=$ cantidad de pivotes de $E_A$.\n",
        "*   $rango(A)$ $:=$ cantidad de filas no nulas de $E_A$.\n",
        "*   $rango(A)$ $:=$ cantidad de columnas basicas de $A$.\n",
        "\n",
        "*   $rango(A)$ = $dim(col(A))$ = $dim(fil(A))$.\n",
        "\n",
        "*   $dim(nul(A))$ = $n$ − $rango(A)$ = $n$ − $dim(col(A))$\n",
        "\n",
        "  Siendo $n$ = cantidad de columnas de $A$ \n",
        "\n",
        "*   $dim(nul(A^T))$ = $m$ − $dim(col(A^T))$ = $m$ − $dim (fil(A))$.\n",
        "\n",
        "  Siendo $m$ = cantidad de filas de $A$ \n",
        "\n",
        "*   yapa: $dim(\\mathbb{S})$ = $dim(\\mathbb{V})$ - número ecuaciones.\n",
        "\n",
        "\n",
        "$Bx=v$ tiene solución si y solamente si $v ∈ col(B)$\n",
        "\n",
        "*   $Bx=v$ tiene solución única $<=>$ las columnas de A forman un conjunto LI $<=>$ $Nul(A)$ = 0 \n",
        " \n",
        "  Si tiene solución única, puedo hacer x = $B^{-1}.v$\n",
        "*   $Bx=v$ tiene $\\infty$ soluciones $<=>$ las columnas de A forman un conjunto LD $<=>$ $Nul(A)$ $\\neq$ 0 \n",
        "\n"
      ],
      "metadata": {
        "id": "iXTyETOgvoi0"
      }
    },
    {
      "cell_type": "markdown",
      "source": [
        "![image.png](data:image/png;base64,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)"
      ],
      "metadata": {
        "id": "nX750LMToHdd"
      }
    },
    {
      "cell_type": "code",
      "source": [
        "'''  \n",
        "  A.nullspace() -> devuelve el espacio nulo de A \n",
        "  A.columnspace() -> devuelve el espacio columna de A\n",
        "  A.T.columnspace() -> devuelve el espacio columna de A traspuesta\n",
        "  A.T.nullspace() -> devuelve el espacio nulo de A traspuesta\n",
        "  n, m = A.shape -> cantidad de filas y columnas de la matriz\n",
        "'''\n",
        "\n",
        "'''\n",
        "    S: lista de los vectores que generan al subespacio S\n",
        "    Los pivotes empiezan en 0 (por ej: la segunda columna figuraría con el pivote 1)\n",
        "'''\n",
        "def algoritmo_espacio_columna(S: List[Matrix]): #Encuentra el espacio columna de un subespacio\n",
        "    B_S = Matrix.hstack(*S)\n",
        "    E_S, pivotes_S = B_S.rref()\n",
        "    S_li = []\n",
        "    for pivote in pivotes_S:\n",
        "        S_li.append(S[pivote])        #De la matriz original\n",
        "    return S_li, pivotes_S #devuelve la matriz con los vectores que generan el espacio columna y los índices de los pivotes.    \n",
        "\n",
        "def algoritmo_espacio_filas(S: List[Matrix]): #Encuentra el espacio fila de un subespacio\n",
        "    B_S = Matrix.hstack(*S).T\n",
        "    E_S, pivotes_S = B_S.rref()\n",
        "    S_li = []\n",
        "    for pivote in pivotes_S:\n",
        "        S_li.append((E_S[pivote,:]).T) #De la matriz escalonada\n",
        "    return S_li, pivotes_S #devuelve la matriz con los vectores que generan el espacio fila y los índices de los pivotes.     \n",
        "\n",
        "'''\n",
        "    Verifica si dos subespacios son el mismo subespacio devolviendo True para ese \n",
        "    caso y False en caso contrario.\n",
        "    \n",
        "    Ejemplo:\n",
        "    S1 = [Matrix([-4, -5, -3]), Matrix([26, 41, 23])]\n",
        "    bien = [Matrix([11, 18, 10]), Matrix([15, 23, 13])]\n",
        "    mal_1 = [Matrix([-3, 10, 8]), Matrix([-6, 11, 10])]\n",
        "    mal_2 = [Matrix([7, 12, 2]), Matrix([9, 14, 1])]\n",
        "    mal_3 = [Matrix([7, 2, 12]), Matrix([9, 1, 14]), 2 * Matrix([9, 1, 14])]\n",
        "\n",
        "    dos_subespacios_generan_el_mismo_subespacio(S1, bien), dos_subespacios_generan_el_mismo_subespacio(S1, mal_1), dos_subespacios_generan_el_mismo_subespacio(S1, mal_2), dos_subespacios_generan_el_mismo_subespacio(S1, mal_3)\n",
        "'''\n",
        "def dos_subespacios_generan_el_mismo_subespacio(S1: List[Matrix], S2: List[Matrix]):\n",
        "    \n",
        "    S1_li, pivotes_S1 = algoritmo_espacio_columna(S1)\n",
        "    S2_li, pivotes_S2 = algoritmo_espacio_columna(S2)\n",
        "    \n",
        "    B_S1_li = Matrix.hstack(*S1_li)\n",
        "    B_S2_li = Matrix.hstack(*S2_li)\n",
        "    \n",
        "    B = Matrix.hstack(B_S1_li, B_S2_li)\n",
        "    _, pivotes_B = B.rref()\n",
        "    \n",
        "    return len(pivotes_B) == len(pivotes_S1) and len(pivotes_B) == len(pivotes_S2)\n",
        "    "
      ],
      "metadata": {
        "id": "qZaVhWvM3LJi"
      },
      "execution_count": 11,
      "outputs": []
    },
    {
      "cell_type": "code",
      "source": [
        ""
      ],
      "metadata": {
        "id": "9VofFxnEm424"
      },
      "execution_count": 11,
      "outputs": []
    },
    {
      "cell_type": "markdown",
      "source": [
        "### **Polinomios interpoladores de Lagrange**"
      ],
      "metadata": {
        "id": "fzeGiWDtDF-p"
      }
    },
    {
      "cell_type": "markdown",
      "source": [
        "\\begin{align}\n",
        "p_i(x):=\\prod_{\\substack{k\\in\\mathbb{I}_n:\\, k\\neq i}}\\left(\\frac{x-x_k}{x_i-x_k}\\right)\n",
        "\\end{align}"
      ],
      "metadata": {
        "id": "4mk60BJfDPMq"
      }
    },
    {
      "cell_type": "code",
      "source": [
        "x = symbols('x') # defino la indeterminada x\n",
        "X = Matrix([0, 1, 2]) # defino el conjunto abscisas y el orden en que se realizará el muestreo\n",
        "n = len(X)\n",
        "L = []\n",
        "for i in range(n):\n",
        "  p = 1\n",
        "  for k in range(n):\n",
        "    if k != i:\n",
        "      p = p*(x - X[k])/(X[i] - X[k])\n",
        "  L.append(p)\n",
        "polimios = L\n",
        "\n",
        "#Veo que el primer polinomio es 1 en 0, y 0 en el resto de valores...\n",
        "p1 = L[0]\n",
        "eval_0 = p1.subs({x:0})   # Lo evalúo en x=0\n",
        "eval_1 = p1.subs({x:1})   # Lo evalúo en x=1\n",
        "eval_2 = p1.subs({x:2})   # Lo evalúo en x=2\n",
        "\n",
        "#Veo graficamente todos los polinomios\n",
        "P = plot(*L, (x,-0.5,2.5))\n",
        "P[0].line_color = 'red'\n",
        "P[1].line_color = 'green'\n",
        "P[2].line_color = 'blue'\n",
        "P.show()\n",
        "\n",
        "\n",
        "#Si quiero que en 0 valga 3, en 1 valga 8 y en 2 valga 5:\n",
        "Y=Matrix([3,8,5])\n",
        "p=0\n",
        "for i in range(n):\n",
        "  p=p+Y[i]*L[i]\n",
        "expand(p)\n",
        "plot(p, (x,-0.5,2.5))\n",
        "\n",
        "#_____________________________\n",
        "\n",
        "def pol_interpolador_lagrange(X = Matrix, x = Symbol):\n",
        "  n = len(X)\n",
        "  L = []\n",
        "  for i in range(n):\n",
        "    p = 1\n",
        "    for k in range(n):\n",
        "      if k != i:\n",
        "        p = p*(x - X[k])/(X[i] - X[k])\n",
        "    L.append(p)\n",
        "  return L\n"
      ],
      "metadata": {
        "colab": {
          "base_uri": "https://localhost:8080/",
          "height": 0
        },
        "id": "8fJE6wSwDFR8",
        "outputId": "ba65ba1a-5a47-463d-c6c4-330a14c40d15"
      },
      "execution_count": 12,
      "outputs": [
        {
          "output_type": "display_data",
          "data": {
            "image/png": "[encoded data removed]",
            "text/plain": [
              "<Figure size 432x288 with 1 Axes>"
            ]
          },
          "metadata": {
            "needs_background": "light"
          }
        },
        {
          "output_type": "display_data",
          "data": {
            "image/png": "[encoded data removed]",
            "text/plain": [
              "<Figure size 432x288 with 1 Axes>"
            ]
          },
          "metadata": {
            "needs_background": "light"
          }
        },
        {
          "output_type": "display_data",
          "data": {
            "image/png": "[encoded data removed]",
            "text/plain": [
              "<Figure size 432x288 with 1 Axes>"
            ]
          },
          "metadata": {
            "needs_background": "light"
          }
        }
      ]
    },
    {
      "cell_type": "markdown",
      "source": [
        "### **Coordenadas**"
      ],
      "metadata": {
        "id": "iue9JMJ80q2R"
      }
    },
    {
      "cell_type": "markdown",
      "source": [
        "Sea\n",
        "$$\\mathcal{B}=\\left\\{\\underbrace{\\begin{bmatrix}2\\\\2\\\\1\\end{bmatrix}}_{v_1}, \\underbrace{\\begin{bmatrix}-2\\\\1\\\\2\\end{bmatrix}}_{v_2}, \\underbrace{\\begin{bmatrix}1\\\\-2\\\\2\\end{bmatrix}}_{v_3}\\right\\}$$\n",
        "una base de $\\mathbb{R}^3$.\n",
        "\n",
        "El vector de coordenadas de $x=\\begin{bmatrix}x_1&x_2&x_3\\end{bmatrix}^T$ respecto de la base $\\mathcal{B}$, es decir $[x]^{\\mathcal{B}}$, se construye resolviendo el sistema lineal no homogéneo \n",
        "\n",
        "$$\\begin{bmatrix}v_1&v_2&v_3\\end{bmatrix}[x]^{\\mathcal{B}}=x$$\n",
        "\n",
        "$$\\begin{bmatrix}2&-2&1\\\\2&1&-2\\\\1&2&2\\end{bmatrix}\\begin{bmatrix}a_1\\\\a_2\\\\a_3\\end{bmatrix}=\\begin{bmatrix}x_1\\\\x_2\\\\x_3\\end{bmatrix}.$$\n",
        "\n",
        "Por lo tanto,\n",
        "\n",
        "$$[x]^{\\mathcal{B}}=\\frac{1}{9}\\begin{bmatrix}2x_1+2x_2+x_3\\\\-2x_1+x_2+2x_3\\\\x_1-2x_2+2x_3\\end{bmatrix}.$$\n",
        "\n",
        "Sea\n",
        "$$\\mathcal{C}=\\left\\{\n",
        "  \\underbrace{\\begin{bmatrix}1\\\\0\\\\0\\end{bmatrix}}_{w_1},\n",
        "  \\underbrace{\\begin{bmatrix}1\\\\1\\\\0\\end{bmatrix}}_{w_2},\n",
        "  \\underbrace{\\begin{bmatrix}1\\\\1\\\\1\\end{bmatrix}}_{w_3}\n",
        "  \\right\\}$$\n",
        "otra base de $\\mathbb{R}^3$.\n",
        "\n",
        "Si quiero traducir un vector de una base a otra, utilizo la matriz de cambio de base $M_{\\mathcal{B}}^{\\mathcal{C}}$ $\\in\\mathbb{R}^{3\\times 3}$ que satisface que $M_{\\mathcal{B}}^{\\mathcal{C}} [v]^{\\mathcal{B}}=[v]^{\\mathcal{C}}$\n",
        "\n",
        "Además, $M_{\\mathcal{B}}^{\\mathcal{C}} = \\begin{bmatrix}[v_1]^{\\mathcal{C}}&[v_2]^{\\mathcal{C}}&[v_3]^{\\mathcal{C}}\\end{bmatrix}.$\n",
        "\n",
        "Entonces, por cada $v_i$ hago\n",
        "$$\\begin{bmatrix}w_1&w_2&w_3\\end{bmatrix}[v_i]^{\\mathcal{C}}=\\begin{bmatrix}1&1&1\\\\0&1&1\\\\0&0&1\\end{bmatrix}[v_i]^{\\mathcal{C}}=v_i$$\n",
        "\n",
        "es decir, \n",
        "\n",
        "$$M_{\\mathcal{B}}^{\\mathcal{C}} = (M_{\\mathcal{C}})^{-1} M_{\\mathcal{B}}$$\n",
        "\n",
        "$$M_{\\mathcal{B}}^{\\mathcal{C}} = \\begin{bmatrix}w_1&w_2&w_3\\end{bmatrix}^{-1} \\begin{bmatrix}v_1&v_2&v_3\\end{bmatrix}$$\n",
        "\n"
      ],
      "metadata": {
        "id": "6HyYZ53pu8lv"
      }
    },
    {
      "cell_type": "markdown",
      "source": [
        "![Captura.PNG](data:image/png;base64,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)"
      ],
      "metadata": {
        "id": "R_eUhz_cW9sQ"
      }
    },
    {
      "cell_type": "code",
      "source": [
        "v_1 = Matrix([2,2,1])\n",
        "v_2 = Matrix([-2,1,2])\n",
        "v_3 = Matrix([1,-2,2])\n",
        "MB = Matrix.hstack(v_1,v_2,v_3)\n",
        "\n",
        "w1 = Matrix([1,0,0])\n",
        "w2 = Matrix([1,1,0])\n",
        "w3 = Matrix([1,1,1])\n",
        "MC = Matrix.hstack(w1,w2,w3)\n",
        "\n",
        "#Obtener coordenadas de un vector en base B\n",
        "x1, x2, x3 = symbols('x1 x2 x3') \n",
        "x = Matrix([x1, x2, x3])\n",
        "\n",
        "#FORMA 1: Triangulando\n",
        "MBx = Matrix.hstack(MB,x)\n",
        "MBx.rref()\n",
        "\n",
        "#FORMA 2: Operando\n",
        "#         La matriz tiene que ser cuadrada\n",
        "xB = (MB.inv())*x\n",
        "\n",
        "#Si quiero un vector específico:\n",
        "reemplazo = xB.subs({x1:1,x2:5, x3:7})  #El vector de coordenadas de [1 2 3]^T respecto de la base B \n",
        "\n",
        "#_____________________________\n",
        "\n",
        "#Matriz cambio de coordenadas\n",
        "#Forma 1: A mano\n",
        "\n",
        "v_1C = (MC.inv())*v_1\n",
        "v_2C = (MC.inv())*v_2\n",
        "v_3C = (MC.inv())*v_3\n",
        "MBC = Matrix.hstack(v_1C, v_2C, v_3C)\n",
        "\n",
        "#Forma 2: Directo\n",
        "MBC = (MC.inv())*MB\n",
        "\n",
        "\n",
        "'''\n",
        "Devuelve las coordenadas de un vector respecto de una base B = {v1, v2, ..., vn}\n",
        "\n",
        "v: Es un vector escrito con símbolos (v1, v2, etc)\n",
        "coordenadas: es un diccionario que indica cómo traducir cada vector en coordenadas de la base B\n",
        "\n",
        "Ejemplo de un ejercicio completo:\n",
        "\n",
        "B = [v1, v2, v3]\n",
        "\n",
        "coordenadas = {\n",
        "    v1: Matrix([1, 0, 0]),\n",
        "    v2: Matrix([0, 1, 0]),\n",
        "    v3: Matrix([0, 0, 1]),\n",
        "}\n",
        "\n",
        "w1 = 0*v1 + 0*v2 + 0*v3\n",
        "w2 = v1 - v2\n",
        "w3 = 2*v2 - v3\n",
        "\n",
        "w2_B = coordenadas_de_un_vector_respecto_a_una_base_B(w2, coordenadas)\n",
        "w3_B = coordenadas_de_un_vector_respecto_a_una_base_B(w3, coordenadas)\n",
        "\n",
        "G_B = Matrix([[60, 30, 20], [30, 20, 15], [20, 15, 12]])\n",
        "\n",
        "G = matriz_de_gram(producto_interno_por_definicion, G_B, w2_B, w3_B)\n",
        "\n",
        "area_de_un_triangulo(G)\n",
        "'''\n",
        "\n",
        "v1, v2, v3 = symbols('v1 v2 v3')\n",
        "\n",
        "def coordenadas_de_un_vector_respecto_a_una_base_B(v: Matrix, coordenadas: Dict[Symbol, Matrix]):\n",
        "    \n",
        "    w = v\n",
        "    for vector in coordenadas:\n",
        "        w = w.subs(vector, coordenadas[vector])\n",
        "    return w"
      ],
      "metadata": {
        "id": "nehx1-t40rNd"
      },
      "execution_count": 13,
      "outputs": []
    },
    {
      "cell_type": "markdown",
      "source": [
        "#### **Polinomios**\n"
      ],
      "metadata": {
        "id": "BbcG-lpuPQyT"
      }
    },
    {
      "cell_type": "markdown",
      "source": [
        "![Captura.PNG](data:image/png;base64,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)"
      ],
      "metadata": {
        "id": "Gg9aae5VPCgL"
      }
    },
    {
      "cell_type": "markdown",
      "source": [
        "**Matrices de Vandermonde**\n",
        "\n",
        "![Captura.PNG](data:image/png;base64,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)"
      ],
      "metadata": {
        "id": "SFudFCt3QF0l"
      }
    },
    {
      "cell_type": "markdown",
      "source": [
        "### **Infimo y Supremo**\n"
      ],
      "metadata": {
        "id": "9AW3t3944WOy"
      }
    },
    {
      "cell_type": "markdown",
      "source": [
        "![image.png](data:image/png;base64,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)"
      ],
      "metadata": {
        "id": "UlTYGMZq4sjM"
      }
    },
    {
      "cell_type": "markdown",
      "source": [
        "![image.png](data:image/png;base64,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)"
      ],
      "metadata": {
        "id": "KTtRWHnh5Q5L"
      }
    },
    {
      "cell_type": "markdown",
      "source": [
        "![image.png](data:image/png;base64,iVBORw0KGgoAAAANSUhEUgAAAfkAAAA6CAYAAACzvSBKAAAgAElEQVR4nOydd3iUxdqH7+yGJCSEkkInlEDovYSEEIogitQjSEDKQVQEAQUREBVRPAICIooUpTfpIL2GkISS0HtJo6VserJpm+zu8/2xAVJ2Q2jKOd/e15WLi913Z555ZuaZ952Zd34WIiKYMWPGjBkzZv7nUPzTBpgxY8aMGTNmXg7mQd6MGTNmzJj5H8U8yJsxY8aMGTP/o5gHeTNmzJgxY+Z/FPMgb8aMGTNmzPyPYmn4J5vkqCiSNAU22ltYUaZiJRxsnu1eQJsUxvmLt4nV2FOntQd1HZXF/7EmhpvhQs36lbB+rmv1JF46xvXSHnjVtH0q+19ZsuO4cTKAi4kV8OzeGovIaCq4Vn+yn4pKMkVFXGo2egAUlLB3pmJZKyCLxKgE0nWgsClDRedSPEUtPqMxycTEqckxGINCaUe5ig5YpatQJRtsVJSwx7liWaxeti1mioU2JYo791XonBtTt4LlP23Oc6Al7nogp66ooEoT2jZ3QhWahlvTms/Vv4qXdRzXA09hyLotzZ1UhKa50bTm8+asQx0dwd2YHBwb1qfSP9Rp/nfaSPHRqaOJuBtDjmND6v9DjjeM3vp4Tm9czLxRr+FWqw7eI2by26JFLJzzFR/08qBp89f5aMlpEvXFTFUXwZaPPWnSZy5nkm0oeXcpvZr1YtEtXTETyCZwageaNGrIwLWxFJ1t0demBf9A746v0338lmLm/WTSwo+ydPIIvj+SXvwf6aPZ/dVoFl3SPlfeunu7+f6L5Vx39KRL01Q2jOvByCVhz5Um6Ij2m83QETPYsnsVnw0bw9KAe2gB0m+xcexw/j1iCJM3XiKhuG3geayJOseOWaMYO38nqz8fxeR1foSodUQd/4Hhw8cwvM8Qpq0I4H5xm9PfjpqAOWP49Uz2P2uGPo4rl+7yXFaoA5gz5leKLoqe2KsHmTW0F7OC/uEyPw/6SHZN70Wv8b5Qy40yEesY5vkmIxbsRfWS270+chfTe/XCkHUZItYNw/PNESzYq3pC/CtO4vFc953PiJ4zCPzHqidPGwl+ddqIOmAOY34983x9xCR64q/7Mn9ET2b8c44HeYROYhZ1FStKiOfsENE++lwrUXvHSOOS9tLyi+OSLE9Gc/wTqW3dQCaf1oiISPKmgeJcoop8sC+rGL825Hln40fSwWuA/HIm89mvTdwtHzSoJZ0+XiInY7TGf/4U5FxfJZ+8+64M6dlUyiqspdvS2GL+MkuuzO8ijpZV5IP9xfWBEXSRstKnr/wU8rAsOrm3oK8M3licWnkSOXJl/hRZHKqSDdNmypmcR5nKvV96S5Oxu4pV9y8KzakfZMbOVLkw8zvZmJ5rYehC6ddpnOy4k1P0j/9xcuTOyWNyPfWftUJz8nNp/fZqSXyeRHLuyMlj1+WJRdEEyoQWfWR5cbvEK0jOhXky7dupMm31Y49lXf5RuvZeIHd1LzVnuTBvmnw7dZo8zjpLLv/YVXovuCsvIuucC19L2+6LJOqlluMJaAJkQos+suIVaiM5d07KsZfZUXMuyNdtu8uif9DxxZiHV1Kp+7dMekPJhZ+/YMmNJz8+6VNTUVMWh9zp+TLvrCU87gYLuxV32klJ9QGL8QvYyNhWNs9+bZkOzDh2Bd+FI/Go8PyTzJb1h/HzunUs+8wbB4vi/kpP4tEfmLMvkZznNSDzOHtPl6Jm5cdlsSzrRZf29s+bMmBJA5/G3N8UQoeGGRw+o3mYKRcupfDGwG6UeQG5PAsWQNaN1XzyXQKjN82nT/VXfarPkuoeHan/IqrlmdFxP/Aspdp6Ufp5krGsjkfH+jypKLoIf87Ye+Dt8DyZ/bPo4jWUbDcQtxszWXwiBi1g3fgDZnzqgcNL3b2kI15TknYD3bgxczEnYrSANY0/mMGnHg4vYOOUnuiAIJTu7XH+B3dh6SICOFPag/avUBuxrO5Bx5fYUfXRAQQp3Wn/Dzq+mNGyNHXrVUG58xwHj0QxuX41sm5v4esJv3DZsTUtHGK4GlmXj+d/TeeYJYyZ50+KNoE1H/twtoyeTNVVAk/cofn8cI6MrUTS3mkM+Px3zureZt53NblzPYko/91cqjaBtSveo74ugFl9RrPgZAwdlt5lo48t6CI58MMEZvnmULtxReKDTqDru4gN4/X8VvDa7Dvs/s9kllyxp45rKZJvXCfLfQJzpr5BleS9TBvwOb+f1fH2vO+oeec6SVH+7L5UjQlrV/Be/Rc7gOgi1vPN9ppMGtmQfcdUz5eYZSUqKXczbfg0VO/2oufrrag8dALDHn6viWDv71uJdHZBIjW0HDWUVrZZ3NyykL+SKuBUIpmEtPqM+LgLjkbanKJiH7rpfyCwjQdZK31J83iTUhmBHE3rzqg2T1hP0oZxeGMAZy5E0W76VDrYZxA4dyb3+01nYJkTrFgRQFh2XTrXSeJ+jg2qayl0/GIM7nZPLnbWtaW8N/oQXls206nYnUVDxN7f2RrpjItEomk5iqGtbCHlLOtXBaNzsiVV3Bg82BPxX8Fyv1tkuHaggajJjLpORudJjGxlB1k32bLwL5IqOFEiOYG0+iP4uIsjCkCvOs6yNVewqVaGtJyajB7ihTbsIH8GXuFGnDtTJ7anFIBexfE/1nDVrgqKO/epPHgivWsYv+nUhh1mY8AZLkS1Y/pUD27O9mGR8zyWvVcTpYkyFbKjrz3bVu5h54a7WHX9izV+/RjesZpJO5L8V7Di+G3SXFrjkpaCPukSUa2n4sMhTl65QZz7VCa2L2Woi5tbWPhXEhWcSpCckEb9ER/TxRESAk6T0WYKLibupfOXqwP2GYHMnXmfftMHYsIVpJxdz6pgHU62qYjbYAZ7ljVZr8btSsF/xQoCwrKp27kOSfdzsFFdI6XjF4wx0vCsW7Yg+9sAGkyfjH7fMr7ZnYaz1zA+7NGaZ9nNU/wyW9OyRTbfBjRg+mQ9+5Z9w+40Z7yGfUiP1s++j8jgk2QqOuo5tyeOFl/UyQ34elTH/2DNVTuqKO5wv/JgJvaugRJTPjdOoWvbJJiOATUsSAg4SWSJBhxZv5Kt4Vq6TfqA5ragidjL71sjcXYRIjUt+WxoK+Pp17/MiuV+3MpwpUMDQZ0ZxfWMzkwa2Qo7iopzelTHl7Hmig3VyqSRU3MgQ9omcvDPQK7ciMN96kQMzdu0X4zFDZOeyY0ZyRUd0Z/bQ1yLL6iTO6yYKutL5fFDvanpehERrdz4TxspQQlp8uVZkcwTMrmRjZTts1pUOhERtewZUU0q+myUBBHJ3D1cKpSoL5+fMkzXS8Lv8qa1lXT65UHu1FOOnP2yiZSwc5WBK8NEKyLpm32kbIm6MvGE4Tfaq99JqxJ28q/16SKilWtzvKW0VRv5/lqOiO6e/NHLWZzeXCwR2oLXauTMtJZi5zxQNufOL+tiV0vfcqWl3azLhtzPfilNStiJ68CVEmbIXHzKlpC6E0+IphjTHxq/sVJLWYzpevVpmTViqhyI10nmjiHi9LzT9aKThJO/yajuLaVqKaVYu/STFWG5NaUNlWV928qIHSrRiVZuzJ0oC0I1cmftIOn48T5JFJHUtX2l2oBNRU69am8ulCm/XJZTs7+UNVE6Sd31qXy4MuoJU4Y6UW1ZIKtCbsmcTq/JvHCtSJavjGkxUDYm6yRq7U+y6tY2GerSSqYGpopIumwZ7ClTgkx7+9F0/fSuUqvlCNl6fZdMn7JWQoo1U6+V0GV9pe2IHaLSiWhvzJWJC0JFJEcuzRgkU09oRNL2yqf9ZslFTZSs/WmV3No2RFxfmy83ckRyLn4j3v3XSpL2jqwd1FE+3pcoIqmytm81GbDJ4D1d1Db5oNMQWRuhFe2NudLVa5qITiWbf14pITdnS6eu8+WOTkR0UbLtg87y7w13RSsiWUc+FvcRuyTdqBtVsmXBKgm5NUc6dTH8Pmn3h9Jj2nnJMVEmo3aIiKTvkvdafCB7H65gmbJD97D8Q6VG+5lyOStHrq6YJLO2rZCfVobIzdmdpOv8O6ITEe2dtTKo48dicMda6VttgBjckSY7/t1Y3ttltFT5y/XaPAnXimQdGystfP40vQSUc0lmDJoqhqr6VPrNumjSB6bs0kWtlZ9W3ZJtQ12k1dRASRWR9C2DxXNKkMl+nnP3gPw0ZYJMW7hfQtRpErL9Wxk367DEPuoAWkmKTZQnNsOnLnOO3D3wk0yZME0W7g8RdVqIbP92nMw6HJvb9zSSeOeWhKnSizV9n88nyaulb1Uf2ZwqIqKTqG0fSOd/b5C7hoYgH7uPkF3ppnxuylEFrz0vkSZjgIhImuwY5iavL7ghGsmRM196yaCNqaINXSZ9246QHYYKlbkTF5hM/15uHBni+prMN3RU+ca7v6xN0hYR5wzl7TRkrURotXJjblfxmnZaVJt/lpUhN2V2p64y39BRTfvFWNww5Zh8MSNZVvetKj4Gx5su60ummI9FOpJT1IiFAkdnZ7LP72DnzRzKKCI5sGEd69bt4I6UIelcENeN7S+wKDy3rbCwgJyaeL1huFNSWNtgJWqSkuXRbx79ShfG7u2nSK/YAndXS1BU4/2/YlDt+8hwR5z32uwLbN16ieyqdaibe7OuKFMb1/IZBG/Z8TBzLMihptcbht8rrLGxEtRJybywg/z10fw1fRnWY7+mm7HH5mdCgYPHaBbtPcvd6IvMqh/Iqu130QFZvnP4/mxFXDOOsH7ZL+wuP4BhVU4wd0YYr41+nXJoiQhV0cjbi6IenpV1fGip2kn6W1W5vvEEOw8r6NG30hOnDC1b9qQ7u9mv68ybLkq0t/057+yJlz1Ye/Wle9IZbjYbyTgPe9CGcCWsHNWrFWPWxMqdyT825sTusoz0SWPpPD+S8u5E0kRywc+Xo0ePcvRYMHfSgSxf5nx/loquGRxZv4xfdpdnwDBXQE9m+lVWjR3IuCXCmLWTaWppjVff7iSeuUlDn0G4WYIuJpr7cbGo/OYyI+w1Rr9eDrQRhKoa4e1lB2g48eNXnPEYh08NJcp6n7Lf71vAkla93iJ7+37o8iZVFaA58SNfBbszur8LSkAy0omMiDCxgdGSlj17wO795HToSlUFlKrkhmezOlgaLVNVE3ZA9kV/Ltf0om3uCpZpOwzlTzpzk+bDP6CxtSUNh8/m844d6fNWNoaiVEVBFv5zZxD22mgM7ghF1cgbLzsg+yKBl2vj5WnqqdOSlj27w+796Dq/iYtSS4j/eZw825leBtBnkn51FWMHjmOJjGHt5KYmfFDFtF3WXvTtnsSZm80YOc4De7SEXAmjXPVqxqcwtSmkOXZj/Mw5TOisYef06RytPI7PKh5l5dlsdHf82bjsU3oMWELYE1ctn67M2pQ0HLuNZ+acCXTW7GT69KNUHvcZFY+u5GzmPfb/sZJjoVFcWPo+/ab5PmETdMG6CiO6cXva2QGaE/z4VTDuo/sbZl0kg/TICCIS9MZ9/hT1Y1NEDCD7AgFXmzB4SD2s0BITfQ9VXBy+c77nbEVXMo6sZ9kvuyk/YJjJ9O28+tI98Qw3G/owyNBRib4fR6zKz3Sc05zgx6/O4DHOhxpKJfU+3Y/ft62xbNWLt7K3s58uvGnoqKb9YjRumPC8f/6YERbdmPbt7IAs02V9yRRv9NGncPNWFHqblnR7vQogCBbYVm2KZ7t2tGvnRfevdnPT/xs8nuYtAQtLSlgVxwQdWi2g0/O4bylMGK8hKxsQ8g3YIkC2Js8nFliWsHrhBwVosw13OdmnFzLXP5qz8z5k6NChvPfLCVL1yfjP/4CJ624+vJrsYm661MetY/aSsEflV5Sqz+vt3bC3K4kFOiKCL2PV5xMmDBrEkPfH8/mQVthdPUKgsh2daitBryIgyAL39k5FZ6RwpGcPS46e70CrB5NZV6Yfrz9xMV6BQ83qpO85QE7XPrgp9cQGBCHu3lRQKHCoUQ11YBAlPb1xUoDu9h78bDvzunMxCm5hRdm2Y/nM7RA/X+3CuIbHmLXu9qPdsPqEq/gd2M+BAwc4ePg8D7JBFxHMZas+fDJhEIOGvM/4z4fQqgyAFe5f72Td6Maot4xi8LyraBUO1Kim5kRQSdq2d0RBNhePnaJE46Yk+AaibNcJg/sCCLJwp70ToL3BkQDo9GaT3CCoRKkEFA7UrBbJpr229POpjQVabhwJgM7dc4NCNuf8grBt1IzyxhqewoGa1dXsOZDN633roUTHg0sWVPe0NV4mOxN2oCPCPxh7j/aUAfRF2WFpKH9gsB0e3mXzmFKTapGb2GvbD5/aFqC9ypFAJe061UaJHlVAEBbu7XHi8VqrdxkTI4/CgZrV09lzIIeufdxQ6uMICNLTtn0RN49W7ny9cx2jG6vZMmow865qTfjAtF0KhxpUUwcSVNITb0PDY4+fLZ1NNDzthV+YtSUOUFCmfm8mzh6L3fYlRDR1QBOSibKGNz6DvKiuLMaGnKcqs5YLv8zCkHUZ6veeyOyxdmxfEkFTBw0hqmOs2RRP7Q4deXvSYBw2LeVQVhF5F6ir6IDTKHJ9or1xhAA60z13lMo+50eQbSOalVcY9blJCl2rLyIGgF51jiv2rfEoDWSfx++0HU2bqAm+bEWfTyYwaNAQ3h//OUNalTGdfo1qqE8EUbJtexwVkH3xGKdKNKZpgq/JOGcobyfebJI7KiuVKFHgULMakZv2YtvPh9oWT/CLsbhh3PFcPZInZkQHcFqRGzN0EabL+pIpxhiXReimz5l5wAL3SXMYXV+JVYs+9HJTcv/mXayr16RmzZrUrJzK3sXbufMyXmtS1qF79yaUiD3DyZu57tVHs+M/Cyn0xo5VC3q8Xh3uXue6OvfSpOvcjFJQ543uL8G4h+i4+esbVClTk0EbVVh5/oeA4D2sW7OGNWtW8UOPKohFWbzH/8HcwfVAd5Nf36hCmZqD2FiM93MyT/hxMiVP09LeZv+56gzoXQEFFpR1dKC8k1PuO+x6koL24a/SYlHLDTcr0Efu42B0c9qVWMuvmxOLzMu6tQ81ru3FyqU9bwxqU8z3g3O4dSuFei1cUZKCv380zTxtWLNgEwmkEHBSTRvvGijRcWvHIax79ka/bjE7kp6csqCgSp8p9E9azJ9lRjMwfSnzjiUa3pev3I3xs+YwZ84cfvzhI7zKgUVZRxzKO+GUu+6pTwpiX8BdAqa2x2ejDR1GTGfxV29RtWRJwwxQSiAn4xvjXkMJmnNsO16Bj0Z5otRZUMvNDSv0RO47SHTzdpRY+yubk2ywsa1IlSqPMiBoX4ChWs5v5rDz2/RJWcGSgxmUtLGlYpUquet6R1nrX5sJ49qZ9mlOGGGpdWnuqgTNFQ6l1efNCgrjZQpMNWFHCqeCM2njVQXNyd9YfDyzaDtSAjipboVXtbwLxVrObz6M89t9SFmxhINqHTqLWrgZGhP7DkbTvF0J1v66mdTTwaS3bkvi4p/ZY+qt0pxb3EqpRwtXJagDCIxuRntT+1+yA5ja3oeNNh0YMX0xX71VlZIlLYz7wF9l0i5D0U6ibuNNDSXobu3gkHVPeuvXsdhow9NyZt0iApNz/6usTMNyqRzbF0fZpsXYPPI8ZdaeYd2iQB5n3ZByqcfYF1eWplWH8eeRL2liCdqQi9yt4U6zojql3khdeRp8klTSBtuKVTA0mRSOrvWn9oRxtLMw7nOjmKifomJAvFaHZWUXKishK3g7J6qNYqRHeRwdyuPkVKD9mkw/hcCT8TR2r4ESDee2HafCR6PwVOpMxjkLm7zlfRgLokF7ns2HnXm7Tworlhwkw5RfrLNNx43CjkdXKGZ45saMssbL+jegnD59+nR0d9jy5Thm7wzmRmQaWUl3uOi3iy3rV/LH0j/YdN6Ot2asZOmYloapJksXvF9zJWn/In7Zc5XwS75s3RCAbZ+PeIM9fP3NOoLuJZAYk0mVdnYc/XIuf12JIiEhEkX97tS5NpuJS48RGp9CQnQJ6tcN57fv1hN0L4mU2GQcG1uw79vFHAmNJSE+m6qdX6PzG52oneLL8kU7uRx2gcNb9hLTfCiDXC8x79Pf8lzbjbd6dqDS/Z0sXRVIyM1A/lz4F4mvfc+K//TAMfUAP0xcyrHQeFISoilRvy7hv33H+qB7JKXEkuzoweuNTGz/TD7CzNHfsvJIMFfuJpKWdIfzfgEk1+5C8/IWpF7by2b/ROr+6wN61sudutReYcX4ySw+epFQVTrpsbcJ09ejW2Nrru3djH9iXf71QQ/q2Rb1dJBN8NrVnLwXwt3MUtimXWPHb3+S5TODj5raY4EFdjUdubvLlwxHBbf99uKfUodu3Zsix315YJfFxVO3uZ+QTalse1z7elOnqPwU5XDN2MpYv0Z8+14L7Iv1JoGCkinB7LtpQ6moAC6GpKK1y6JUrd54Vz/L0p+T6TalD3VK6FGdOsjNkqXJsm/O260rUaJASrrbO/lx7gaOhdwn5oYfftf01GrtTstqD1gw/ldUjrac/m0ht2p2o7NrqUKWWNjVxPHuLnwzHFHc9mOvfwp1urjjmBpHpoMDVqqTbA6wp//oblS3gaxjvzHLT41T5dJE7thF1tC5fOZejgpOGfj5PsAu6yKnbt8nIbsU2fau9O3gTv1SV9h5UnCWmxzb609KnS40rlIS7X0/DkaUxjrLAc9/NaduLTsubfMl3VLFgXVBVJ80j5GNithMpShF9pVdBEt5MoKu4fzW2zQsozBeptffwNPpqhE7rIjy9+W+sy0Polzo06suLjVM26E5voT5CV2Z0tctT11oue93kIjS1mQ5ePKvFg2pkOGH7wM7si6e4vb9BLJLZWPv2peWdmfxDdGQZt+Yd7xrYfR9GEVJUoL3ccu2HA+W/Yc/LPvz/cDGxq9Fgyo2EwcHK1QnNxNg35/R3apT0pgPunWnqRw3apd7HSXHl/xMcrcp9KlTAr3qFAdvlqR0lj3N325NpQINTx/lzz7f0/y15TBhSQmEn9jA8iPhOL8xmfEdnAyzJTnX2L4xmQ6DvXB60iNSscusJ8p/H76n/2LL4TCSEsI5sWE5R8KdeWPyeDo45W6Xi/Nj7vxwes+ZhEeZIjJXlscpT12FPEhAY5eDvWtfOrjXo9SlbfimW6I6sI6g6pOYN7IRtiZ8/jT1Y1NEDOjYshqZJw8SKvHs2ZvN8LnjaVW6FDUd77LLNwNHxW38HrVfC+PpZx3jt1l+qJ0qUzpyB7uyhjL3M3fKVXAiw894nKtbtSZ2V3ZyUpyRm8cexYIqJR7gdzCC0tZZOHj+i+Z1a2Fn1C+gUcUajRtGHE/5vDEj5AEJGjty7F3p26EZDZ2MlbXkExrRC+B5F/V1WcmSkJQuz/8WenHRSnpyqmQVa/dJuiQlJEnm32fcS0InqshoyZFMibnqL4eOnpV7aiMO0KWJ6kGspOf9SqcWlSrVUD9ZSZKYVsz3NXVJEp/wtO+j6yQt5o5EpmpFdOkSH6/O3SSUJUlJafnsjI9Vv5D3f4u0RfVAYtPz55IZf0fCI5PzbCjKkeAv2kjvZTGiVqkktUBb0alVosr9MCspUfK6T6uOlgexBTdC6UQdGy9peT/Spkp0dPKTN2s9IksSHkQXssVUmYzaoVWLKjatwGcm7MhKksS0gh+KiE4tsfF5v9Dl8VGWJCU+TF8rqdHRklxEP9NE35CQWLXE3Hsg+8a0knfWqZ5Q/5kSfydcIpMLWmvMB6bsEslKSspTFzpJi48VY13HUIw0UWeKiC5NokNuSHhMWuG4lr5RBnWZKTeLEVOepszaNLUYso6WkBvhEpOWPwNd7AlZ9etWuZqmk9QAXwl64v5d0z55VF+FGoIpnxujiPoxGgNERJcmsbGphXyqS1MZ6UeF088J/kLa9F4mMXn65ONEiopzWlFHF+43OnWsxOfvqCb8YixumKaomGG8rC8XCxF5YXvNzJj5r0MXypwu75Gz+BhT6730A3v/n5LB1vc74/+vg8yt/Sfvf5PD5NVjafhfdiaxPuo0O/auZd6COHpNGcm/+r2Gm8ljPF5gmdMCmfb6UDZklMHeQtCU68PqQ9Np/aofF/FC0RE6pwvv5Szm2NR6L/9o7f8hzIO8mf/HqLmw8Rc2nVZj69aJwSO7UcscPV4CeuJObmVfpAJJs6LtO72o9wxL3P9d/H8s88tDfWEjv2w6jdrWjU6DR9LN3FGLjXmQN2PGjBkzZv5HMUvNmjFjxowZM/+jmAd5M2bMmDFj5n8Uwyt02SmoYuJISkklNTWVtEzBppQNSiArMQpVfDLqtGwUdnYU6+waI2TdP8uRw/5cjlFS3sUZq5hQ7lg4UO4lb77RqaMJDwlFpXPE2f7p1nG0cdfxP+pL0K1klOUcIfwGsWUrUu4lbXj5u/MrTAbX1n3Df7bdJNWmCvWrlX7mu0DdXX/Wr1rC0m1RVPdqSvmC78m9dHSoo8MJCVWhc3TmKav+FUBLSlQ4oaFxiLMTpf6Xbsd1aqLDQwhV6XB0ti/+JiptHNf9j+IbdItkZTkcCedGbFkqvtQOoiXuuj9HfYO4lazE0C1jKVuxXHGFP14SWSTcDSU0IhHLCo4U+QbuK4kerUZDVnY2OTk5ef506MQCS+XTNvhXs788z/jzolAA6KL9mD10BDO27GbVZ8MYszSAewYxcW5tHMvwf49gyOSNXHoGMXF9YjBLPh7AR4uDyajSjCalb/DnT98xcvAszr/gwhjJ/Rn1fPVE7ppOr17j8aUWbmUiWDfMkzdHLGDvSxGW/rvzM2HFvWWMn5fDgC8/ZoBH7sEpZHFz+yJ+37aLLct/YuHu8GJpLyurezPk0294RzOXrzYmvFzDjWFEQ/vlake/YPSxXD04i6G9ZhU+8Om/HH38dXznj6DnjMBi18VL1Vs3nek/pi//RHQxXN47l+Hdp3E0CyCbUzO64v3ZftQvNJ8kElNeQmF1dzi2fDyvVXah+9RlrFmzhjWrfmfeZ91wa42ChYYAACAASURBVDudc0UctmeUV7K/vBp68pYAyuq9+XFBBF8HdmNkXxUr6rxJbUsAOxr37Ijt0hBGbB9Lu6c8hU8fd5gp/5pOxuRtrOhRMfepsB7DY/axwLcl3z+7wFIxUVChZUMcFU1p5PUUmWkvs+mcguavv8v4Xq0pR2uat21G2Z5fP1VA0SddZONvqzgZb4mNUhCdFqtaPRg5sis18p5Y9YLye15EnUJaGWfK57nhzDo1g0/2tWLTsl6U1cexYfhQfqy6m6+aF+c5xhJn51Ikxyehw/Hvfe1FUYGWDR1RNG3Ew6ov6eJFP6d6/Fe8uaWoTGu3Mli0aojHS+8nfy+KCi1p6KigaSOvYqq7abm86RyK5q/z7vhetC4HrZu3pVnZnnz9EjuI9vImzima8/q74+llyJS2zcrS82VmWlyUNeg0oh+tFq7O/cCSGt7vMCCtLi/yeBVdyAbW3BzOp31ecCNU1qJzlxpM/6YDH0wfx7sPT1TWtoevLuHytNMkr2R/ecbx54VbkYtlAx8a399ESIeGZBw+wyM18QuXSHljIN2e9phdfRSbxr7P3lYzmf1ogDdgU7seb3Tw/lu0jZ9Jz1cXj6ZkOwa63WDm4hMY5J0b88GMT/EorrB09gV+/nwdVoNms/DnucydN495P//E521vMOvrrUTnjRMvIr+XQhZ+Kzdi6d7BIKuocMSzaRYbVp8s5u//yTnEwhraL1s7+sWiI8L/DPYe3rxC8tsvBn00AUFK3Ns7F3M56GXrrZvI9R/Tl38WFFTq8AEfv1XrBS4jZHF5004uPu1TdTFJDAzkZqP2eJUGtLc5dykZUFLZtTalnzq1V7O/vFp68oqK9Omm54fANnhkrcQ3zYM3S2UQeDSN7qPaPPXTT3bwAr7f78rIS4VVzyzKd+N9n9rcPbyOgDMXiGo3nakd7MkInMvM+/2YPjBXw9eolreCwCdpRBeh51ssbW/rlrTI/paABtOZrN/Hsm92k+bsxbAPe1BceefsoK3c85rMhFp5H9mVOLQZzYgDU9gb+y/er6h4Yfm9CEQkvwqfPobrt1Mo9drDEz8UlCtXishDNwDvp0i3mBea0Gx+Gg1moxra2jAT2tEFNKa9yoEmgr2/byXS2QWJ1NBy1FBamaqDh+3TqTSWSj2Rme34/LU4thalIV7c9PUJBJzOoM0Ul8fLJib1svOjC9/F0kNZVKtqh8Qc4kDWx/z8Vig/fTeXTRbvc3TFANIP/8y3P24gc+Au1g7LZv+P3zJvZ2mGzvbGSqVFfTWY9K4f0DbuIg+yEzlzPIHXv/uKruUV6JOC2Lz5JpTKIux8BM4+U3i/ddknDLa59idXxFF/jj1xLfjiscj2E3zyYvXWi6vz/qL15Q1FNdaWUzi7fhXBOidsUwW3wYMxJeOuvrKBxXtSqOTqjFJzBVWuVog+xo+FX33PauUo/Jf24cGO7/j250CqDx9Hnci/2JHQh+Vze1E6dCs/bYimRn1bws7H0uaTyXSrrEAX48evvx7Hql5tbFOikBYDaXHvN75cfYa4zov4OcqJ5m8PpUMVSArajKH6wzgf4YzPlPdpXfZpB7EMTvlfoFq7b6ii0BG94w922XxLy6bNGPEBJPmvYGFAGNl1O1Mn6T45NiqupXTkizHuxlU08/UXLWGHNxY5tmRc38SiPWoqloPEZA0N3htFF0dFbvxIooJTCZIT0qg/4mO6OKbgv2IFx2+n4dLahbQUPUmXomg97UvjCqOvrp68iGhvysIpv8jlU7PlyzVRokvdJZ9+uFKinvoMPo2cnlRfSnrNkTATxz/qVFtkwaoQuTWnk7w2L1y0kiW+Y1rIwI25assmtLyfqBFdhJ7vU2l759yVAz9NkQnTFsr+ELWkhWyXb8fNksOxeQ6HTIqVRBPnHGbuniSTdmca+UYrYT9PlLkFz8V8Un6aRLlzK0xU6aYrQ3dvr/w4cbx8+umnxv/GT5Q5+x6YPFIx+a/3pOmgTZL0yKbLMr2lk/hseeyhtNW9xb7dLLl3fL2sWL1WVi1fKYdCNSJZN2X/quWyfI2vROQpWvyat6XF6MOiNmn1o8yMajY/jQazcQ1tnUnt6Pwa08Ei2lBZ1retjNihEp1o5cbcibIg1EQDNtLOBvwZVlhD3HeMtBi40aAh/jTpp+2Qfzd+L1fPuii97IJo5PSXb8uUE7ltT71bFv5x09DefT+Wum8uFlXudSc+ayydfjJoxYvGT8bVbyAjdxuOXs06+rHUrfeebI3UiYhG/Mc3lreWxoqISPKavuLc4ScJ1Ypor38v7dpMM62vLYXtT17dV6r6bDbYX2yfPElvXUS0SRJrqkM+5Cl13p+kL69JvCO3wlRSRLd87AUTbTnn0gwZNPWEaCRN9n7aT2aZcKY2dKn08hwnRx+Fs6XyZuUBsim3e2r8xkmDPitz20Wm/PVvV2kxxVeSI/bKr6uDJDn9uExo2VXm5/o3bf9H4vn+LknVXpO5nVrIWN80EdHKjZmeUmHgFkmXTNkyqLoM3Jw3QibLmr7O0uGnUNGKVq5/307aTCtCd94UmhPyWb2K0nHMLJn93SfyeoO+siJWHhZM1v60Sm5tGyouraZKoCHIy2DPKRKkMZFenv7ypLFFG75S+ncaJ4eTRCR5jfStNkA2pRaIH6lrH33+eMypIe1nXpasnKuyYtKP4ptgpNJfQT35/DM7yjr4tFzLovSBVL2+kRNEoOgxg0pPPdOgJTwsEudGzR6p/zxCn0JYeCbVHVrSs7uO7T46Oi90Qam9jv95ZzynGKZTH+ry7ni9HGgvP9bytvaib3cVSxc1Y+SPBo3oS3k0ovP/7mIePd/HmtqrFxmejnLyaHvbKvLbn5LmSLfxM+macoPdf0xnun1/vvwsldkrz9Lls/L4bznCloUbqLz8MF/UfcrVZouC09hF59fJJ4EV+zOpVVc4OX0iOe8vY3rnwtOUimrd+XzOMyjt6e5wcO4MFgS7MG9RPx49RFhYYW0l6PMsLej1OiysSlLFrTRZD1yoqjmPaw0rUFZDG3aQ6PZL8j0NOQ76hRk3xzBo1DXGTx1Dp2qmfPVYs1k96D0+WTsZV8ssDs/5nrMVP6TfkfUsU8VQfsCHJn7/UEN7h0FD++JjDW3LVr14K3Mj79CFJVUVoAkwaEyvWUQNpRI+3Y+fUknW4Y/4/mxFPux3hPXLVMSUH8CHrsbtLdzOGtHeqzQtc7qj2+6DrvNCXJRarvufx9lzCvZAlu+cYqeffTGQy7W9mGsLZPkb9LJ3GPSyL+fVyy6EFW7tq7K/f2MC3F/jtR5DGPXvuigBnWWJfFO5CkXeFqRAYVGJ+k2dUAAWtrZYO1WlcQUFoMDW1or0VDU6nCkzcDmXO6cSc3grW5MS0KvUROkwqbFd0P6LYdE0bt8Ou6fwySO99a4p3Nj9B9On29P/y89Inb2Ss96fUf70Fo5sWciGyss5/EXdIvZ/GHTe89bRDf/zOHl+Xljn/ZG+fFdSbuzmj+nTse//JZ+lzmbl2Xb4JKxjf2Yt6spJpk/M4f1l0+lsch7/oZ544basz0zn6qqxDFQP4r1P1jLZ1Zgjddz6cznn6nyJZ66hinJOOOR9a0WhyLdAprAQajRsRZka9oypARrfMfwVb89HF3ez8wqgtsEq/Brhl8+z8XYTpnkYWlS9Sb7c1VpjjTE92zIMXH6ZzqkxHN66laQEPSp1FDqK0J43Vpo7AZyK92T0d5N5t1wS1Wz+pI0DZIddJtSpKl59u6NauohmI3/Ewx60l64QVq461UwJF+brL0WNLVkcn/cDEd5b6VgWtBdDiW7YHi+7LPyn5okfl0NRNfLGyw7IeTjmNGf4T42xtoThsxsatcP0+GO6/l82ioL/dezZA8uj5+nQ6gGT15Wh35PFxI0ma1fKDrtSdoVWZbVXV7D8WCYWDjWpnr6HAzld6eOmRB8bQJC4411BQSFd3jxa3kVrRBeh5/s02t7aC/wyawsGeef69J44m7F221kS0RQHTQgoa+DtMwiv6soXs+r8hPxSjq1hU3xtOnR8m0mDHdi09JDR7qdPusaR7dvYunWr8b9t2zl6LbnwZj5lDbp9Pocv6p9g1ooLj3c8K52p4CSkpz3coaEnVZ2BlWN5FBXfwDMnGItyes5G6UEfy53UxnTvVC5f0llnljH/UlOm/GdsEQM8GNVsfhoNZpMa2qa0owtqTOuICL6MVZ9PmDBoEEPeH8/nQ1phPDdj7awt3hWdCmiIxxIQJLh7V0DxVOnriAg4Q2kPb8roQXv1iEm97MLoUTSfyrGTaxjfrRpxG97jjUl+ZBi5Ugquo1hYYW39uDNYlLDGOk8D1+v1gJ6kEwv56KMF3HbpSv9ezaigKLDMU9Bb+eyPJuC0Itf+4vrkCXrrmUpqePswyKs6T5R6fwqd96L15VUcW7OJ+Nod6Pj2JAY7bGJpUSLvRbRlK/ev2bluNI3VWxg1eB7GZdx1qNUZWFpZFT/mWFhjZ5fnLiBbQ05pN7x79qFPnz70GTKfY0enUD87kyylJSUeJqywxrrg+qzuHjdvp4E+iRMLP+KjBbdx6dqfXs0qoHiGQ1MfrceXAShH//Ef4moRx+5NfmjsHKhRTU1gUEk8vZ1QoOP2Hj9sO7+Os9HU8vcXRVFji/YmfqdL4N21Hpa5ccLC3Zvy+vzxQxUQhIV7e5x4POYE23ngbWIZxcB/i568dWt8alxjr5UL7d8YRJuCusX6BC7u2cel5KJ2mNrg1fM1NGdP5teXz7jE6u22vP1uTcOT9K1bpNRrgasSUvz9iW7mic2aBWxKMKbLm6vlnViURnSCaT3fRIun0vbWnlnHosfC0lRuWI7UY/uIK9v0KdxbfIrKz2HYnxz5sgmWaAm5eJca7s2M2qwoUZLS5cpRrog/e1tL42unCgc8BrQj7fBxoh5VbRk6dG5OfEQ4hrijJSw8iTavtQMsady1HNHZ9qT530TzwBd1o3dpku9OW0eE7yEyPd7BvcidSiY0my2eQoO5CA3txILa0UY1pmMo6+hAeSen3KdAPUlB+wiINtbOC7dPVcsOuFmSX0M8xR//6GZ42qxhwabEp0g/ldPB6bRum8jin/eg1pnWyy5MDmcXzuNoaQ/eHvkli/b8hGfsVRL0oLApiY0IogfI4N69WPR5h2cx2JX3v5L3KwC9io0//IbVu9/xToMyEJdAsh70YTvYZuLdJb0R+z1LrOXXzUnF90lReutPeyZ8sXXei9KXr8qwP4/wpUHknYt3a+BelMi7ibacHTCV9j4bsekwgumLv+KtqiUxLuNuReNuHbELu/l4064mk8wiNsUVHHqt3XvwWs5lLsQ9TCCd4H2+JDR8g852Fzl182FiGZw54Eu0HkqUUKLVATlXOXspA61qIz/8ZsW7372DofqT0aMnbMc2grJBn3CRPfsuUeTw8Gg93osqDzfFWipI9J3L4dLdDTEkJYCT6jZ4G4I8Ow5Z07O3nnWLd5BUKL38/SWdIsaWRGusS7pQq5Yl6CLYsTuKFt5uWBqLH+0M8QNyx5xWXhT5nPJK68nnQ0E51wy2jvWj0bfv0aKAmLj+7kpG+CxH3hiMZ0XTgbtkPU/q3fmdWX8lUc7RAtW5vWz86wFNRn6ARzlDmoqSKQTvu4lNqSgCLoaQqrUjq1QtenvXp4azCS1vbxfOLDWlEd2WJpVM6Pl616VKEZra+QsZhf8+X07/tYXDYUkkhJ9gw/IjhDu/weTxHXAwCEtzbftGkjsMxsuIsLT29lGO05EubgWDh5AcdJQbtbvg+fB3xcpPT5zfXOaH92bOJA+MyklblaNKzZrUqlXL+F/NmlQp4vQhiQ9g5V4FvYe2y909rKBcIzfiN6ziRuUGlAtfy2+nmjPlq9epZAkW9i6kBl1Exz3OX0mlSv9uNMx3KocQ67eCA1b9GNau6F3QRjWbS9qZ0Js28pJQERra3jUTOJ5PO9rViMZ0W+o0cOLuLl8yHBXc9tuLf0odurhXNRJ08+pGn+a3+Vsp9+4PvNPA6pGG+E2bUkQFXCQkVYtdVilq9e5As0bFTV9HlL8vIZo07Bu/Q6e2VU3qZdcpdAqKjvBdc/kzxJZylmrCAk6iaT6AbvXLoHQsSfRfuwmvWBntjfOEh5xhV3A8Tm4Vid+7kg37zxMt5XGtFM+BZevYezYSvbMrlZMPsWLtHs480OJUx52WJa+wOyiLyqUjOXlOi3VyAOfVrrTq1JJapQqPUMryefW+Q3iQoMEuxx7Xvh1o1rA4Pime3nrOte1sTO7AYC+nojcBFlPnvVj68vo4/ObOJ7z3HCZ5lDGdr4WJtuyYSmymAw5WKk5uDsC+/2i6GRcrp0R1D1qmbmXxsQxs9REc37OXw0eCuaerSiOXaHb+vp7956JR1mxGxZD1/L7xIBdVOhRlqtO8VlkUJd3wahbLxkVHiZMc7p86zINKXfGs3QDP1tns/GUHMSV03Dt5lPvOnWhX0x4nyzA2bAvFMjWFkq29aVjZmsTg3QRlVaZ05EnOaa1JDjiP2rUVnVrWIGHVCHyWC28M9sTY8KBPOsOmhT+xcN1JsivWQBNxhlMnfNm7ehYTf1YzaP5ImpeyQHN8CT8nd2NKnzqU0Ks4dfAmJUtnYd/8bVpXKniyVv7+4l3LxvTY0tGdBqVvsN8/jqSrG1i6vTQ+P/jQyDZ//Lh9P4HsUtnYu/bFvY6S40vmk9B1Cn3dijrV679KT14nSfEJT7+Zwkg6aZGX5fj+/XL8qkqM7ZnQpcXInchU0YpO0uPj82k9m9LlfZJGdFF6vsXT9tZKmkFYWtKiQ+RGeIykFRaWlo2DushME8LSusQ7cifR+G4cTeQdeZDPGU/KTyexJ1bJr1uvSpouVQJ8g+SJctLPgPbqd+LRYbaEFCySNlnCg47KsfP3pKAcfc61NbJ0/SIZ99URIxsYtXL1Ow/pMDuksC63EUxpNhdfg9m0hrYx7WhjGtOiSxPVg9hibaTSqVWiSjwr0zy6y+KofKLREnMnUgyS2vESr87/XbHSz22nj/xWpF52frLS00WrS5Po0FCJUhfU3U4XVcQ9ScwRyUp4IPdUyZL1LOLW2lSJehAvmSIiukxJf1IiRdlfDJ88SW9dRCR94yDpMvPmE9tasXXen6Qvr4uVE6t+la1X00SXGiC+TxZ5N96WM+PlTnikUR1z4wVIlAf3EiRLp5aYu1ESr9Y8pT65RhIf3JXYQvuCcyTpwZ1Cm3s1iQ8kMim/cdrUKHkQb0hAl5n+bG2oKLKSJClPf9WlxUusuqgGUqC/SNFji4hIzpmp0vqNhfLgseC9yfiRlZQoaVI8XjU9eRODvJki0UXKqa2/y2iPhtJ/5lo5csvYLvoXhzrga/Go6SpNmzWTZk3rS6dvgl/ADVhhtCGzpUP7H+RGcUbkh+hiZOvUj+SPS8YsypEL01pLxzlhxRrk/xvRhs2Tzu2+lSsvo0LMFBOdRJ7aKr+P9pCG/WfK2iO3xHSPTJctI9xl7N5k0dxaLEN8fpGrpnZsF4laAr72kJquTaVZs2bStH4n+SbY3AhebXLk2h+jZMq2GNFJohz+5DUZtinmbx1w/wnMUrNmHpN9hQUDJhI2aAEz/lWPMsV8aUCfkUG2rW2B6U4tiZfWM2XSAVovWMsH9f7Zk75fBtk3drN4ywki1DbU7DSIj7u7/cPnmZt5Mmad9/+/6Li3ay5romvT0CaKKMc3Gd6j9jOfefDfgnmQN5MfvZqIIH+uWDTjrbZVnvkoWt29U+y7ZUWz9i2pZnyJ0YwZM2bMvGTMg7wZM2bMmDHzP8ordwKzGTNmzJgxY+bF8A8uIWpJibrDfZUO58Z1qfACLNHGXSfw1BVUVKFJ2+Y4qUJJc2tKzSJeX30BuRJ3PZBTV1RQpQltmzuhCk3DrWlNo++yvzJoU4i6cx+VzpnGdSu8MmvJ5jo0Y8aMmRfH3/wkryZgzhh+PZOdT/83uNAZGnmuKxb/kB77q6w3bYS8eur62KscnDWUXrOCC2t6qwOYM+ZXiu3+F4K5Ds2YMWPmRfM3P8CVxMWrH071rAz6v3XKYNGqEW0LbW/Mc11xeAl67PrY3aw73ZrBvSqavBN6pfWmjZBPT71ya+qUsaBVo7aFd5eWdMGrnxPFdf8L4UXWYUYEfrv9ua+J4m5kZVwq2VC9Y2861Ci8A/C/rQ7NmDFj5mn4m5/kLanu0RGDpPfD84bbG9H/zXtdMXgJeuyiDuNqaGqRZ3L/d+lNF9BT10UQcKY0Hu2NqC9bVsejY/3Cgh0vkxdUh/oYP35f5I9Vp8EM6VeH6nX6M3RIRyz9fuWP46pCNwz/bXVoxowZM09DoSd5U3q3KWfXsypYh5NtKuI2mMGeZTGqyd3wCitWHOd2mgutXdJI0SdxKao1U33g0Mkr3IhzZ+rE9pTSJxBwMpISDY6wfuVWwrXdmPRBc6zCDvJnYJ7rkvyNpjfty26PtbT/IT32F683rSFi7+9sjXTGRSLRtBzF0Fa2JnXW9arjLFtzBZtqZUjLqcnoIV4k+a9gxfHbpLm0xiUtBX3SJaJaDKFVwjWu5dFT1ycEcDKyBA2OrGfl1nC03SbxQXMrwg7+SeCVG8S5T2Vi+xz8V6wgICybht2bkhGpgbBgYj36UfvOFdQl4rka1YLPPuv8aEDUq47zx5qr2FVRcOd+ZQZP7G1QpTNRhjzOfP461Eez9y8VnT8dRm1LeKTKoqxAu3+Px+nPZeyL/pAeeWQVX4ZmuBkzZsy8KuR7VtGFLWfgoB1UG/Y+Pv06wJWThi+0l/l1/nVavz+UPuXD+CvgLlr0RG//iIHLbek/6l2axe7k98O3id57DmXPhkSvWk5Iq/cZ2rYKNlbp7NsTjUdbPacPnSNBD2SeJPB2bXoMf4+hQ7qgXTOX3Smx7Mh3nd54ejYFlZjK0W3qBGr5zeaHXUk0Hf4VU3rksOGL2RyJe/zspkuOI6kIQYenplw3pk6ohd/sH9iV1JThX02hR84Gvph9hIfZZifd5XZ4LBlPnP3VEbZ8IIN2VGPY+z4Y3B8NaLn863yut36foX3KE/ZXAHe1oI/ezkcDl2PbfxTvNotl5++HDYPcOSU9G0azankIrd4fStsq1miDDhHt0Rb96UOcSzAYknkykNu1ezD8vaEM6aJlzdzd6GN3sCfag7b60xw6l4A2ei/nlD2p/2ApP+wrw1vv9OVfbveZP3Ej1j2HMrBfYxK3bSY4x1ACffR2Phq0itIDPmLwoPfwuD+T7/dlmCxDAWc+dx3q7h0nsVYPwwBfCEvq9qxBwvH75NVMerF1aMaMGTOvFnnCYRF6t/pM0q+uYuxANYPe+4S1k12xNKrJbUHKnQp0Vy1lUfPh/NTYGkuGM7t+IhF3dWRufAe6LKGqArIvBHC1yWDm17OCrBii76moqFbwVq+38l2X4tW3cHqFpHyfX/9df38f8345QpTWMEEv6sucCr/CZ/dLG24oLCyp0vVTJrxZ5fGd0YvUm87yZc73Z6n4YT+OrF+GKqY8Az50BbKN6KxrCPjxK854rGFRDSVKPmW/nxJIfKTD3Hz4TzS2toThs/gk4i66vHrqZHMh4CpNBs/H4P5o7qkqguVb9HorE4P7q6Kwfqij3IwPf/SgDDqu37hL7UEz6OyoQBdxjdvW1alhCaDhxI9fEey+mkUuSiCHjPRIIiISgApGyvDi61AbHs2Nq5tZFZl7C5hzkeBrSejSckUlJJGbKdZoqf74kJ8XqhluxowZM68Yjw641V6X7z3cZOwx4yIL6eG+suybf4t7tbby/ZUcybkwTVrWHy8Bhc591krY3M7S6cfQ/OeV51yQae26y293taITndz7uat0zBUu0Zz4TBrUnyCBmoLXFZFevrSD5bvJKyU2jw13106SmX4X5Mfv1j0sQZGCMoVKETpfPp93q8gz13OCv5PJKx/nKtq7snbSTPG78KN8ty5CVvm8Jt9fyhGRLNk7wk3e+bOwhMujn17/XjzcxopR96eHi++yb+Tf7tWk7fdXJCfngkxrWV/GF3a+iDZM5nbuJD+G5rU8Ry5Mayfdf7srWp2I6O7Jz107yuwQrYho5MRnDaT+hEDDlRemSbvuv8ldba73w+ZKpw6z5JZWRHTRsvittvL1hRwR0cmDRd2l3bSLhnP0C9qkCZQJ9d1k3PEs42Uo7MznrsOcC+tl3dk8PknfImu25PG5JljWrb+YL+8XWYdmzJgx86rx+JHElHZ3dgBT2/uw0aYDI6Yv5qu3qlKypAUWRjW5o4EUAk6qaeVVLd+RqNrzmzns/DZ9Ulaw5GAaWp0llV0qoySL4O0nqDZqJG2tCl6XbjK9gvzd+u+5ub4wvWmLso44lHfCKZ8/75rQWbfBxrYiVaoY0SZOCeCkuhVeeYWPC+ipp4sWnWVlXCorISuY7SeqMWpkW0DL+c2HcX67DykrlnAwPVdHuY23YV09I5DAqOZ417cEfSR/7Vbz+tvl2fHbOrAomc+mlKNr8a89gXHtLIyXwZg3n7MOLRvUJufyhUdL8QXJOH8VnVv9AhtRnrUO9SRc3MO+S8mYMWPGzKvK43inqED/sZ34aud+TiVD6OU7WLYejLsyjkbd21L63gUCAo4R3PhTJrgqUeoHM6b5f9hyKAhP7W0u37Gk9eDWoDnEqXtN6NE0//tXer2SSpV1HA10oOOI0rjU6EuFVds5QDiHnf7D6o/dUALZ+a6zA02A0fQKonCw4PQX/Rnm3YP2NbRc3+/LvUYfMevDRi/Dbw9zxcHiNF/0H4Z3j/bU0F5nv+89Gn00iw8b5bpWH4ffvN/JGb+CyfVM36YoKvRnbKev2Ln/FMmE5vqzBWXud6dt6XtcCAjgWHBjPp3gilKpZ/CY5vxnyyGCPLXcflhXgCb4FPea9CCfu/R6lJUqozsaiEPHEdgplbzVtwKrth+A8MM4/Wc1H7spIeAIUwAAAoNJREFUgWz0ykpU1h0l0KEjI+w0+J66T/NeTbECsi+eIrR+B1pbAzodFqWrY3t7F1nNBoCyNO+Oacp3a3ewr949jl9oweI1H+Kq1KFrZKQMxnzwvHVo1YqeritYtb8CI96ske8gG03EPlZdr4PPvwu2o2esQ/09Nk4dx7bOO+jetCxmzJgx8ypS6Ox6fXos0RmlqORsm2dXXhYJd6PRlK1G5TJ5n4N0pMXEkFm6Es62D6/WkJykpWy5gtJOetLikrBwduThN/r0OBL0DjjbK4u4zlR6edGRnpaDXSkr0mPCuZ9pTzWXCtjlG0ky2PRubyKmHWCKkfXcQilG/MJXf3Xn+09rm55B0KWTlmNHKat0YsLvk2lfDZcKdo+v18dxcu0molsNp6/LBY7faE2nNkWdoaYnPTaajFJ5/QlZCXeJ1pSlWuUy+Z5CdWkxxGSWzl9XmmSStGUp6C59WhxJFs44PvpcT3pcAnoHZ/K7P424JAuccy/UJCejLVvWUBfalP9r745REwgCKAw/CQjCLhslEE8QCyWdnV0gpYQQrMTWK1iJF7DwCBpIYZMqTdpYpA6xyAVEWDCBVdENrmlSaEACi8Xu7P9dYJh5xWMYZkZfK1un1u9oq5ncb2cvv403lRucKe/s75cPzWFnNkfKMND0ZaDheKuc9aG396IuCwt9npRUq1d0/vc4/egZAkB0JOODmmCi18cn3Xd7cqstNW/vdHXx39dovnw/rXToB2HmGrWv1XhYyrFT2q6zuuk/q1OOygOyMRMmQ9/TbJ1Rzg675mQIIN6SUfIAACQQd4EAADAUJQ8AgKEoeQAADEXJAwBgKEoeAABDUfIAABiKkgcAwFA/snVCqHjJZNsAAAAASUVORK5CYII=)"
      ],
      "metadata": {
        "id": "Jhcs1KNKASIY"
      }
    },
    {
      "cell_type": "markdown",
      "source": [
        "Por consiguiente, $dim(\\mathbb{S}_1 \\oplus \\mathbb{S}_2)$ = $dim(\\mathbb{S}_1)$ + $dim(\\mathbb{S}_2)$."
      ],
      "metadata": {
        "id": "frh2qLhIqTzn"
      }
    },
    {
      "cell_type": "markdown",
      "source": [
        "![image.png](data:image/png;base64,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)"
      ],
      "metadata": {
        "id": "7nNRxytDAkI3"
      }
    },
    {
      "cell_type": "markdown",
      "source": [
        "![image.png](data:image/png;base64,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)"
      ],
      "metadata": {
        "id": "cVnW5FcULiRL"
      }
    },
    {
      "cell_type": "code",
      "source": [
        "'''\n",
        "cant_neg: cantidad de vectores que pertenecen al segundo subespacio\n",
        "'''\n",
        "def interseccion_S1_S2_dos_lados(S1: List[Matrix], S2: List[Matrix]):\n",
        "  S2_neg = [i*(-1) for i in S2]\n",
        "  B_S1_S2 = Matrix.hstack(*S1,*S2_neg)\n",
        "  cant_S2 = len(S2)\n",
        "  nul_B_S1_S2 = B_S1_S2.nullspace()\n",
        "  S1_int_S2 = []\n",
        "  for v in nul_B_S1_S2:\n",
        "      v[(-1)*cant_S2:,:] = zeros(cant_S2, 1)\n",
        "      S1_int_S2.append(B_S1_S2 * v)\n",
        "\n",
        "  return S1_int_S2\n",
        "\n",
        "def union_S1_S2(S1: List[Matrix], S2: List[Matrix]):\n",
        "    B_S1_S2 = Matrix.hstack(*S1,*S2)\n",
        "    S1_un_S2 = obtener_vectores_li(B_S1_S2)\n",
        "    return S1_un_S2                "
      ],
      "metadata": {
        "id": "dhzi9Io3EFFi"
      },
      "execution_count": 14,
      "outputs": []
    },
    {
      "cell_type": "markdown",
      "source": [
        "![image.png](data:image/png;base64,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)"
      ],
      "metadata": {
        "id": "vb_A0rvPCdRJ"
      }
    },
    {
      "cell_type": "markdown",
      "source": [
        "## **Ejercicios**"
      ],
      "metadata": {
        "id": "zrxfpzwv1lmM"
      }
    },
    {
      "cell_type": "markdown",
      "source": [
        "### **Ejercicios generales**"
      ],
      "metadata": {
        "id": "6KJ5zqpJO9ab"
      }
    },
    {
      "cell_type": "markdown",
      "source": [
        "#### **1.** Encontrar conjunto de generadores minimales de los siguientes subespacios.\n"
      ],
      "metadata": {
        "id": "zPYldQD1PKKr"
      }
    },
    {
      "cell_type": "markdown",
      "source": [
        "##### 1.**a.** $\\mathbb{S} = \\left\\{x \\in \\mathbb{R}^3 : x_1 - x_2 -x_3 = x_1 - x_2 - 2x_3 = 0 \\right\\}$"
      ],
      "metadata": {
        "id": "9Pm6bP7WPYOi"
      }
    },
    {
      "cell_type": "code",
      "source": [
        "A = Matrix([[1,-1,-1],\n",
        "            [1,-1,-2]])\n",
        "Z = zeros(2,1)\n",
        "sol, sp, gen = gauss_jordan_con_generadores(A, Z)"
      ],
      "metadata": {
        "id": "qnOuWFeiPyP6"
      },
      "execution_count": 15,
      "outputs": []
    },
    {
      "cell_type": "markdown",
      "source": [
        "##### 1.**b.** $\\mathbb{S} = \\left\\{ p \\in \\mathbb{R}_2[x] : p(1)=p'(1)=0 \\right\\}$"
      ],
      "metadata": {
        "id": "O-cNdVZQQj1q"
      }
    },
    {
      "cell_type": "code",
      "source": [
        "# Variables simbólicas:\n",
        "x, a0, a1, a2 = symbols('x, a0, a1, a2')\n",
        "\n",
        "# Polinomio de R2[x] genérico\n",
        "p = a0 + a1*x + a2*x**2\n",
        "\n",
        "# Evalúo el polinomio y la derivada en 1\n",
        "p_1 = p.subs(x,1)           #p(1) = a0 + a1 + a2\n",
        "pp_1 = diff(p,x).subs(x,1)  #p'(1) = a1 + 2.a2\n",
        "\n",
        "# Armo el sistema para encontrar los coeficientes a0, a1, a2:\n",
        "A = Matrix([[1, 1, 1],\n",
        "            [0, 1, 2]])\n",
        "b = zeros(2,1)\n",
        "\n",
        "# Resuelvo\n",
        "sol, sp, gen = gauss_jordan_con_generadores(A, Z)"
      ],
      "metadata": {
        "id": "WNe5nUkJQuJa"
      },
      "execution_count": 16,
      "outputs": []
    },
    {
      "cell_type": "markdown",
      "source": [
        "##### 1.**b.** $ \\mathbb S = \\left\\{ p \\in \\mathbb{R}_3[x] : \\quad \\int_{-1}^{1} p(x) \\,dx = 0, \\quad \\int_{-1}^{1} (x-1)p(x) \\,dx  = 0 \\right\\}$"
      ],
      "metadata": {
        "id": "iimAyTHobFmM"
      }
    },
    {
      "cell_type": "code",
      "source": [
        "# Variables simbólicas:\n",
        "x, a0, a1, a2, a3 = symbols('x, a_0, a_1, a_2, a_3')\n",
        "\n",
        "\n",
        "# Polinomio de R2[x] genérico\n",
        "p = a0 + a1*x + a2*x**2 + a3*x**3\n",
        "\n",
        "#Hago la primera integral\n",
        "p_int1 = integrate(p, (x,-1,1))\n",
        "\n",
        "#Para hacer la segunda integral, distribuyo: ∫xp - p dx = ∫xp dx - ∫p dx = ∫xp dx (∫p = 0 por enunciado) \n",
        "p_int2 = integrate(x*p, (x,-1,1))\n",
        "\n",
        "# Armo el sistema para encontrar los coeficientes a0, a1, a2:\n",
        "A = Matrix([[2, 0, Rational('2/3'), 0],\n",
        "            [0, Rational('2/3'), 0, Rational('2/5')]])\n",
        "b = zeros(2,1)\n",
        "\n",
        "# Resuelvo\n",
        "sol, sp, gen = gauss_jordan_con_generadores(A, Z)\n",
        "B = Matrix([[1, x, x**2, x**3]])\n",
        "B*gen[0], B*gen[1]"
      ],
      "metadata": {
        "colab": {
          "base_uri": "https://localhost:8080/",
          "height": 0
        },
        "id": "85dmcBDccUfs",
        "outputId": "507dc63c-46b7-4bfb-c6b6-64511ac22bb2"
      },
      "execution_count": 17,
      "outputs": [
        {
          "output_type": "execute_result",
          "data": {
            "text/latex": "$\\displaystyle \\left( \\left[\\begin{matrix}x^{2} - \\frac{1}{3}\\end{matrix}\\right], \\  \\left[\\begin{matrix}x^{3} - \\frac{3 x}{5}\\end{matrix}\\right]\\right)$",
            "text/plain": [
              "⎛⎡ 2   1⎤  ⎡ 3   3⋅x⎤⎞\n",
              "⎜⎢x  - ─⎥, ⎢x  - ───⎥⎟\n",
              "⎝⎣     3⎦  ⎣      5 ⎦⎠"
            ]
          },
          "metadata": {},
          "execution_count": 17
        }
      ]
    },
    {
      "cell_type": "markdown",
      "source": [
        "####**2.** Determinar si el conjunto es linealmente independiente."
      ],
      "metadata": {
        "id": "6LtysemVSnjp"
      }
    },
    {
      "cell_type": "markdown",
      "source": [
        "##### 2.**a.** Sea $\\mathbb{V}$ un $\\mathbb{K}$-espacio vectorial. Se considera al conjunto de vectores linealmente independiente $\\{v_1, v_2, v_3 \\} \\subset \\mathbb{V}$ y se definen $w_1$, $w_2$, $w_3$ mediante \n",
        "$$ \n",
        "\\begin{align*}\n",
        "    w_1 &= 2v_1 + v_3 \\\\\n",
        "    w_2 &= v_1 - v_2 + v_3 \\\\\n",
        "    w_3 &= v_1 + v_2 \n",
        "\\end{align*} \n",
        "$$ \n",
        "¿El conjunto $\\{w_1, w_2, w_3 \\}$ es linealmente independiente?"
      ],
      "metadata": {
        "id": "dz-uvhcWULoB"
      }
    },
    {
      "cell_type": "code",
      "source": [
        "w1 = Matrix([2,0,1])\n",
        "w2 = Matrix([1,-1,1])\n",
        "w3 = Matrix([1,1,0])\n",
        "A = Matrix.hstack(w1,w2,w3)\n",
        "A.det() #Como el determinante es 0, entonces el conjunto no es linealmente independiente"
      ],
      "metadata": {
        "colab": {
          "base_uri": "https://localhost:8080/",
          "height": 0
        },
        "id": "8NMn2VtuSvCa",
        "outputId": "de69e8b1-43f5-4f4d-9663-3ffdf21c4dc3"
      },
      "execution_count": 18,
      "outputs": [
        {
          "output_type": "execute_result",
          "data": {
            "image/png": "[encoded data removed]",
            "text/latex": "$\\displaystyle 0$",
            "text/plain": [
              "0"
            ]
          },
          "metadata": {},
          "execution_count": 18
        }
      ]
    },
    {
      "cell_type": "markdown",
      "source": [
        "##### 2.**b.** Determinar si el conjunto $\\left\\{ 2+x^2, 1-x+x^2, 1+x\\right\\} \\subset \\mathbb{R}_2[x]$ es linealmente independiente."
      ],
      "metadata": {
        "id": "9ANzZkEYUBDI"
      }
    },
    {
      "cell_type": "markdown",
      "source": [
        "Sabemos que el conjunto $\\left\\{ 1, x, x^2 \\right\\} \\subset \\mathbb{R}_2[x]$ es linealmente independiente, y que el conjunto anterior se puede escribir como\n",
        "\n",
        "$$\n",
        "\\begin{align*}\n",
        "    2+x^2 &= 2 \\cdot 1 + 0 \\cdot x + 1 \\cdot x^2 \\\\\n",
        "    1-x+x^2 &= 1 \\cdot 1 + (-1) \\cdot x + 1 \\cdot x^2 \\\\\n",
        "    1+x &= 1 \\cdot 1 + 1 \\cdot x + 0 \\cdot x^2\n",
        "\\end{align*}  \n",
        "$$\n",
        "\n",
        "por lo tanto, por el mismo razonamiento que antes podemos mostrar que el conjunto es linealmente independiente si, y sólo si, $\\mathrm{det}(A) \\neq 0$. En este caso, la matriz $A$ es la misma que antes, por lo que el conjunto es linealmente dependiente de nuevo."
      ],
      "metadata": {
        "id": "0JGfJWZHUuE_"
      }
    },
    {
      "cell_type": "code",
      "source": [
        "w1 = Matrix([2,0,1])\n",
        "w2 = Matrix([1,-1,1])\n",
        "w3 = Matrix([1,1,0])\n",
        "A = Matrix.hstack(w1,w2,w3)\n",
        "A.det() #Como el determinante es 0, entonces el conjunto no es linealmente independiente"
      ],
      "metadata": {
        "colab": {
          "base_uri": "https://localhost:8080/",
          "height": 0
        },
        "id": "fpfkjQ4nUZju",
        "outputId": "097412f5-b7dd-4fc5-ea57-e388cb581f14"
      },
      "execution_count": 19,
      "outputs": [
        {
          "output_type": "execute_result",
          "data": {
            "image/png": "[encoded data removed]",
            "text/latex": "$\\displaystyle 0$",
            "text/plain": [
              "0"
            ]
          },
          "metadata": {},
          "execution_count": 19
        }
      ]
    },
    {
      "cell_type": "markdown",
      "source": [
        "##### 2.**c.** Determinar si el conjunto $\\left\\{ \\begin{bmatrix} 3 \\\\ 0 \\\\ 1 \\\\ 1 \\end{bmatrix}, \\begin{bmatrix} 0 \\\\ 0 \\\\ 2 \\\\ 1 \\end{bmatrix}, \\begin{bmatrix} 2 \\\\ 0 \\\\ 1 \\\\ 0 \\end{bmatrix} \\right\\}$ es linealmente independiente"
      ],
      "metadata": {
        "id": "15ltKsYjVLE3"
      }
    },
    {
      "cell_type": "code",
      "source": [
        "A = Matrix([[3,0,2],\n",
        "            #[0,0,0], -> puedo eliminar esta fila\n",
        "            [1,2,1],\n",
        "            [1,1,0]])\n",
        "A.det() #Como el determinante no es 0, entonces el conjunto es linealmente independiente"
      ],
      "metadata": {
        "colab": {
          "base_uri": "https://localhost:8080/",
          "height": 37
        },
        "id": "yXa7HtOfVOxT",
        "outputId": "7d3cdbe7-2fa6-48c2-ffeb-80fa80a9094b"
      },
      "execution_count": 20,
      "outputs": [
        {
          "output_type": "execute_result",
          "data": {
            "image/png": "[encoded data removed]",
            "text/latex": "$\\displaystyle -5$",
            "text/plain": [
              "-5"
            ]
          },
          "metadata": {},
          "execution_count": 20
        }
      ]
    },
    {
      "cell_type": "markdown",
      "source": [
        "####**3.** Hallar $a$ para que el conjunto sea linealmente independiente:"
      ],
      "metadata": {
        "id": "cPKRkN0vH_dw"
      }
    },
    {
      "cell_type": "markdown",
      "source": [
        "##### 3.**a.** Sea $B = \\{v_1, v_2, v_3 \\}$ un conjunto linealmente independiente. Hallar el valor de $a \\in \\mathbb R$ tal que $\\{v_1 + a v_2 + 3 v_3, 4v_1 + 5v_2 +  7v_3, av_1 + v_2 + v_3 \\}$ sea linealmente independiente."
      ],
      "metadata": {
        "id": "wqrEp0HdpIS8"
      }
    },
    {
      "cell_type": "code",
      "source": [
        "#Como v1, v2, v3 forman una base, escribo los vectores con las coordenadas de la base:\n",
        "\n",
        "a = Symbol('a') # Definición de la variable simbólica\n",
        "\n",
        "w1 = Matrix([1,4,a])\n",
        "w2 = Matrix([a,5,1])\n",
        "w3 = Matrix([3,7,1])\n",
        "A = [w1,w2,w3]\n",
        "encontrar_a(A,a) #para que el conjunto sea LI, debe ser diferente a esos valores"
      ],
      "metadata": {
        "colab": {
          "base_uri": "https://localhost:8080/",
          "height": 0
        },
        "id": "EoNoMpQfpgQY",
        "outputId": "08598e3f-c0fb-4520-8444-49563aa3b54b"
      },
      "execution_count": 21,
      "outputs": [
        {
          "output_type": "execute_result",
          "data": {
            "image/png": "[encoded data removed]",
            "text/latex": "$\\displaystyle \\left[ \\frac{5}{7}, \\  2\\right]$",
            "text/plain": [
              "[5/7, 2]"
            ]
          },
          "metadata": {},
          "execution_count": 21
        }
      ]
    },
    {
      "cell_type": "markdown",
      "source": [
        "##### 3.**b.** Para cada $a\\in \\mathbb R$, sea $\\mathcal G_a \\subset \\mathbb R^{2\\times 2}$ el conjunto definido por $$\\mathcal G_a = \\left\\{\\begin{bmatrix}5&3\\\\3&a\\end{bmatrix}, \\begin{bmatrix}1&a\\\\a&1\\end{bmatrix}, \\begin{bmatrix}3&2\\\\2&3\\end{bmatrix} \\right\\}.$$ Hallar el valor de $a$ para el cual $\\mathcal G_a$ es linealmente independiente."
      ],
      "metadata": {
        "id": "ULOM_mlAIL7x"
      }
    },
    {
      "cell_type": "code",
      "source": [
        "#Uso la base canónico de R4: B\n",
        "\n",
        "a = Symbol('a') # Definición de la variable simbólica\n",
        "\n",
        "w1 = Matrix([5,3,3,a]) #en coordenadas de la base B\n",
        "w2 = Matrix([1,a,a,1]) #en coordenadas de la base B\n",
        "w3 = Matrix([3,2,2,3]) #en coordenadas de la base B\n",
        "A = [w1,w2,w3]\n",
        "# rango(Matrix.hstack(*A)) #lo hago a mano porque en Python no se puede: me tiene que dar rango 3\n",
        "#Triangulo y me queda\n",
        "\"\"\"\n",
        "A = Matrix([[1,    5,    3],\n",
        "            [0, 3-5a, 2-3a],\n",
        "            [0,  a-5,    0],\n",
        "            [0,    0,    0]])\n",
        "Veo que entonces el determinante de\n",
        "           [[3-5a, 2-3a],\n",
        "            [ a-5,    0]]\n",
        "debe ser distinto de 0\n",
        "            \n",
        "\"\"\"\n",
        "M = Matrix([[3-5*a, 2-3*a],\n",
        "            [ a-5,    0]])\n",
        "solveset(det(M), a) #debe ser distinto de 2/3 y de 5"
      ],
      "metadata": {
        "colab": {
          "base_uri": "https://localhost:8080/",
          "height": 57
        },
        "id": "DbZ9TL9rJIZS",
        "outputId": "284c69ce-1d1b-4e5f-a7f3-7d4999f52c46"
      },
      "execution_count": 22,
      "outputs": [
        {
          "output_type": "execute_result",
          "data": {
            "image/png": "[encoded data removed]",
            "text/latex": "$\\displaystyle \\left\\{\\frac{2}{3}, 5\\right\\}$",
            "text/plain": [
              "{2/3, 5}"
            ]
          },
          "metadata": {},
          "execution_count": 22
        }
      ]
    },
    {
      "cell_type": "markdown",
      "source": [
        "####**4.** Determinar la solución de Ax = b.\n"
      ],
      "metadata": {
        "id": "lTfjskPvCiug"
      }
    },
    {
      "cell_type": "markdown",
      "source": [
        "##### 4.**a.** Sean $A\\in\\mathbb{R}^{m\\times n}$ y $b\\in{\\rm col}(A)$. \n",
        "\n",
        "\\begin{equation} A = \\begin{bmatrix}1&2&1&3&3\\\\2&4&0&4&4\\\\1&2&3&5&5\\\\2&4&0&4&7\\end{bmatrix}, b = \\begin{bmatrix}1\\\\1\\\\2\\\\1\\end{bmatrix}\\end{equation}."
      ],
      "metadata": {
        "id": "GIL2b5WGC1zo"
      }
    },
    {
      "cell_type": "markdown",
      "source": [
        "En lo que sigue mostramos un método para hallar el único $x_f\\in{\\rm fil}(A)$ tal que $Ax=b$.\n",
        "\n",
        "1. Determinar una base $B_f=\\left\\{f_1,f_2,\\dots, f_r\\right\\}$ del espacio ${\\rm fil}(A)$.\n",
        "\n",
        "2. Escribir $x_f=\\sum_{i=1}^r\\xi_if_i$.\n",
        "\n",
        "3. Observar que \n",
        "\\begin{align*}\n",
        "Ax_f\n",
        "&=A\\left(\\sum_{i=1}^r\\xi_if_i\\right)\\\\\n",
        "=&\\sum_{i=1}^r\\xi_iAf_i\\\\\n",
        "&=A\\underbrace{\\begin{bmatrix}f_1&f_2&\\cdots&f_r\\end{bmatrix}}_{F\\in\\mathbb{R}^{n\\times r}}\\underbrace{\\begin{bmatrix}\\xi_1\\\\\\xi_2\\\\\\vdots\\\\\\xi_r\\end{bmatrix}}_{\\xi\\in\\mathbb{R}^r}\n",
        "\\end{align*}\n",
        "\n",
        "4. Resolver el sistema $AF\\xi=b$. \n",
        "\n",
        "5. Si $\\xi_a\\in\\mathbb{R}^r$ es la única solución del sistema $AF\\xi=b$, entonces $x_f=F\\xi_a$."
      ],
      "metadata": {
        "id": "H8Ms6gOqEJ9g"
      }
    },
    {
      "cell_type": "code",
      "source": [
        "A=Matrix([[1,2,1,3,3],[2,4,0,4,4],[1,2,3,5,5],[2,4,0,4,7]])\n",
        "b=Matrix([1,1,2,1])\n",
        "\n",
        "#Se que Fil_A . ε = x -> x es el resultado de una combinación lineal de los generadores de fil\n",
        "#También se que A.x = b\n",
        "#Tengo:\n",
        "#Fil_A . ε = x\n",
        "#A.Fil_A . ε = A. x -> Multiplico ambos lados por A\n",
        "#A.Fil_A . ε = b    -> A.x = b\n",
        "\n",
        "#Calculo A.Fil_A\n",
        "fil_A = A.T.columnspace() # Determinar una base de fil(A): f_1, f_2, ..., f_r\n",
        "F = Matrix.hstack(*fil_A) # Construir una matriz F=[f_1 f_2 ... f_r] \n",
        "A_F = A * F\n",
        "\n",
        "#Calculo ε sabiendo que A.Fil_A . ε = b \n",
        "x_aux, p = A_F.gauss_jordan_solve(b)\n",
        "\n",
        "#Calculo x sabiendo que Fil_A.ε = x \n",
        "x_f = F * x_aux #la solucion es x_f -> el resultado de la combinacion lineal"
      ],
      "metadata": {
        "id": "EgAzMmFEEL8E"
      },
      "execution_count": 23,
      "outputs": []
    },
    {
      "cell_type": "markdown",
      "source": [
        "##### 4.**b.** \n",
        "Definir cuáles de las siguientes opciones son soluciones del sistema $Ax=b$ con\n",
        "$$\n",
        "\\begin{align}\n",
        "A = \n",
        "\\begin{bmatrix}\n",
        "2 & 2 & 2 & 0 \\\\\n",
        "1 & 4 & 3 & 1 \\\\\n",
        "-3 & 0 & -1 & 1 \n",
        "\\end{bmatrix} & & \n",
        "b = \n",
        "\\begin{bmatrix}\n",
        "4 \\\\ 10 \\\\ 2\n",
        "\\end{bmatrix}\n",
        "\\end{align}\n",
        "$$\n",
        "1. $S = \n",
        "\\begin{bmatrix} \n",
        "1 & 2 & 1 & 0\n",
        "\\end{bmatrix}^T + gen \\left\\{ \n",
        "\\begin{bmatrix} \n",
        "-1 & -2 & 3 & 0\n",
        "\\end{bmatrix}^T, \n",
        "\\begin{bmatrix} \n",
        "1 & -1 & 0 & 3\n",
        "\\end{bmatrix}^T\n",
        "\\right\\}$\n",
        "\n",
        "2. $S = \n",
        "\\begin{bmatrix} \n",
        "-1 & 2 & 1 & 0\n",
        "\\end{bmatrix}^T + gen \\left\\{ \n",
        "\\begin{bmatrix} \n",
        "-1 & -2 & 3 & 0\n",
        "\\end{bmatrix}^T, \n",
        "\\begin{bmatrix} \n",
        "1 & -1 & 0 & 3\n",
        "\\end{bmatrix}^T\n",
        "\\right\\}$\n",
        "\n",
        "3. $S = \n",
        "\\begin{bmatrix} \n",
        "-\\frac{1}{3} & \\frac{7}{3} & 0 & 1\n",
        "\\end{bmatrix}^T + gen \\left\\{ \n",
        "\\begin{bmatrix} \n",
        "0 & -1 & 1 & 1\n",
        "\\end{bmatrix}^T, \n",
        "\\begin{bmatrix} \n",
        "1 & -2 & 1 & 4\n",
        "\\end{bmatrix}^T\n",
        "\\right\\}$\n",
        "\n",
        "4. $S = \n",
        "\\begin{bmatrix} \n",
        "-\\frac{1}{3} & \\frac{7}{3} & 0 & 1\n",
        "\\end{bmatrix}^T + gen \\left\\{ \n",
        "\\begin{bmatrix} \n",
        "1 & -3 & 2 & 1 \n",
        "\\end{bmatrix}^T, \n",
        "\\begin{bmatrix} \n",
        "-1 & 2 & -1 & -4\n",
        "\\end{bmatrix}^T\n",
        "\\right\\}$"
      ],
      "metadata": {
        "id": "4twCa6ZQG5nO"
      }
    },
    {
      "cell_type": "code",
      "source": [
        "A = Matrix([[ 2, 2,  2, 0],\n",
        "            [ 1, 4,  3, 1],\n",
        "            [-3, 0, -1, 1]])\n",
        "\n",
        "b = Matrix([4,10,2])\n",
        "\n",
        "#Intento la forma más facil:\n",
        "A.gauss_jordan_solve(b) #La solución que me da no está entre las opciones\n",
        "\n",
        "#Analizo uno por uno sabiendo que A.solucion_particular = B y que A.generador = 0:\n",
        "\n",
        "#1\n",
        "sp = Matrix([1,2,1,0])\n",
        "A*sp == B #No me da B, entonces descarto esta opción\n",
        "\n",
        "#2\n",
        "sp = Matrix([-1,2,1,0])\n",
        "A*sp #Me da B, sigo\n",
        "\n",
        "g1 = Matrix([-1,-2,3,0])\n",
        "A*g1 #Me da 0, sigo\n",
        "\n",
        "g2 = Matrix([1,-1,0,3])\n",
        "A*g2 #Me da 0, entonces esta es la correcta\n",
        "\n",
        "#3\n",
        "sp = Rational('1/3') * Matrix([-1,7,0,3])\n",
        "A*sp #Me da B, sigo\n",
        "\n",
        "g1 = Matrix([0,-1,1,1])\n",
        "A*g1 #Me da 0, sigo\n",
        "\n",
        "g2 = Matrix([1,-2,1,4])\n",
        "A*g2  #Me da 0, entonces esta es la correcta\n",
        "\n",
        "#4\n",
        "sp = Rational('1/3') * Matrix([-1,7,0,3])\n",
        "A*sp #Me da B, sigo\n",
        "\n",
        "g1 = Matrix([1,-3,2,1])\n",
        "A*g1 #No me da 0, entonces descarto esta opción"
      ],
      "metadata": {
        "colab": {
          "base_uri": "https://localhost:8080/",
          "height": 0
        },
        "id": "BLHyDcxlHGne",
        "outputId": "d1634dc8-3d27-4136-c378-4b85ba03e965"
      },
      "execution_count": 24,
      "outputs": [
        {
          "output_type": "execute_result",
          "data": {
            "text/latex": "$\\displaystyle \\left[\\begin{matrix}0\\\\-4\\\\-4\\end{matrix}\\right]$",
            "text/plain": [
              "⎡0 ⎤\n",
              "⎢  ⎥\n",
              "⎢-4⎥\n",
              "⎢  ⎥\n",
              "⎣-4⎦"
            ]
          },
          "metadata": {},
          "execution_count": 24
        }
      ]
    },
    {
      "cell_type": "markdown",
      "source": [
        "####**5.** Sean las matrices $A \\in \\mathbb{R}^{a \\times b}$ y $B \\in \\mathbb{R}^{c \\times d}$ dos matrices tales que: $AB$ = [...] y rango(...) = ..."
      ],
      "metadata": {
        "id": "69qm9DcDLH_d"
      }
    },
    {
      "cell_type": "markdown",
      "source": [
        "##### 5.**a**. Sea $A \\in \\mathbb{R}^{3 \\times 5}$ y $B \\in \\mathbb{R}^{5 \\times 4}$ dos matrices tales que:\n",
        "$$\n",
        "AB = \n",
        "\\begin{bmatrix}\n",
        "-\\frac{1}{2} &  1 & -2 & 1 \\\\\n",
        "\\frac{1}{2} & -1 & -1 & 2 \\\\\n",
        "1 & -2 &  1 & 1 \n",
        "\\end{bmatrix}\n",
        "$$\n",
        "con $\\mathrm{rg}(B)=2$. Hallar una base del $\\mathrm{Nul}(B)$."
      ],
      "metadata": {
        "id": "wn0Uu7bEL7XT"
      }
    },
    {
      "cell_type": "code",
      "source": [
        "#Nul(B) incluido en Nul(AB) \n",
        "#Analizo las dimensiones: dim(nul(B)) = n − rango(B) ->  dim(nul(B)) = 4 - 2 = 2\n",
        "AB = Rational('1/2')*Matrix([[-1, 2, -4, 2],\n",
        "                             [1, -2, -2, 4],\n",
        "                             [2, -4, 2, 2]])\n",
        "\n",
        "AB.nullspace() # dim(nul(AB)) = 2\n",
        "\n",
        "#Como las dimensiones son iguales, y Nul(B) está en Nul(AB), no queda otra a que Nul(B) = Nul(AB).\n",
        "#Si hallo una base de Nul(AB), entonces tengo una base de Nul(B). La base la encontré antes:\n",
        "\n",
        "AB.nullspace()"
      ],
      "metadata": {
        "colab": {
          "base_uri": "https://localhost:8080/",
          "height": 98
        },
        "id": "B4_KIGONLlMA",
        "outputId": "c5a04f00-ee48-44a2-ecf2-feca01708438"
      },
      "execution_count": 25,
      "outputs": [
        {
          "output_type": "execute_result",
          "data": {
            "text/latex": "$\\displaystyle \\left[ \\left[\\begin{matrix}2\\\\1\\\\0\\\\0\\end{matrix}\\right], \\  \\left[\\begin{matrix}-2\\\\0\\\\1\\\\1\\end{matrix}\\right]\\right]$",
            "text/plain": [
              "⎡⎡2⎤  ⎡-2⎤⎤\n",
              "⎢⎢ ⎥  ⎢  ⎥⎥\n",
              "⎢⎢1⎥  ⎢0 ⎥⎥\n",
              "⎢⎢ ⎥, ⎢  ⎥⎥\n",
              "⎢⎢0⎥  ⎢1 ⎥⎥\n",
              "⎢⎢ ⎥  ⎢  ⎥⎥\n",
              "⎣⎣0⎦  ⎣1 ⎦⎦"
            ]
          },
          "metadata": {},
          "execution_count": 25
        }
      ]
    },
    {
      "cell_type": "markdown",
      "source": [
        "##### 5.**b.** Sea $A \\in \\mathbb{R}^{3 \\times 3}$ y $B \\in \\mathbb{R}^{3 \\times 4}$ dos matrices tales que:\n",
        "\n",
        "$$\n",
        "AB = \n",
        "\\begin{bmatrix}\n",
        "10 & -10 & -5 & 5 \\\\\n",
        "11 & -11 & -4 & 7 \\\\\n",
        "11 & -11 & -5 & 6\n",
        "\\end{bmatrix}\n",
        "$$\n",
        "\n",
        "donde $\\mathrm{rg}(A)=3$, y $\\begin{bmatrix} -1 & -2 & 1 & -2 \\end{bmatrix}^T$ es solución de $Bx=\\begin{bmatrix}b_1 & b_2 & b_3\\end{bmatrix}^T$. Encontrar el conjunto de todas las soluciones del sistema $Bx=\\begin{bmatrix}b_1 & b_2 & b_3\\end{bmatrix}^T$."
      ],
      "metadata": {
        "id": "NzQGGEu5QbsK"
      }
    },
    {
      "cell_type": "code",
      "source": [
        "#Veo que rango de A es igual a la cantidad de columnas de A. Entonces,\n",
        "#Ax = b\n",
        "#x = A.inv().b\n",
        "\n",
        "#También se que el Nul(B) pertenece al Nul(AB)\n",
        "#Como existe A.inv(), entonces Nul(AB) pertenece al Nul(B)\n",
        "#Concluímos que Nul(B) = Nul(AB)\n",
        "\n",
        "AB = Matrix([[10, -10, -5, 5],\n",
        "             [11, -11, -4, 7],\n",
        "             [11, -11, -5, 6]])\n",
        "\n",
        "#Puedo escribir Bx = b como la solución particular más los generadores de Nul(B)\n",
        "sp = Matrix([-1, -2, 1, -2])\n",
        "generadores = AB.nullspace()"
      ],
      "metadata": {
        "id": "imQMCiN8UXlP"
      },
      "execution_count": 26,
      "outputs": []
    },
    {
      "cell_type": "markdown",
      "source": [
        "##### 5.**c.** Sean $A \\in \\mathbb{R}^{3 \\times 3}$ y $B \\in \\mathbb{R}^{3 \\times 4}$ dos matrices tales que:\n",
        "\n",
        "$$\n",
        "AB = \n",
        "\\begin{bmatrix}\n",
        "10 & -10 & -5 & 5 \\\\\n",
        "11 & -11 & -4 & 7 \\\\\n",
        "11 & -11 & -5 & 6\n",
        "\\end{bmatrix}\n",
        "$$\n",
        "\n",
        "donde $\\mathrm{rg}(A)=3$, y $\\begin{bmatrix} -1 & -2 & 1 & -2 \\end{bmatrix}^T$ es solución de $Bx=\\begin{bmatrix}b_1 & b_2 & b_3\\end{bmatrix}^T$. Encontrar $\\alpha \\in \\mathbb{R}$ tal que\n",
        "\n",
        "$$\n",
        "S = \\left\\{ \\hspace{.5em}\n",
        "\\begin{bmatrix}\n",
        "-1 \\\\ -2 \\\\ 1 \\\\ -2\n",
        "\\end{bmatrix} +\n",
        "a_1 \\begin{bmatrix}\n",
        "\\alpha \\\\ \\alpha^2 \\\\ 0 \\\\ 0\n",
        "\\end{bmatrix}\n",
        "a_2 \\begin{bmatrix}\n",
        "0 \\\\ -1 \\\\ \\alpha \\\\ -1\n",
        "\\end{bmatrix} :\n",
        "a_1, a_2 \\in \\mathbb{R} \\hspace{.5em}\n",
        "\\right\\}\n",
        "$$\n",
        "\n",
        "sea el conjunto de todas las soluciones del sistema $Bx=\\begin{bmatrix}b_1 & b_2 & b_3\\end{bmatrix}^T$."
      ],
      "metadata": {
        "id": "xxsGSm5QWFcH"
      }
    },
    {
      "cell_type": "code",
      "source": [
        "#Veo que rango de A es igual a la cantidad de columnas de A. Entonces,\n",
        "#Ax = b\n",
        "#x = A.inv().b\n",
        "\n",
        "#También se que el Nul(B) pertenece al Nul(AB)\n",
        "#Como existe A.inv(), entonces Nul(AB) pertenece al Nul(B)\n",
        "#Concluímos que Nul(B) = Nul(AB)\n",
        "\n",
        "AB = Matrix([[10, -10, -5, 5],\n",
        "             [11, -11, -4, 7],\n",
        "             [11, -11, -5, 6]])\n",
        "\n",
        "#Los generadores del nul(AB) deben ser los mismos que de S\n",
        "#Armo una matriz de los generadores del nul(B) y de los de S:\n",
        "\n",
        "a = symbols('a')\n",
        "nul_AB = AB.nullspace()\n",
        "D = Matrix.hstack(*[v for v in nul_AB],Matrix([[a, 0],[a**2, -1],[0, a],[0,-1]]))\n",
        "\n",
        "#Pido que la matriz sea LD:\n",
        "determinante = det(D)\n",
        "roots(determinante) #para que sea ld el determinante tiene que ser igual a 0 -> a = 0 o a = 1 "
      ],
      "metadata": {
        "colab": {
          "base_uri": "https://localhost:8080/",
          "height": 0
        },
        "id": "upOvw1OgKUsV",
        "outputId": "6dbe7e0b-3dcf-455e-ad89-32baa4776702"
      },
      "execution_count": 27,
      "outputs": [
        {
          "output_type": "execute_result",
          "data": {
            "image/png": "[encoded data removed]",
            "text/latex": "$\\displaystyle \\left\\{ 0 : 1, \\  1 : 2\\right\\}$",
            "text/plain": [
              "{0: 1, 1: 2}"
            ]
          },
          "metadata": {},
          "execution_count": 27
        }
      ]
    },
    {
      "cell_type": "markdown",
      "source": [
        "##### 5.**d.**  Sea $A \\in \\mathbb{R}^{3 \\times 3}$ y $B \\in \\mathbb{R}^{3 \\times 4}$ dos matrices tales que:\n",
        "\n",
        "$$\n",
        "AB = \n",
        "\\begin{bmatrix}\n",
        "10 & -10 & -5 & 5 \\\\\n",
        "11 & -11 & -4 & 7 \\\\\n",
        "11 & -11 & -5 & 6\n",
        "\\end{bmatrix}\n",
        "$$\n",
        "\n",
        "donde $\\mathrm{rg}(A) = 3$, y $B$ satisface que $B \\begin{bmatrix} 1 & 1 & 1 & 1 \\end{bmatrix}^T = \\begin{bmatrix} 0 & 3 & 1 \\end{bmatrix}^T$, $B \\begin{bmatrix} 1 & 0 & 1 & 0 \\end{bmatrix}^T = \\begin{bmatrix} 5 & 7 & 6 \\end{bmatrix}^T$.\n",
        "\n",
        "Hallar todas las soluciones del sistema $Bx=\\begin{bmatrix}5 & 1 & 4\\end{bmatrix}^T$."
      ],
      "metadata": {
        "id": "EnhL8moswbZW"
      }
    },
    {
      "cell_type": "code",
      "source": [
        "#Veo que rango de A es igual a la cantidad de columnas de A. Entonces,\n",
        "#Ax = b\n",
        "#x = A.inv().b\n",
        "\n",
        "#También se que el Nul(B) pertenece al Nul(AB)\n",
        "#Como existe A.inv(), entonces Nul(AB) pertenece al Nul(B)\n",
        "#Concluímos que Nul(B) = Nul(AB)\n",
        "\n",
        "AB = Matrix([[10, -10, -5, 5],\n",
        "             [11, -11, -4, 7],\n",
        "             [11, -11, -5, 6]])\n",
        "\n",
        "#Busco el nulo de B:\n",
        "nul_B = AB.nullspace()\n",
        "\n",
        "#Se que la solucion de Ax = b va a ser x = sp + gen(nul(B))\n",
        "#Los generadores del nul de B ya los tengo, busco la solucion particular:\n",
        "#Tengo estos datos del enunciado:\n",
        "#   α.B[1 1 1 1]t = α.[0 3 1]t        y          β.B[1 0 1 0]t = β.[5 7 6]t\n",
        "#Junto la información\n",
        "#   α.B[1 1 1 1]t + β.B[1 0 1 0]t = α.[0 3 1]t + β.[5 7 6]t = [5 1 4]t\n",
        "\n",
        "#Busco la combinación lineal que me provoque un [5 1 4]\n",
        "\n",
        "A = Matrix([[0, 5],\n",
        "            [3, 7],\n",
        "            [1, 6]])\n",
        "b = Matrix([5, 1, 4])\n",
        "\n",
        "x, pivot = A.gauss_jordan_solve(b)\n",
        "\n",
        "#Armo la solucion particular\n",
        "sp = x[0,0]*Matrix([1, 1, 1, 1]) + x[1,0]*Matrix([1, 0, 1, 0])\n",
        "\n",
        "#x = sp + gen(nul(B))"
      ],
      "metadata": {
        "id": "vV19O9o4whEM"
      },
      "execution_count": 28,
      "outputs": []
    },
    {
      "cell_type": "markdown",
      "source": [
        "##### 5.**e.** Sean $A \\in \\mathbb{R}^{3 \\times 3}$ y $B \\in \\mathbb{R}^{3 \\times 4}$ dos matrices tales que $rango(B) = 2$,\n",
        "$$AB = \\begin{bmatrix}1&-1&1&2\\\\2&1&-1&1\\\\1&2&-2&-1\\end{bmatrix} \\quad \\text y \\quad  B \\begin{bmatrix}1&1\\\\0&1\\\\1&1\\\\0&1\\end{bmatrix} = \\begin{bmatrix}2&1\\\\3&-2\\\\2&1\\end{bmatrix}$$\n",
        "Las soluciones de la ecuación $Bx = \\begin{bmatrix}0&-7&0\\end{bmatrix}^T$ son de la forma:\n",
        "\n",
        "$\\quad$ **a.** $x = \\begin{bmatrix}1&2&1&2\\end{bmatrix}^T + a\\begin{bmatrix}-1&1&0&1\\end{bmatrix}^T + b\\begin{bmatrix}0&1&1&0\\end{bmatrix}^T$.\n",
        "\n",
        "$\\quad$ **b.** $x = \\begin{bmatrix}3&1&3&1\\end{bmatrix}^T + a\\begin{bmatrix}-1&-1&1&0\\end{bmatrix}^T + b\\begin{bmatrix}0&1&0&1\\end{bmatrix}^T$.\n",
        "\n",
        "$\\quad$ **c.** $x = \\begin{bmatrix}-1&1&-1&1\\end{bmatrix}^T + a\\begin{bmatrix}-1&1&0&1\\end{bmatrix}^T + b\\begin{bmatrix}1&-1&1&0\\end{bmatrix}^T$.\n",
        "\n",
        "$\\quad$ **d.** $x = \\begin{bmatrix}3&2&3&2\\end{bmatrix}^T + a\\begin{bmatrix}-1&-1&1&0\\end{bmatrix}^T + b\\begin{bmatrix}1&0&0&1\\end{bmatrix}^T$."
      ],
      "metadata": {
        "id": "HFluwBUWYCT4"
      }
    },
    {
      "cell_type": "code",
      "source": [
        "#Nul(B) incluido en Nul(AB) \n",
        "#Analizo las dimensiones: dim(nul(B)) = n − rango(B) ->  dim(nul(B)) = 4 - 2 = 2\n",
        "AB = Matrix([[1, -1,  1, 2],\n",
        "             [2,  1, -1, 1],\n",
        "             [1,  2, -2, -1]])\n",
        "\n",
        "AB.nullspace() # dim(nul(AB)) = 2\n",
        "\n",
        "#Puedo descartar opciones, sabiendo que los generadores tienen que generar el mismo subespacio que el nulo de AB\n",
        "#opc a:\n",
        "Matrix.hstack(*AB.nullspace(), Matrix([-1,1,0,1]),Matrix([0,1,1,0])).rref() #generan mismo subespacio\n",
        "dos_subespacios_generan_el_mismo_subespacio(AB.nullspace(), [Matrix([-1,1,0,1]),Matrix([0,1,1,0])]) #checkeo\n",
        "#opc b:\n",
        "Matrix.hstack(*AB.nullspace(), Matrix([-1,-1,1,0]),Matrix([0,1,0,1])).rref() #no generan mismo subespacio\n",
        "dos_subespacios_generan_el_mismo_subespacio(AB.nullspace(), [Matrix([-1,-1,1,0]),Matrix([0,1,0,1])]) #checkeo\n",
        "#descarto opc b\n",
        "#opc c:\n",
        "Matrix.hstack(*AB.nullspace(), Matrix([-1,-1,0,1]),Matrix([1,-1,1,0])).rref() #no generan mismo subespacio\n",
        "dos_subespacios_generan_el_mismo_subespacio(AB.nullspace(), [Matrix([-1,-1,0,1]),Matrix([1,-1,1,0])]) #checkeo\n",
        "#descarto opc c\n",
        "#opc d:\n",
        "Matrix.hstack(*AB.nullspace(), Matrix([-1,-1,1,0]),Matrix([1,0,0,1])).rref() #no generan mismo subespacio\n",
        "dos_subespacios_generan_el_mismo_subespacio(AB.nullspace(), [Matrix([-1,-1,1,0]),Matrix([1,0,0,1])]) #checkeo\n",
        "#descarto opc d\n",
        "\n",
        "#Veo que la correcta es la opc a, igual termino el ej:\n",
        "#Se que B(a * [1 0 1 0] + b [1 1 1 1]) = a * [2 3 2] + b * [1 -2 1] = [0 -7 0]\n",
        "#Busco combinación lineal tal que [0 -7 0] es cl de [2 3 2] y [1 -2 1]\n",
        "M = Matrix([[2,  1],\n",
        "            [3, -2],\n",
        "            [2,  1]])\n",
        "sol, coeficientes, _ = gauss_jordan_con_generadores(M, Matrix([0, -7, 0]))\n",
        "#Se que B(-1 * [1 0 1 0] + 2 * [1 1 1 1]) = [0 -7 0]\n",
        "sp = Matrix([[1, 1],\n",
        "             [0, 1],\n",
        "             [1, 1],\n",
        "             [0, 1]]) * coeficientes\n",
        "\n",
        "#Si esa sol no está en las opciones, tengo que ver que la sol particular que me dan\n",
        "# cumpla que sp_opcion = sp + gen(Nul(AB))\n",
        "\n"
      ],
      "metadata": {
        "id": "YW870WagizLh"
      },
      "execution_count": 29,
      "outputs": []
    },
    {
      "cell_type": "markdown",
      "source": [
        "####**6.** **(Matriz cambio de coordenadas)** Sean $\\mathcal{B}_1 := \\left\\{ ... \\right\\}$ y $\\mathcal{B}_2 := \\left\\{ ... \\right\\}$ dos bases de ... "
      ],
      "metadata": {
        "id": "xu5q-6mLRtD5"
      }
    },
    {
      "cell_type": "markdown",
      "source": [
        "##### 6.**a.** Sean $\\mathcal{B}_1 := \\left\\{ \\begin{bmatrix} 1\\\\ i \\end{bmatrix}, \\begin{bmatrix} 0\\\\ 1+i \\end{bmatrix} \\right\\}$ y $\\mathcal{B}_2 := \\left\\{ \\begin{bmatrix} -i\\\\2 \\end{bmatrix}, \\begin{bmatrix} 1-i\\\\ 1 \\end{bmatrix} \\right\\}$ dos bases de $\\mathbb{C}^2$. Hallar la matriz de cambio de coordenadas de la base $\\mathcal{B}_1$ en la base $\\mathcal{B}_2$. Dado $[v]^{\\mathcal{B}_2} = \\begin{bmatrix} i \\\\ i\\end{bmatrix}$, calcular $[v]^{\\mathcal{B}_1}$."
      ],
      "metadata": {
        "id": "KMFQZDUdSH4w"
      }
    },
    {
      "cell_type": "code",
      "source": [
        "v1 = Matrix([1,I])\n",
        "v2 = Matrix([0,1+I])\n",
        "MB1 = Matrix.hstack(v1,v2)\n",
        "\n",
        "w1 = Matrix([-I,2]) \n",
        "w2 = Matrix([1-I,1])\n",
        "MB2 = Matrix.hstack(w1,w2)\n",
        "\n",
        "M_B1_B2 = (MB2.inv())*MB1\n",
        "M_B1_B2 = simplify(M_B1_B2)\n",
        "\n",
        "M_B2_B1 = M_B1_B2.inv() #Traduzco de B2 a B1\n",
        "\n",
        "v_B2 = Matrix([i,i])\n",
        "v_B1 = simplify(M_B2_B1 * v_B2) #M_B2_B1 * v_B2 = v_B1"
      ],
      "metadata": {
        "id": "uXL3_0l-SNeC"
      },
      "execution_count": 30,
      "outputs": []
    },
    {
      "cell_type": "markdown",
      "source": [
        "##### 6.**b.** Sean $\\mathcal{B}_1 := \\left\\lbrace 1,x,x^2\\right\\rbrace$ y $\\mathcal{B}_2 := \\left\\lbrace 2x^2-1, 4x, 3x^2-x\\right\\rbrace$ dos bases de $\\mathbb{R}_2[x]$. Hallar la matriz de cambio de coordenadas de la base $\\mathcal{B}_1$ en la base $\\mathcal{B}_2$."
      ],
      "metadata": {
        "id": "4BIEcKjPalFF"
      }
    },
    {
      "cell_type": "code",
      "source": [
        "w1_B1 = Matrix([-1,0,2]) #primer elemento de B2 escrito en términos de B1 (coordenadas)\n",
        "w2_B1 = Matrix([0,4,0])  #segundo elemento de B2 escrito en términos de B1 (coordenadas)\n",
        "w3_B1 = Matrix([0,-1,3]) #tercer elemento de B2 escrito en términos de B1 (coordenadas)\n",
        "\n",
        "M_B2_B1 = Matrix.hstack(w1_B1,w2_B1,w3_B1) #matriz que traduce de B2 a B1\n",
        "M_B1_B2 = M_B2_B1.inv()\n",
        "M_B1_B2"
      ],
      "metadata": {
        "colab": {
          "base_uri": "https://localhost:8080/",
          "height": 77
        },
        "id": "RuIVUWG_aqPr",
        "outputId": "838afb99-06f8-4fa0-a505-1974b7936f7c"
      },
      "execution_count": 31,
      "outputs": [
        {
          "output_type": "execute_result",
          "data": {
            "text/latex": "$\\displaystyle \\left[\\begin{matrix}-1 & 0 & 0\\\\\\frac{1}{6} & \\frac{1}{4} & \\frac{1}{12}\\\\\\frac{2}{3} & 0 & \\frac{1}{3}\\end{matrix}\\right]$",
            "text/plain": [
              "⎡-1    0    0  ⎤\n",
              "⎢              ⎥\n",
              "⎢1/6  1/4  1/12⎥\n",
              "⎢              ⎥\n",
              "⎣2/3   0   1/3 ⎦"
            ]
          },
          "metadata": {},
          "execution_count": 31
        }
      ]
    },
    {
      "cell_type": "markdown",
      "source": [
        "##### 6.**c.** Sea $\\mathcal{B}_1$ la base de $\\mathbb{R}^3$ definida por\n",
        "\\begin{equation*} \n",
        "\\mathcal{B}_1 := \\left\\{ \\begin{bmatrix} 1\\\\ 2\\\\ 1 \\end{bmatrix}, \\begin{bmatrix} 2\\\\ 5\\\\ 0 \\end{bmatrix}, \\begin{bmatrix} 3\\\\ 3\\\\ 8 \\end{bmatrix} \\right\\}.\n",
        "\\end{equation*}\n",
        "y $\\mathcal{B}_2$ otra base de $\\mathbb{R}^3$ tal que la matriz de cambio de coordenadas de la base $\\mathcal{B}_1$ en la base $\\mathcal{B}_2$ sea\n",
        "\\begin{equation*} \n",
        "M_{\\mathcal{B}_1}^{\\mathcal{B}_2} := \\begin{bmatrix} 1 & 0 & 0 \\\\ 1 & 4 & 0\\\\ 4 & 2 & 2 \\end{bmatrix}.\n",
        "\\end{equation*}\n",
        "\n",
        "(a) Hallar la base $\\mathcal{B}_2$.\n",
        "\n",
        "(b) Hallar la matriz de cambio de coordenadas de la base $\\mathcal{E}$ en la base $\\mathcal{B}_2$, siendo $\\mathcal{E}$ la base canónica de $\\mathbb{R}^3$.\n",
        "\n",
        "(c) Para cada $x \\in \\mathbb{R}^3$, determinar la expresión del vector de coordenadas de $x$ en la base $\\mathcal{B}_2$."
      ],
      "metadata": {
        "id": "285TbhzscPfE"
      }
    },
    {
      "cell_type": "code",
      "source": [
        "#(a).\n",
        "\n",
        "v1 = Matrix([1,2,1])\n",
        "v2 = Matrix([2,5,0])\n",
        "v3 = Matrix([3,3,8])\n",
        "M_B1 = Matrix.hstack(v1,v2,v3)\n",
        "\n",
        "M_B1_B2 = Matrix([[1,0,0],[1,4,0],[4,2,2]])\n",
        "M_B2_B1 = M_B1_B2.inv()\n",
        "\n",
        "M_B2 = M_B1 * M_B2_B1 \n",
        "\n",
        "#(b).\n",
        "v1 = Matrix([1,0,0])\n",
        "v2 = Matrix([0,1,0])\n",
        "v3 = Matrix([0,0,1])\n",
        "M_E = Matrix.hstack(v1,v2,v3)\n",
        "\n",
        "#FORMA 1: usando el resultado anterior\n",
        "#M_B2 ya lo tengo\n",
        "M_B2_E = M_E.inv()*M_B2 #notar que es lo mismo que M_B2\n",
        "\n",
        "#FORMA 2: sin usar resultado anterior\n",
        "M_B1_E = M_B1\n",
        "M_B2_E = M_B1_E*M_B2_B1 \n",
        "\n",
        "#(c.) Quiero a tal que M_B2 . a = x\n",
        "x1, x2, x3 = symbols('x1 x2 x3') \n",
        "x = Matrix([x1, x2, x3])\n",
        "\n",
        "a = (M_B2.inv())*x #solucion de M_B2.a = x"
      ],
      "metadata": {
        "id": "ZBgUumKmeYcJ"
      },
      "execution_count": 32,
      "outputs": []
    },
    {
      "cell_type": "markdown",
      "source": [
        "##### 6.**d.** Sea $B$ la base de $\\mathbb{R}^3$ definida por\n",
        "\\begin{equation*} \n",
        "B := \\left\\{ \\begin{bmatrix} 1\\\\ 1\\\\ 0 \\end{bmatrix}, \\begin{bmatrix} 1\\\\ 0\\\\ 1 \\end{bmatrix}, \\begin{bmatrix} 0\\\\ 1\\\\ 1 \\end{bmatrix} \\right\\}.\n",
        "\\end{equation*}\n",
        "Sea $C$ la base de $\\mathbb{R}^3$ tal que la matriz de cambio de coordenadas de la base $C$ en la base $B$ sea\n",
        "\\begin{equation*} \n",
        "M_C^B := \\frac12\\begin{bmatrix} -3 & -3 & 3 \\\\ 5 & -1 & 1\\\\ -1 & 5 & 1 \\end{bmatrix}.\n",
        "\\end{equation*}\n",
        "\n",
        "Hallar el vector de coordenadas de $x = \\begin{bmatrix}2&1&1\\end{bmatrix}^T$ en la base $C$."
      ],
      "metadata": {
        "id": "FKQeyPlyUE5g"
      }
    },
    {
      "cell_type": "code",
      "source": [
        "#Base B\n",
        "v1 = Matrix([1,1,0])\n",
        "v2 = Matrix([1,0,1])\n",
        "v3 = Matrix([0,1,1])\n",
        "B = [v1,v2,v3]\n",
        "M_B_E = Matrix.hstack(*B)\n",
        "\n",
        "#Matriz cambio de base C a B\n",
        "M_C_B = Rational('1/2') * Matrix([[-3,-3, 3],\n",
        "                                  [ 5,-1, 1],\n",
        "                                  [-1, 5, 1]])\n",
        "M_B_C = M_C_B.inv() \n",
        "\n",
        "#Vector a buscar coordenadas\n",
        "x = Matrix([2, 1, 1])\n",
        "\n",
        "#Lo traduzco a base B\n",
        "x_B = M_B_E.inv() * x\n",
        "\n",
        "#Lo traduzco a base C con el traductor de base B a C\n",
        "x_C = M_B_C * x_B"
      ],
      "metadata": {
        "id": "oynds6ZJU9nR"
      },
      "execution_count": 33,
      "outputs": []
    },
    {
      "cell_type": "markdown",
      "source": [
        "#### **7.** Dadas $\\mathbb{S} = \\left\\{ ...\\right\\}$ y $\\mathbb{T} = \\left\\{ ... \\right\\}$. Hallar bases para el mayor subespacio contenido en ambos (infimo, la intersección) y el menor subespacio que contiene a ambos (supremo, la suma)."
      ],
      "metadata": {
        "id": "Wx1h-v35D26H"
      }
    },
    {
      "cell_type": "markdown",
      "source": [
        "##### 7.**a.** Dadas $\\mathbb{S} = \\left\\{x \\in \\mathbb{R}^5 : 2.x_1 - x_2 - x_3 = x_4 - 3.x_5 = 0 \\right\\}$ y $\\mathbb{T} = \\left\\{x \\in \\mathbb{R}^5 : x_3 + x_4 = 0 \\right\\}$. Hallar bases para el mayor subespacio contenido en ambos y el menor subespacio que contiene a ambos"
      ],
      "metadata": {
        "id": "NnOjdnrCDO1F"
      }
    },
    {
      "cell_type": "code",
      "source": [
        "#CASO DOS SUBESPACIOS CON ECUACIONES\n",
        "\n",
        "s1 = Matrix([2,-1,-1,0,0]).T\n",
        "s2 = Matrix([0,0,0,1,-3]).T\n",
        "S = Matrix.vstack(s1, s2)\n",
        "T = Matrix([0,0,1,1,0]).T\n",
        "\n",
        "#Intersección: infimo\n",
        "\n",
        "M_ST = (Matrix.vstack(S,T)) #los vectores como filas\n",
        "z = zeros(3, 1)\n",
        "x, x_0, generadores_interseccion = gauss_jordan_con_generadores(M_ST, z)\n",
        "generadores_interseccion        #El infimo esta generado por estos vectores\n",
        "\n",
        "#Suma: supremo\n",
        "\n",
        "#Ahora busco bases de cada subespacio\n",
        "z = zeros(2, 1)\n",
        "x, x_0, generadores_bs = gauss_jordan_con_generadores(S, z)\n",
        "generadores_bs\n",
        "\n",
        "z = zeros(1, 1)\n",
        "x, x_0, generadores_bt = gauss_jordan_con_generadores(T, z)\n",
        "generadores_bt\n",
        "\n",
        "#Junto las bases\n",
        "generadores_suma = union_S1_S2(generadores_bs, generadores_bt) #El supremo esta generado por estos vectores\n",
        "generadores_suma"
      ],
      "metadata": {
        "colab": {
          "base_uri": "https://localhost:8080/",
          "height": 0
        },
        "id": "pucSL5TkEF9G",
        "outputId": "f03ebbb5-a6ea-42a0-9d30-e715cb7b1be4"
      },
      "execution_count": 34,
      "outputs": [
        {
          "output_type": "execute_result",
          "data": {
            "text/latex": "$\\displaystyle \\left[ \\left[\\begin{matrix}\\frac{1}{2}\\\\1\\\\0\\\\0\\\\0\\end{matrix}\\right], \\  \\left[\\begin{matrix}\\frac{1}{2}\\\\0\\\\1\\\\0\\\\0\\end{matrix}\\right], \\  \\left[\\begin{matrix}0\\\\0\\\\0\\\\3\\\\1\\end{matrix}\\right], \\  \\left[\\begin{matrix}1\\\\0\\\\0\\\\0\\\\0\\end{matrix}\\right], \\  \\left[\\begin{matrix}0\\\\0\\\\-1\\\\1\\\\0\\end{matrix}\\right]\\right]$",
            "text/plain": [
              "⎡⎡1/2⎤  ⎡1/2⎤  ⎡0⎤  ⎡1⎤  ⎡0 ⎤⎤\n",
              "⎢⎢   ⎥  ⎢   ⎥  ⎢ ⎥  ⎢ ⎥  ⎢  ⎥⎥\n",
              "⎢⎢ 1 ⎥  ⎢ 0 ⎥  ⎢0⎥  ⎢0⎥  ⎢0 ⎥⎥\n",
              "⎢⎢   ⎥  ⎢   ⎥  ⎢ ⎥  ⎢ ⎥  ⎢  ⎥⎥\n",
              "⎢⎢ 0 ⎥, ⎢ 1 ⎥, ⎢0⎥, ⎢0⎥, ⎢-1⎥⎥\n",
              "⎢⎢   ⎥  ⎢   ⎥  ⎢ ⎥  ⎢ ⎥  ⎢  ⎥⎥\n",
              "⎢⎢ 0 ⎥  ⎢ 0 ⎥  ⎢3⎥  ⎢0⎥  ⎢1 ⎥⎥\n",
              "⎢⎢   ⎥  ⎢   ⎥  ⎢ ⎥  ⎢ ⎥  ⎢  ⎥⎥\n",
              "⎣⎣ 0 ⎦  ⎣ 0 ⎦  ⎣1⎦  ⎣0⎦  ⎣0 ⎦⎦"
            ]
          },
          "metadata": {},
          "execution_count": 34
        }
      ]
    },
    {
      "cell_type": "markdown",
      "source": [
        "##### 7.**b.** Dadas $\\mathbb{S} = \\left\\{p \\in \\mathbb{R}_3[x] : p(1) = p(2) = 0 \\right\\}$ y $\\mathbb{T} = gen\\left\\{x^3 - 5.x^2 + 6.x, x^2 - 5.x + 6 \\right\\}$. Hallar $\\mathbb{S} \\cap \\mathbb{T}$ y $\\mathbb{S} + \\mathbb{T}$."
      ],
      "metadata": {
        "id": "g07Ufel9SuqO"
      }
    },
    {
      "cell_type": "code",
      "source": [
        "#CASO UN SUBESPACIO CON ECUACION, UN SUBESPACIO CON GENERADORES.\n",
        "\n",
        "#Intersección: infimo\n",
        "\n",
        "#Busco un polinomio que este en T\n",
        "x, a, b = symbols('x, a, b')\n",
        "\n",
        "p = a*(x**3 - 5*x**2 + 6*x) + b*(x**2 - 5*x + 6)\n",
        "\n",
        "#Obtengo informacion con las ecuaciones de S\n",
        "p1 = p.subs(x, 1) #me dice que b = -a -> se resuelve igualando a 0 pero no se puede hacer con Python \n",
        "p2 = p.subs(x, 2) #no me da informacion\n",
        "\n",
        "#Coloco la informacion que obtuve en p\n",
        "p_new = p.subs(b, -a) #ya tengo el polinomio, miro el generador:\n",
        "generador_interseccion = p_new.subs(a, 1) \n",
        "\n",
        "#Suma: supremo\n",
        "#Ahora busco bases de cada subespacio\n",
        "\n",
        "#S\n",
        "#Si los polinomios se anulan en 1 **y** 2, un polinomio es del estilo (x-1)(x-2)\n",
        "#Como estamos en R3, y hay 2 ecuaciones: 4 - 2 = 2 -> cantidad de vectores de la base de S\n",
        "#Busco los dos vectores haciendo (x-1)(x-2).q(x) con q(x) = mx + b\n",
        "x, m, b = symbols('x, m, b')\n",
        "s_aux = (x-1)*(x-2)\n",
        "s = expand(s_aux*(m*x + b)) #saco factor comun b y factor comun m a mano (no se hacerlo en python)\n",
        "s1 = x**3 - 3*x**2 + 2*x\n",
        "s2 = x**2 - 3*x + 2\n",
        "generadores_bs = [s1, s2]\n",
        "\n",
        "#T\n",
        "#Ya me lo da el enunciado\n",
        "t1 = x**3 - 5*x**2 + 6*x\n",
        "t2 = x**2 - 5*x + 6\n",
        "generadores_bt = [t1, t2]\n",
        "\n",
        "#Junto las bases: tengo cuatro vectores\n",
        "#Se que no son LI porque dim(S+T) = dim(S) + dim(T) - dim(S∩T) = 2 + 2 - 1 = 3\n",
        "#Tomo coordenadas en base B = {x^3, x^2, x, 1}\n",
        "S = [Matrix([1, -3,  2, 0]), Matrix([0,  1, -3, 2])]\n",
        "T = [Matrix([1, -5,  6, 0]), Matrix([0,  1, -5, 6])]\n",
        "\n",
        "generadores_suma = union_S1_S2(S,T)\n",
        "generadores_suma                #El supremo esta generado por estos vectores"
      ],
      "metadata": {
        "colab": {
          "base_uri": "https://localhost:8080/",
          "height": 0
        },
        "id": "43lwkBsfT1OF",
        "outputId": "32f620ed-9a48-4dea-ad20-09fd5845f71f"
      },
      "execution_count": 35,
      "outputs": [
        {
          "output_type": "execute_result",
          "data": {
            "text/latex": "$\\displaystyle \\left[ \\left[\\begin{matrix}1\\\\-3\\\\2\\\\0\\end{matrix}\\right], \\  \\left[\\begin{matrix}0\\\\1\\\\-3\\\\2\\end{matrix}\\right], \\  \\left[\\begin{matrix}1\\\\-5\\\\6\\\\0\\end{matrix}\\right]\\right]$",
            "text/plain": [
              "⎡⎡1 ⎤  ⎡0 ⎤  ⎡1 ⎤⎤\n",
              "⎢⎢  ⎥  ⎢  ⎥  ⎢  ⎥⎥\n",
              "⎢⎢-3⎥  ⎢1 ⎥  ⎢-5⎥⎥\n",
              "⎢⎢  ⎥, ⎢  ⎥, ⎢  ⎥⎥\n",
              "⎢⎢2 ⎥  ⎢-3⎥  ⎢6 ⎥⎥\n",
              "⎢⎢  ⎥  ⎢  ⎥  ⎢  ⎥⎥\n",
              "⎣⎣0 ⎦  ⎣2 ⎦  ⎣0 ⎦⎦"
            ]
          },
          "metadata": {},
          "execution_count": 35
        }
      ]
    },
    {
      "cell_type": "markdown",
      "source": [
        "##### 7.**c.** $\\mathbb{S_1}$ y $\\mathbb{S_2}$ son los subespacios de $\\mathbb{R}^4$ definidos por\n",
        "\n",
        "$$\n",
        "\\mathbb{S}_1 := gen\\left\\{\n",
        "  \\begin{bmatrix} 1 & 0 & 2 & 1 \\end{bmatrix}^T,\n",
        "  \\begin{bmatrix} 1 & 1 & 1 & 1 \\end{bmatrix}^T \\right\\}\n",
        "$$\n",
        "\n",
        "$$\n",
        "\\mathbb{S}_2 := gen\\left\\{\n",
        "  \\begin{bmatrix} 4 & 2 & 2 & 0 \\end{bmatrix}^T,\n",
        "  \\begin{bmatrix} 2 & 0 & 2 & 0 \\end{bmatrix}^T \\right\\}\n",
        "$$"
      ],
      "metadata": {
        "id": "dkf10K7_Ju8m"
      }
    },
    {
      "cell_type": "code",
      "source": [
        "#CASO DOS SUBESPACIOS CON GENERADORES\n",
        "\n",
        "S1 = [Matrix([1,0,2,1]), Matrix([1,1,1,1])]\n",
        "S2 = [Matrix([4,2,2,0]), Matrix([2,0,2,0])]\n",
        "\n",
        "generadores_interseccion = interseccion_S1_S2_dos_lados(S1, S2) \n",
        "generadores_interseccion        #El infimo esta generado por estos vectores\n",
        "\n",
        "#Junto las bases\n",
        "generadores_suma = union_S1_S2(S1, S2)\n",
        "generadores_suma                #El supremo esta generado por estos vectores"
      ],
      "metadata": {
        "colab": {
          "base_uri": "https://localhost:8080/",
          "height": 0
        },
        "id": "iJdiGZdYJ86k",
        "outputId": "6e632223-8f45-4d20-d0c9-39d341b6062e"
      },
      "execution_count": 36,
      "outputs": [
        {
          "output_type": "execute_result",
          "data": {
            "text/latex": "$\\displaystyle \\left[ \\left[\\begin{matrix}1\\\\0\\\\2\\\\1\\end{matrix}\\right], \\  \\left[\\begin{matrix}1\\\\1\\\\1\\\\1\\end{matrix}\\right], \\  \\left[\\begin{matrix}4\\\\2\\\\2\\\\0\\end{matrix}\\right]\\right]$",
            "text/plain": [
              "⎡⎡1⎤  ⎡1⎤  ⎡4⎤⎤\n",
              "⎢⎢ ⎥  ⎢ ⎥  ⎢ ⎥⎥\n",
              "⎢⎢0⎥  ⎢1⎥  ⎢2⎥⎥\n",
              "⎢⎢ ⎥, ⎢ ⎥, ⎢ ⎥⎥\n",
              "⎢⎢2⎥  ⎢1⎥  ⎢2⎥⎥\n",
              "⎢⎢ ⎥  ⎢ ⎥  ⎢ ⎥⎥\n",
              "⎣⎣1⎦  ⎣1⎦  ⎣0⎦⎦"
            ]
          },
          "metadata": {},
          "execution_count": 36
        }
      ]
    },
    {
      "cell_type": "markdown",
      "source": [
        "#### **8.** Sean $\\mathbb{S}_1$ y $\\mathbb{S}_2$ los subespacios definidos por\n",
        "\n",
        "$$\n",
        "\\begin{align}\n",
        "\\mathbb{S}_1 := \\left\\{ ... \\right\\} & & \\mathbb{S}_2 := \\left\\{ ... \\right\\}.\n",
        "\\end{align}\n",
        "$$\n",
        "\n",
        "#### Hallar un subespacio $\\mathbb{T}$ tal que..."
      ],
      "metadata": {
        "id": "I4i5exu4oF_R"
      }
    },
    {
      "cell_type": "markdown",
      "source": [
        "##### 8.**a.** Sean $\\mathbb{S}_1$ y $\\mathbb{S}_2$ los subespacios de $\\mathbb{R}^2$ definidos por\n",
        "\n",
        "$$\n",
        "\\begin{align}\n",
        "\\mathbb{S}_1 := \\left\\{ x\\in \\mathbb{R}^2 : 2x_1 + x_2 = 0\\right\\} & & \\mathbb{S}_2 := \\left\\{ x\\in \\mathbb{R}^2 : x_1 + x_2 = 0\\right\\}.\n",
        "\\end{align}\n",
        "$$\n",
        "\n",
        "Hallar un subespacio $\\mathbb{T}$ de $\\mathbb{R}^2$ tal que $\\mathbb{S}_1 \\oplus \\mathbb{T} = \\mathbb{S}_2 \\oplus \\mathbb{T} = \\mathbb{R}^2$."
      ],
      "metadata": {
        "id": "jt11P4QSoqxQ"
      }
    },
    {
      "cell_type": "code",
      "source": [
        "S1 = Matrix([[2, 1]])\n",
        "z = zeros(1,1)\n",
        "_, _, generadores_s1 = gauss_jordan_con_generadores(S1, z)\n",
        "v1 = generadores_s1[0] #obtengo el unico vector\n",
        "\n",
        "S2 = Matrix([[1, 1]])\n",
        "z = zeros(1,1)\n",
        "_, _, generadores_s2 = gauss_jordan_con_generadores(S2, z)\n",
        "w1 = generadores_s2[0] #obtengo el unico vector\n",
        "\n",
        "#Averiguo la dimension de T:\n",
        "#dim(S1) + dim(T) = dim(R2)  y  dim(S2) + dim(T) = dim(R2) \n",
        "#  1     + dim(T) =   2      y     1    + dim(T) =   2\n",
        "#          dim(T) =   1      y            dim(T) =   1\n",
        "\n",
        "#Averiguo S1∩S2\n",
        "S1_int_S2 = interseccion_S1_S2_dos_lados(generadores_s1, generadores_s2)\n",
        "S1_int_S2 #la intersección es nula\n",
        "\n",
        "#Averiguo S1+S2\n",
        "#dim(S1+S2) = dim(S1) + dim(S2) = 2\n",
        "S1_un_S2 = union_S1_S2(generadores_s1, generadores_s2) #S1+S2 = gen{s1, s2}\n",
        "S1_un_S2 #supremo\n",
        "\n",
        "#Construyo T:\n",
        "#T = ((S1+S2) + U) = gen{v1+w1}\n",
        "gen_T = v1+w1"
      ],
      "metadata": {
        "id": "SLHJXZpX3mPZ"
      },
      "execution_count": 37,
      "outputs": []
    },
    {
      "cell_type": "markdown",
      "source": [
        "##### 8.**b.** Sean $\\mathbb{S}_1$ y $\\mathbb{S}_2$ los subespacios de $\\mathbb{R}^4$ definidos por\n",
        "\n",
        "$$\n",
        "\\begin{align}\n",
        "\\mathbb{S}_1 := gen \\left\\{ \\begin{bmatrix} 0 & 1 & -1 & 2\\end{bmatrix}^T, \\begin{bmatrix} 1 & 1 & 0 & 1\\end{bmatrix}^T \\right\\} & & \\mathbb{S}_2 := \\left\\{ \\begin{bmatrix} 1 & 2 & 0 & 2 \\end{bmatrix}^T, \\begin{bmatrix} 0 & 1 & 0 & 1 \\end{bmatrix}^T \\right\\}.\n",
        "\\end{align}\n",
        "$$\n",
        "\n",
        "Hallar un subespacio $\\mathbb{T}$ de $\\mathbb{R}^4$ tal que \n",
        "\n",
        " **(a)** $\\mathbb{S}_1 \\oplus \\mathbb{T} = \\mathbb{S}_2 \\oplus \\mathbb{T} = \\mathrm{Nul}\\left( \\begin{bmatrix} 0 & -1 & 1 & 1\\end{bmatrix}\\right)$.\n",
        "\n",
        " **(b)** $\\mathbb{S}_1 \\oplus \\mathbb{T} = \\mathbb{S}_2 \\oplus \\mathbb{T} = \\mathbb{R}^4$."
      ],
      "metadata": {
        "id": "cGJpaVCPLTmJ"
      }
    },
    {
      "cell_type": "code",
      "source": [
        "#(a).\n",
        "#Escribo dimensiones:\n",
        "#   dim(V) = 3\n",
        "#   dim(S1) = 2\n",
        "#   dim(S2) = 2\n",
        "#   dim(T) = dim(V) - dim(S1) = 1\n",
        "\n",
        "#1.Busco base de S1∩S2: a.v1 + b.v2 = c.v3 + d.v4\n",
        "s11, s12 = Matrix([0,1,-1,2]), Matrix([1,1,0,1])\n",
        "S1 = [s11, s12]\n",
        "s21, s22 = Matrix([1,2,0,2]), Matrix([0,1,0,1])\n",
        "S2 = [s21, s22]\n",
        "\n",
        "S1_int_S2 = interseccion_S1_S2_dos_lados(S1, S2)\n",
        "\n",
        "#2.Extiendo las bases\n",
        "v1 = Matrix([0, 1, -1, 2])\n",
        "BS1 = [*S1_int_S2, v1]#le agrego algun vector del enunciado que sea LI con S1_int_S2\n",
        "\n",
        "w1 = Matrix([1, 2, 0, 2])\n",
        "BS2 = [*S1_int_S2, w1]#le agrego algun vector del enunciado que sea LI con S1_int_S2\n",
        "\n",
        "#3.Busco S1+S2: tiene que tener dim(S1+S2) = dim(S1) + dim(S2) - dim(S1∩S2) = 2 + 2 - 1 = 3 \n",
        "\n",
        "S1_un_S2 = union_S1_S2(BS1, BS2)\n",
        "S1_un_S2\n",
        "\n",
        "#3.Busco U para que (S1+S2)+U = Nul([0 -1 1 1])\n",
        "#  dim(S1+S2) + dim(U) = dim(Nul([0 -1 1 1]))\n",
        "#       3     + dim(U) = 3\n",
        "#               dim(U) = 0\n",
        "\n",
        "#Construyo T:\n",
        "#T = gen{v1+w1}\n",
        "gen_T = v1+w1\n",
        "gen_T"
      ],
      "metadata": {
        "colab": {
          "base_uri": "https://localhost:8080/",
          "height": 0
        },
        "id": "8LHYIHL2Lc7y",
        "outputId": "df6e1460-3150-419a-b5bb-19de87d4473b"
      },
      "execution_count": 38,
      "outputs": [
        {
          "output_type": "execute_result",
          "data": {
            "text/latex": "$\\displaystyle \\left[\\begin{matrix}1\\\\3\\\\-1\\\\4\\end{matrix}\\right]$",
            "text/plain": [
              "⎡1 ⎤\n",
              "⎢  ⎥\n",
              "⎢3 ⎥\n",
              "⎢  ⎥\n",
              "⎢-1⎥\n",
              "⎢  ⎥\n",
              "⎣4 ⎦"
            ]
          },
          "metadata": {},
          "execution_count": 38
        }
      ]
    },
    {
      "cell_type": "code",
      "source": [
        "#(b).\n",
        "#Escribo dimensiones: dim(V) = 4, dim(S1) = 2, dim(S2) = 2, dim(T) = dim(V) - dim(S1) = 2\n",
        "\n",
        "#1.Busco base de S1∩S2: a.v1 + b.v2 = c.v3 + d.v4\n",
        "s11, s12 = Matrix([0,1,-1,2]), Matrix([1,1,0,1])\n",
        "S1 = [s11, s12]\n",
        "s21, s22 = Matrix([1,2,0,2]), Matrix([0,1,0,1])\n",
        "S2 = [s21, s22]\n",
        "\n",
        "S1_int_S2 = interseccion_S1_S2_dos_lados([Matrix([0,1,-1,2]), Matrix([1,1,0,1])], [Matrix([1,2,0,2]), Matrix([0,1,0,1])])\n",
        "S1_int_S2        #El infimo esta generado por estos vectores\n",
        "\n",
        "#2.Extiendo las bases\n",
        "v1 = Matrix([0, 1, -1, 2])\n",
        "BS1 = [*S1_int_S2, v1]#le agrego algun vector del enunciado que sea LI con S1_int_S2\n",
        "\n",
        "w1 = Matrix([1, 2, 0, 2])\n",
        "BS2 = [*S1_int_S2, w1]#le agrego algun vector del enunciado que sea LI con S1_int_S2\n",
        "\n",
        "#3.Busco S1+S2: tiene que tener dim(S1+S2) = dim(S1) + dim(S2) - dim(S1∩S2) = 2 + 2 - 1 = 3 \n",
        "\n",
        "S1_un_S2 = union_S1_S2(S1, S2)#escribo los vectores de S1 y S2\n",
        "\n",
        "#3.Busco U para que (S1+S2) + U = R4\n",
        "#  dim(S1+S2) + dim(U) = dim(Nul([0 -1 1 1]))\n",
        "#       3     + dim(U) = 4\n",
        "#               dim(U) = 1\n",
        "#FORMA 1: Utilizo la matriz del enunciado: [0 -1 1 1]\n",
        "u = Matrix([0, -1, 1, 1])\n",
        "\n",
        "#FORMA 2: Si no se me ocurre nada, agrego la base canónica y triangulo: Principio de sustitución de Steinez\n",
        "A_li = encontrar_vector_li_a_conjunto(S1_un_S2)\n",
        "display(A_li) #veo que u = [0, 1, 0, 0]\n",
        "u = Matrix([0, 1, 0, 0])\n",
        "\n",
        "#Construyo T:\n",
        "#T = gen{v1+w1, u}\n",
        "gen1_T = v1+w1\n",
        "gen2_T = u\n",
        "gen_T = [gen1_T, gen2_T]\n"
      ],
      "metadata": {
        "colab": {
          "base_uri": "https://localhost:8080/",
          "height": 0
        },
        "id": "ud3wwM8ISv86",
        "outputId": "08f6eb0e-cb3d-4ecc-e63a-d5f433b02c1b"
      },
      "execution_count": 39,
      "outputs": [
        {
          "output_type": "display_data",
          "data": {
            "text/latex": "$\\displaystyle \\left[ \\left[\\begin{matrix}0\\\\1\\\\-1\\\\2\\end{matrix}\\right], \\  \\left[\\begin{matrix}1\\\\1\\\\0\\\\1\\end{matrix}\\right], \\  \\left[\\begin{matrix}1\\\\2\\\\0\\\\2\\end{matrix}\\right], \\  \\left[\\begin{matrix}0\\\\1\\\\0\\\\0\\end{matrix}\\right]\\right]$",
            "text/plain": [
              "⎡⎡0 ⎤  ⎡1⎤  ⎡1⎤  ⎡0⎤⎤\n",
              "⎢⎢  ⎥  ⎢ ⎥  ⎢ ⎥  ⎢ ⎥⎥\n",
              "⎢⎢1 ⎥  ⎢1⎥  ⎢2⎥  ⎢1⎥⎥\n",
              "⎢⎢  ⎥, ⎢ ⎥, ⎢ ⎥, ⎢ ⎥⎥\n",
              "⎢⎢-1⎥  ⎢0⎥  ⎢0⎥  ⎢0⎥⎥\n",
              "⎢⎢  ⎥  ⎢ ⎥  ⎢ ⎥  ⎢ ⎥⎥\n",
              "⎣⎣2 ⎦  ⎣1⎦  ⎣2⎦  ⎣0⎦⎦"
            ]
          },
          "metadata": {}
        }
      ]
    },
    {
      "cell_type": "markdown",
      "source": [
        "##### 8.**c.** Sean $\\mathbb{S}_1$ y $\\mathbb{S}_2$ los subespacios de $\\mathbb{R}^4$ definidos por\n",
        "\n",
        "$$\n",
        "\\begin{align}\n",
        "\\mathbb{S}_1 := \\left\\{ x\\in \\mathbb{R}^4 : x_1 - x_3 = x_2 + x_4 = 0\\right\\} & & \\mathbb{S}_2 := \\left\\{ x\\in \\mathbb{R}^4 : x_1 + x_3 =x_2 - x_4 = 0\\right\\}.\n",
        "\\end{align}\n",
        "$$\n",
        "\n",
        "El valor del subespacio $\\mathbb{T}$ de $\\mathbb{R}^4$ tal que $\\mathbb{S}_1 \\oplus \\mathbb{T} = \\mathbb{S}_2 \\oplus \\mathbb{T} = \\mathbb{R}^4$ es:\n",
        "\n",
        "$\\quad \\checkmark \\quad \\mathbb T = gen\\{\\begin{bmatrix}1&1&1&1\\end{bmatrix}^T, \\begin{bmatrix}1&1&-1&-1\\end{bmatrix}^T\\}$"
      ],
      "metadata": {
        "id": "GB3TxlF1gfXc"
      }
    },
    {
      "cell_type": "code",
      "source": [
        "#Escribo dimensiones: dim(V) = 4, dim(S1) = 2, dim(S2) = 2, dim(T) = dim(V) - dim(S1) = 2\n",
        "\n",
        "#Busco S1\n",
        "S1 = Matrix([[1, 0, -1, 0],\n",
        "             [0, 1,  0, 1]])\n",
        "z = zeros(2,1)\n",
        "_, _, generadores_s1 = gauss_jordan_con_generadores(S1, z)\n",
        "v1, v2 = generadores_s1\n",
        "\n",
        "#Busco S2\n",
        "S2 = Matrix([[1, 0, 1, 0],\n",
        "             [0, 1, 0, -1]])\n",
        "z = zeros(2,1)\n",
        "_, _, generadores_s2 = gauss_jordan_con_generadores(S2, z)\n",
        "w1, w2 = generadores_s2\n",
        "\n",
        "#Veo que el T dado sea LI con S1 y con S2:\n",
        "opcion_d = [Matrix([1,1,1,1]), Matrix([1,1,-1,-1])]\n",
        "\n",
        "Matrix.hstack(v1, v2, *opcion_d).rref() #veo que es LI a S1\n",
        "Matrix.hstack(w1, w2, *opcion_d).rref() #veo que es LI a S2\n",
        "#Conclusión: la correcta es la opc d.\n",
        "\n",
        "#_____________________________\n",
        "\n",
        "# Si me piden hallarlo:\n",
        "#Averiguo S1∩S2\n",
        "S1_int_S2 = interseccion_S1_S2_dos_lados(generadores_s1, generadores_s2)\n",
        "S1_int_S2 #la intersección es nula\n",
        "\n",
        "#Averiguo S1+S2\n",
        "#dim(S1+S2) = dim(S1) + dim(S2) = 2\n",
        "S1_un_S2 = union_S1_S2(generadores_s1, generadores_s2) #S1+S2 = gen{s1, s2}\n",
        "S1_un_S2 #supremo\n",
        "\n",
        "#Construyo T:\n",
        "#T = ((S1+S2) + U) = gen{v1+w1}\n",
        "gen_T = v1+w1"
      ],
      "metadata": {
        "id": "3wj9w-WcgoVl"
      },
      "execution_count": 40,
      "outputs": []
    },
    {
      "cell_type": "markdown",
      "source": [
        "### **Ejercicios STOP**"
      ],
      "metadata": {
        "id": "0nXR9yRYbWXT"
      }
    },
    {
      "cell_type": "markdown",
      "source": [
        "#### 1.**3.** Sean\\begin{equation} A_1 = \\begin{bmatrix}1&1\\\\-1&-1\\end{bmatrix}, A_2 = \\begin{bmatrix}1&-1\\\\-1&1\\end{bmatrix}, A_3 = \\begin{bmatrix}1&0\\\\-1&0\\end{bmatrix}, B = \\begin{bmatrix}2&-1\\\\-2&1\\end{bmatrix}.\\end{equation}"
      ],
      "metadata": {
        "id": "8uzuBTgObs4c"
      }
    },
    {
      "cell_type": "markdown",
      "source": [
        "##### 1.3.**a.** Comprobar que $B \\in gen\\{A_1, A_2, A_3\\}$ y hallar 3 maneras diferentes de representar $B$ como combinación lineal de las matrices $A_1, A_2, A_3$."
      ],
      "metadata": {
        "id": "xnanIyQYdmfb"
      }
    },
    {
      "cell_type": "code",
      "source": [
        "A1 = Matrix([1, 1, -1,-1])\n",
        "A2 = Matrix([1,-1, -1, 1])\n",
        "A3 = Matrix([1, 0, -1, 0])\n",
        "A = Matrix.hstack(A1, A2, A3) #La matriz A tiene como columnas A1, A2, A3\n",
        "\n",
        "B = Matrix([2, -1, -2, 1])\n",
        "\n",
        "x_sol, parametro = A.gauss_jordan_solve(B) #Resuelvo de A.x = B\n",
        "\n",
        "display(x_sol)"
      ],
      "metadata": {
        "colab": {
          "base_uri": "https://localhost:8080/",
          "height": 0
        },
        "id": "YdCGtsBFd_4O",
        "outputId": "ac48a104-dfb5-4b46-fd41-e67ca3bf2ad6"
      },
      "execution_count": 41,
      "outputs": [
        {
          "output_type": "display_data",
          "data": {
            "text/latex": "$\\displaystyle \\left[\\begin{matrix}\\frac{1}{2} - \\frac{\\tau_{0}}{2}\\\\\\frac{3}{2} - \\frac{\\tau_{0}}{2}\\\\\\tau_{0}\\end{matrix}\\right]$",
            "text/plain": [
              "⎡1   τ₀⎤\n",
              "⎢─ - ──⎥\n",
              "⎢2   2 ⎥\n",
              "⎢      ⎥\n",
              "⎢3   τ₀⎥\n",
              "⎢─ - ──⎥\n",
              "⎢2   2 ⎥\n",
              "⎢      ⎥\n",
              "⎣  τ₀  ⎦"
            ]
          },
          "metadata": {}
        }
      ]
    },
    {
      "cell_type": "markdown",
      "source": [
        "##### 1.3.**b**. Hallar un sistema de generadores del subespacio S de R3 definido por \n",
        "$\\mathbb{S}={\\rm}\\left\\{\\begin{bmatrix}x_1&x_2&x_3\\end{bmatrix}^T : \n",
        "\\begin{equation}\n",
        "x_1.A_1 + x_2.A_2 + x_3.A_3 = 0_R2x2  \n",
        "\\end{equation}\n",
        "\\right\\}$."
      ],
      "metadata": {
        "id": "Cf81q_3KhRwa"
      }
    },
    {
      "cell_type": "code",
      "source": [
        "A1 = Matrix([1, 1, -1,-1])\n",
        "A2 = Matrix([1,-1, -1, 1])\n",
        "A3 = Matrix([1, 0, -1, 0])\n",
        "A = Matrix.hstack(A1, A2, A3) #La matriz A tiene como columnas A1, A2, A3\n",
        "\n",
        "B = zeros(4,1)\n",
        "\n",
        "x_sol, parametro = A.gauss_jordan_solve(B) #Resuelvo de A.x = B\n",
        "\n",
        "display(x_sol)"
      ],
      "metadata": {
        "colab": {
          "base_uri": "https://localhost:8080/",
          "height": 0
        },
        "id": "XSFhv3UfkyeI",
        "outputId": "baca261e-3c03-4c80-ba39-66cfad65aa99"
      },
      "execution_count": 42,
      "outputs": [
        {
          "output_type": "display_data",
          "data": {
            "text/latex": "$\\displaystyle \\left[\\begin{matrix}- \\frac{\\tau_{0}}{2}\\\\- \\frac{\\tau_{0}}{2}\\\\\\tau_{0}\\end{matrix}\\right]$",
            "text/plain": [
              "⎡-τ₀ ⎤\n",
              "⎢────⎥\n",
              "⎢ 2  ⎥\n",
              "⎢    ⎥\n",
              "⎢-τ₀ ⎥\n",
              "⎢────⎥\n",
              "⎢ 2  ⎥\n",
              "⎢    ⎥\n",
              "⎣ τ₀ ⎦"
            ]
          },
          "metadata": {}
        }
      ]
    },
    {
      "cell_type": "markdown",
      "source": [
        "##### 1.3.**c**. Representar cada una de las matrices Ai como una combinación lineal de las otras dos."
      ],
      "metadata": {
        "id": "AnpKIK-MmEn3"
      }
    },
    {
      "cell_type": "code",
      "source": [
        "A1 = Matrix([1, 1, -1,-1])\n",
        "A2 = Matrix([1,-1, -1, 1])\n",
        "A3 = Matrix([1, 0, -1, 0])\n",
        "\n",
        "# A1 = [A2 A3].X\n",
        "A = Matrix.hstack(A2, A3) #La matriz A tiene como columnas A2, A3\n",
        "\n",
        "x_sol, parametro = A.gauss_jordan_solve(A1) #Resuelvo de A.x = A1\n",
        "\n",
        "display(x_sol)\n",
        "\n",
        "# A2 = [A1 A3].X\n",
        "A = Matrix.hstack(A1, A3) #La matriz A tiene como columnas A1, A3\n",
        "\n",
        "x_sol, parametro = A.gauss_jordan_solve(A2) #Resuelvo de A.x = A2\n",
        "\n",
        "display(x_sol)\n",
        "\n",
        "# A3 = [A1 A2].X\n",
        "A = Matrix.hstack(A1, A2) #La matriz A tiene como columnas A1, A2\n",
        "\n",
        "x_sol, parametro = A.gauss_jordan_solve(A3) #Resuelvo de A.x = A3\n",
        "\n",
        "display(x_sol)"
      ],
      "metadata": {
        "colab": {
          "base_uri": "https://localhost:8080/",
          "height": 0
        },
        "id": "AX8QUN5jmOu_",
        "outputId": "2edb45a1-308f-4b72-ee59-a7b37d91cf5c"
      },
      "execution_count": 43,
      "outputs": [
        {
          "output_type": "display_data",
          "data": {
            "text/latex": "$\\displaystyle \\left[\\begin{matrix}-1\\\\2\\end{matrix}\\right]$",
            "text/plain": [
              "⎡-1⎤\n",
              "⎢  ⎥\n",
              "⎣2 ⎦"
            ]
          },
          "metadata": {}
        },
        {
          "output_type": "display_data",
          "data": {
            "text/latex": "$\\displaystyle \\left[\\begin{matrix}-1\\\\2\\end{matrix}\\right]$",
            "text/plain": [
              "⎡-1⎤\n",
              "⎢  ⎥\n",
              "⎣2 ⎦"
            ]
          },
          "metadata": {}
        },
        {
          "output_type": "display_data",
          "data": {
            "text/latex": "$\\displaystyle \\left[\\begin{matrix}\\frac{1}{2}\\\\\\frac{1}{2}\\end{matrix}\\right]$",
            "text/plain": [
              "⎡1/2⎤\n",
              "⎢   ⎥\n",
              "⎣1/2⎦"
            ]
          },
          "metadata": {}
        }
      ]
    },
    {
      "cell_type": "markdown",
      "source": [
        "#### 1.**5.** Hallar todos los valores de a ∈ R para los cuales vale que:"
      ],
      "metadata": {
        "id": "uQts677UKPzK"
      }
    },
    {
      "cell_type": "markdown",
      "source": [
        "##### 1.5.**a.** ${\\rm gen}\\left\\{\\begin{bmatrix}a\\\\1\\\\2\\end{bmatrix},\\begin{bmatrix}1\\\\-a\\\\1\\end{bmatrix}, \\begin{bmatrix}3\\\\2\\\\3\\end{bmatrix}\\right\\} = {\\rm gen}\\left\\{\\begin{bmatrix}a\\\\1\\\\2\\end{bmatrix},\\begin{bmatrix}3\\\\2\\\\3\\end{bmatrix}\\right\\}$."
      ],
      "metadata": {
        "id": "31qub_4SKcmo"
      }
    },
    {
      "cell_type": "markdown",
      "source": [
        "Notar que el primer y último vector del primer subespacio son los mismos que los vectores del segundo subespacio. Con encontrar un a tal que \\begin{equation}\n",
        "\\begin{bmatrix}1\\\\-a\\\\a\\end{bmatrix} \\end{equation} es combinación lineal de los otros dos vectores alcanza. Es decir:"
      ],
      "metadata": {
        "id": "u4HDpzfOMDTp"
      }
    },
    {
      "cell_type": "code",
      "source": [
        "''' Hacer en papel porque Python falla por el uso de \"a\"\n",
        "\n",
        "  v1 = Matrix([a, 1, 2])\n",
        "  v2 = Matrix([3, 2, 3])\n",
        "  A = Matrix.hstack(v1, v2) #Armo matriz con columnas v1, v2\n",
        "\n",
        "  v3 = Matrix([1, -a, 1])\n",
        "  x_sol, parametro = A.gauss_jordan_solve(v3) #Soluciones de A.x = v3\n",
        "'''"
      ],
      "metadata": {
        "colab": {
          "base_uri": "https://localhost:8080/",
          "height": 0
        },
        "id": "X9gdqHi3Nvok",
        "outputId": "311667aa-e1f3-4dc6-f32b-45db4c17e0e5"
      },
      "execution_count": 44,
      "outputs": [
        {
          "output_type": "execute_result",
          "data": {
            "application/vnd.google.colaboratory.intrinsic+json": {
              "type": "string"
            },
            "text/plain": [
              "' Hacer en papel porque Python falla por el uso de \"a\"\\n\\n  v1 = Matrix([a, 1, 2])\\n  v2 = Matrix([3, 2, 3])\\n  A = Matrix.hstack(v1, v2) #Armo matriz con columnas v1, v2\\n\\n  v3 = Matrix([1, -a, 1])\\n  x_sol, parametro = A.gauss_jordan_solve(v3) #Soluciones de A.x = v3\\n'"
            ]
          },
          "metadata": {},
          "execution_count": 44
        }
      ]
    },
    {
      "cell_type": "markdown",
      "source": [
        "##### 1.5.**b.** ${\\rm gen}\\left\\{\\begin{bmatrix}a\\\\1\\\\2\\end{bmatrix},\\begin{bmatrix}1\\\\a\\\\1\\end{bmatrix}, \\begin{bmatrix}3\\\\2\\\\3\\end{bmatrix}\\right\\} = {\\rm gen}\\left\\{\\begin{bmatrix}1\\\\a\\\\1\\end{bmatrix},\\begin{bmatrix}3\\\\2\\\\3\\end{bmatrix}\\right\\}$."
      ],
      "metadata": {
        "id": "ZyzStC3JOk0k"
      }
    },
    {
      "cell_type": "markdown",
      "source": [
        "Notar que el primer y último vector del primer subespacio son los mismos que los vectores del segundo subespacio. Con encontrar un a tal que \\begin{equation}\n",
        "\\begin{bmatrix}a\\\\1\\\\2\\end{bmatrix} \\end{equation} es combinación lineal de los otros dos vectores alcanza. Es decir:"
      ],
      "metadata": {
        "id": "fqJGMG3XO6DM"
      }
    },
    {
      "cell_type": "code",
      "source": [
        "''' Hacer en papel porque Python falla por el uso de \"a\"\n",
        "\n",
        "  v1 = Matrix([a, 1, 2])\n",
        "  v2 = Matrix([3, 2, 3])\n",
        "  A = Matrix.hstack(v1, v2) #Armo matriz con columnas v1, v2\n",
        "\n",
        "  v3 = Matrix([1, -a, 1])\n",
        "  x_sol, parametro = A.gauss_jordan_solve(v3) #Soluciones de A.x = v3\n",
        "\n",
        "'''"
      ],
      "metadata": {
        "colab": {
          "base_uri": "https://localhost:8080/",
          "height": 0
        },
        "id": "N1ciyWmAPAdu",
        "outputId": "a9593ca5-77ee-461e-b57e-d8a5916a39f7"
      },
      "execution_count": 45,
      "outputs": [
        {
          "output_type": "execute_result",
          "data": {
            "application/vnd.google.colaboratory.intrinsic+json": {
              "type": "string"
            },
            "text/plain": [
              "' Hacer en papel porque Python falla por el uso de \"a\"\\n\\n  v1 = Matrix([a, 1, 2])\\n  v2 = Matrix([3, 2, 3])\\n  A = Matrix.hstack(v1, v2) #Armo matriz con columnas v1, v2\\n\\n  v3 = Matrix([1, -a, 1])\\n  x_sol, parametro = A.gauss_jordan_solve(v3) #Soluciones de A.x = v3\\n\\n'"
            ]
          },
          "metadata": {},
          "execution_count": 45
        }
      ]
    },
    {
      "cell_type": "markdown",
      "source": [
        "####1.**9.** Sea $\\mathbb{V}$ un $\\mathbb{K}$-espacio vectorial. Se considera al conjunto de vectores linealmente independiente $\\{v_1, v_2, v_3 \\} \\subset \\mathbb{V}$ y se definen $w_1$, $w_2$, $w_3$ mediante \n",
        "$$ \n",
        "\\begin{align*}\n",
        "    w_1 &= 2v_1 + v_3 \\\\\n",
        "    w_2 &= v_1 - v_2 + v_3 \\\\\n",
        "    w_3 &= v_1 + v_2 \n",
        "\\end{align*} \n",
        "$$ \n",
        "¿El conjunto $\\{w_1, w_2, w_3 \\}$ es linealmente independiente?"
      ],
      "metadata": {
        "id": "-AzPO_R4QzHe"
      }
    },
    {
      "cell_type": "code",
      "source": [
        "w1 = Matrix([1,-2,1,-1])\n",
        "w2 = Matrix([-4,-2,0,1])\n",
        "w3 = Matrix([2,3,-1,-3])\n",
        "w4 = Matrix([17,-10,11,1])\n",
        "A = Matrix.hstack(w1,w2,w3,w4)\n",
        "A.det() #Como el determinante no es 0, entonces el conjunto es linealmente independiente"
      ],
      "metadata": {
        "colab": {
          "base_uri": "https://localhost:8080/",
          "height": 0
        },
        "id": "nAd_RwEcQ-FI",
        "outputId": "5e95be56-14f2-42c1-90b1-a73e96019009"
      },
      "execution_count": 46,
      "outputs": [
        {
          "output_type": "execute_result",
          "data": {
            "image/png": "[encoded data removed]",
            "text/latex": "$\\displaystyle -90$",
            "text/plain": [
              "-90"
            ]
          },
          "metadata": {},
          "execution_count": 46
        }
      ]
    },
    {
      "cell_type": "markdown",
      "source": [
        "#### 1.**12.** Hallar todos los valores de $\\mathbb{a}$ ∈ $\\mathbb{R}$ para los cuales los siguientes subconjuntos son linealmente dependientes en su correspondiente espacio vectorial."
      ],
      "metadata": {
        "id": "MsgOSEKacsa9"
      }
    },
    {
      "cell_type": "markdown",
      "source": [
        "##### 1.12.**a.** $\\{1 + a.sen(x) + 3.cos(x), 4 + 5.sen(x) + 7.cos(x), a + sen(x) + cos(x)\\}$ en C∞($\\mathbb{R}$)."
      ],
      "metadata": {
        "id": "LhK1zmItd9Ak"
      }
    },
    {
      "cell_type": "code",
      "source": [
        "#Como 1, sin(x), cos(x) forman una base, escribo los vectores con las coordenadas de la base:\n",
        "\n",
        "x = Symbol('x') # Definición de la variable simbólica\n",
        "a = Symbol('a') # Definición de la variable simbólica\n",
        "\n",
        "v1 = Matrix([1,a,3])\n",
        "v2 = Matrix([4,5,7])\n",
        "v3 = Matrix([a,1,1])\n",
        "A = [v1,v2,v3]\n",
        "encontrar_a(A,a)\n",
        "\n",
        "#otra forma: calculo determinante e igualo a 0\n",
        "\n",
        "#A = Matrix.hstack(v1,v2,v3) \n",
        "#p = det(A)\n",
        "#raices = roots(p) #Si es igual a 0, es LD\n",
        "#print('Los valores de a son: ')\n",
        "#print( )\n",
        "#for i in range(len(list(raices.keys()))):\n",
        "#  display(list(raices.keys())[i])"
      ],
      "metadata": {
        "colab": {
          "base_uri": "https://localhost:8080/",
          "height": 0
        },
        "id": "aZG1UO9uYhIJ",
        "outputId": "fb50165a-d40e-40ee-dd02-3fe2207a3cbc"
      },
      "execution_count": 47,
      "outputs": [
        {
          "output_type": "execute_result",
          "data": {
            "image/png": "[encoded data removed]",
            "text/latex": "$\\displaystyle \\left[ \\frac{5}{7}, \\  2\\right]$",
            "text/plain": [
              "[5/7, 2]"
            ]
          },
          "metadata": {},
          "execution_count": 47
        }
      ]
    },
    {
      "cell_type": "markdown",
      "source": [
        "##### 1.12.**b.** $\\{1 + 2ax + x^2 + 2x^3, 2 + ax + 4x^2 + 8x^3, x^2 + 2x^3\\}$ en $\\mathbb{R}_3[x]$."
      ],
      "metadata": {
        "id": "yGuNbhKQiqvj"
      }
    },
    {
      "cell_type": "code",
      "source": [
        "#Como 1, x, x**2, x**3 forman una base, escribo los vectores con las coordenadas de la base:\n",
        "\n",
        "a = Symbol('a') # Definición de la variable simbólica\n",
        "\n",
        "v1 = Matrix([1, 2*a, 1, 2])\n",
        "v2 = Matrix([2, a, 4, 8])\n",
        "v3 = Matrix([0, 0, 1, 2])\n",
        "\n",
        "A = Matrix.hstack(v1,v2,v3) #Veo que hay una fila duplicada: es la ultima fila. Rearmo:\n",
        "display(A)\n",
        "\n",
        "v1 = Matrix([1, 2*a, 1])\n",
        "v2 = Matrix([2, a, 4])\n",
        "v3 = Matrix([0, 0, 1])\n",
        "A = [v1, v2, v3]\n",
        "encontrar_a(A,a)\n",
        "\n",
        "#otra forma: calculo determinante e igualo a 0\n",
        "\n",
        "#A = Matrix.hstack(v1,v2,v3) \n",
        "#p = det(A)\n",
        "#raices = roots(p) #Si es igual a 0, es LD\n",
        "#print('Los valores de a son: ')\n",
        "#print( )\n",
        "#for i in range(len(list(raices.keys()))):\n",
        "#  display(list(raices.keys())[i])"
      ],
      "metadata": {
        "colab": {
          "base_uri": "https://localhost:8080/",
          "height": 0
        },
        "id": "dDxJpj7VgspD",
        "outputId": "2a3e357b-96b7-4254-f753-a0758f4be9c6"
      },
      "execution_count": 48,
      "outputs": [
        {
          "output_type": "display_data",
          "data": {
            "text/latex": "$\\displaystyle \\left[\\begin{matrix}1 & 2 & 0\\\\2 a & a & 0\\\\1 & 4 & 1\\\\2 & 8 & 2\\end{matrix}\\right]$",
            "text/plain": [
              "⎡ 1   2  0⎤\n",
              "⎢         ⎥\n",
              "⎢2⋅a  a  0⎥\n",
              "⎢         ⎥\n",
              "⎢ 1   4  1⎥\n",
              "⎢         ⎥\n",
              "⎣ 2   8  2⎦"
            ]
          },
          "metadata": {}
        },
        {
          "output_type": "execute_result",
          "data": {
            "image/png": "[encoded data removed]",
            "text/latex": "$\\displaystyle \\left[ 0\\right]$",
            "text/plain": [
              "[0]"
            ]
          },
          "metadata": {},
          "execution_count": 48
        }
      ]
    },
    {
      "cell_type": "markdown",
      "source": [
        "##### 1.12.**c.** ${\\rm}\\left\\{\\begin{bmatrix}1&1\\\\a&1\\end{bmatrix},\\begin{bmatrix}2&a\\\\4&2\\end{bmatrix}, \\begin{bmatrix}3a + 1&3\\\\-4&3a + 1\\end{bmatrix}\\right\\}$ en $\\mathbb{R}^{2\\times 2}$."
      ],
      "metadata": {
        "id": "Y2hbzfbvvV3K"
      }
    },
    {
      "cell_type": "code",
      "source": [
        "#Como 1, x, x**2, x**3 forman una base, escribo los vectores con las coordenadas de la base:\n",
        "\n",
        "a = Symbol('a') # Definición de la variable simbólica\n",
        "\n",
        "v1 = Matrix([1, 1, a, 1])\n",
        "v2 = Matrix([2, a, 4, 2])\n",
        "v3 = Matrix([3*a + 1, 3, -4, 3*a + 1])\n",
        "\n",
        "A = Matrix.hstack(v1,v2,v3) #Veo que hay una fila duplicada: es la ultima fila. Rearmo:\n",
        "display(A)\n",
        "\n",
        "v1 = Matrix([1, 1, a])\n",
        "v2 = Matrix([2, a, 4])\n",
        "v3 = Matrix([3*a + 1, 3, -4])\n",
        "A = [v1,v2,v3]\n",
        "encontrar_a(A,a)\n",
        "\n",
        "#otra forma: calculo determinante e igualo a 0\n",
        "\n",
        "#A = Matrix.hstack(v1,v2,v3) \n",
        "#p = det(A)\n",
        "#raices = roots(p) #Si es igual a 0, es LD\n",
        "#print('Los valores de a son: ')\n",
        "#print( )\n",
        "#for i in range(len(list(raices.keys()))):\n",
        "#  display(list(raices.keys())[i])"
      ],
      "metadata": {
        "colab": {
          "base_uri": "https://localhost:8080/",
          "height": 0
        },
        "id": "VkqmyEluuRaE",
        "outputId": "48efd794-2472-46c8-873c-f3c3482de68b"
      },
      "execution_count": 49,
      "outputs": [
        {
          "output_type": "display_data",
          "data": {
            "text/latex": "$\\displaystyle \\left[\\begin{matrix}1 & 2 & 3 a + 1\\\\1 & a & 3\\\\a & 4 & -4\\\\1 & 2 & 3 a + 1\\end{matrix}\\right]$",
            "text/plain": [
              "⎡1  2  3⋅a + 1⎤\n",
              "⎢             ⎥\n",
              "⎢1  a     3   ⎥\n",
              "⎢             ⎥\n",
              "⎢a  4    -4   ⎥\n",
              "⎢             ⎥\n",
              "⎣1  2  3⋅a + 1⎦"
            ]
          },
          "metadata": {}
        },
        {
          "output_type": "execute_result",
          "data": {
            "image/png": "[encoded data removed]",
            "text/latex": "$\\displaystyle \\left[ - \\frac{7}{3}, \\  0, \\  2\\right]$",
            "text/plain": [
              "[-7/3, 0, 2]"
            ]
          },
          "metadata": {},
          "execution_count": 49
        }
      ]
    },
    {
      "cell_type": "markdown",
      "source": [
        "#### 1.**14.** En cada uno de los siguientes casos, hallar dos bases del subespacio generado por el sistema de generadores G: la primera utilizando el algortimo espacio filas y la segunda utilizando el algoritmo espacio columnas."
      ],
      "metadata": {
        "id": "OXXoao_Lj0j-"
      }
    },
    {
      "cell_type": "markdown",
      "source": [
        "##### 1.14.**a.** $ {G} = {\\rm}\\left\\{\\begin{bmatrix}0\\\\-1\\\\1\\end{bmatrix},\\begin{bmatrix}2\\\\1\\\\1\\end{bmatrix}\\right\\}$ en $\\mathbb{R}^{3}$."
      ],
      "metadata": {
        "id": "Na-wh92Dj8m-"
      }
    },
    {
      "cell_type": "code",
      "source": [
        "v1 = Matrix([0, -1, 1])\n",
        "v2 = Matrix([2, 1, 1])\n",
        "A = [v1,v2]\n",
        "\n",
        "algoritmo_espacio_columna(A)\n",
        "algoritmo_espacio_filas(A)"
      ],
      "metadata": {
        "colab": {
          "base_uri": "https://localhost:8080/",
          "height": 0
        },
        "id": "PZSUotk0kTbI",
        "outputId": "ea0d36fa-a051-4af7-d7d0-051df244db80"
      },
      "execution_count": 50,
      "outputs": [
        {
          "output_type": "execute_result",
          "data": {
            "text/latex": "$\\displaystyle \\left( \\left[ \\left[\\begin{matrix}1\\\\0\\\\1\\end{matrix}\\right], \\  \\left[\\begin{matrix}0\\\\1\\\\-1\\end{matrix}\\right]\\right], \\  \\left( 0, \\  1\\right)\\right)$",
            "text/plain": [
              "⎛⎡⎡1⎤  ⎡0 ⎤⎤        ⎞\n",
              "⎜⎢⎢ ⎥  ⎢  ⎥⎥        ⎟\n",
              "⎜⎢⎢0⎥, ⎢1 ⎥⎥, (0, 1)⎟\n",
              "⎜⎢⎢ ⎥  ⎢  ⎥⎥        ⎟\n",
              "⎝⎣⎣1⎦  ⎣-1⎦⎦        ⎠"
            ]
          },
          "metadata": {},
          "execution_count": 50
        }
      ]
    },
    {
      "cell_type": "markdown",
      "source": [
        "##### 1.14.**b.** $ {G} = {\\rm}\\left\\{\\begin{bmatrix}2\\\\-1\\\\1\\end{bmatrix},\\begin{bmatrix}2\\\\0\\\\1\\end{bmatrix}, \\begin{bmatrix}-2\\\\2\\\\-1\\end{bmatrix}\\right\\}$ en $\\mathbb{R}^{3}$."
      ],
      "metadata": {
        "id": "VLy36x-fkrHG"
      }
    },
    {
      "cell_type": "code",
      "source": [
        "v1 = Matrix([2, -1, 1])\n",
        "v2 = Matrix([2, 0, 1])\n",
        "v3 = Matrix([-2, 2, -1])\n",
        "\n",
        "A = [v1,v2,v3]\n",
        "\n",
        "algoritmo_espacio_columna(A)\n",
        "algoritmo_espacio_filas(A)"
      ],
      "metadata": {
        "colab": {
          "base_uri": "https://localhost:8080/",
          "height": 0
        },
        "id": "JCtiAso8prvE",
        "outputId": "7287c70d-2a08-4e75-f61e-79b1202a3664"
      },
      "execution_count": 51,
      "outputs": [
        {
          "output_type": "execute_result",
          "data": {
            "text/latex": "$\\displaystyle \\left( \\left[ \\left[\\begin{matrix}1\\\\0\\\\\\frac{1}{2}\\end{matrix}\\right], \\  \\left[\\begin{matrix}0\\\\1\\\\0\\end{matrix}\\right]\\right], \\  \\left( 0, \\  1\\right)\\right)$",
            "text/plain": [
              "⎛⎡⎡ 1 ⎤  ⎡0⎤⎤        ⎞\n",
              "⎜⎢⎢   ⎥  ⎢ ⎥⎥        ⎟\n",
              "⎜⎢⎢ 0 ⎥, ⎢1⎥⎥, (0, 1)⎟\n",
              "⎜⎢⎢   ⎥  ⎢ ⎥⎥        ⎟\n",
              "⎝⎣⎣1/2⎦  ⎣0⎦⎦        ⎠"
            ]
          },
          "metadata": {},
          "execution_count": 51
        }
      ]
    },
    {
      "cell_type": "markdown",
      "source": [
        "##### 1.14.**c.** $ {G} = {\\rm}\\left\\{\\begin{bmatrix}1\\\\0\\\\1\\end{bmatrix},\\begin{bmatrix}2\\\\1\\\\-3\\end{bmatrix}, \\begin{bmatrix}5\\\\1\\\\0\\end{bmatrix}, \\begin{bmatrix}4\\\\0\\\\4\\end{bmatrix}\\right\\}$ en $\\mathbb{R}^{3}$."
      ],
      "metadata": {
        "id": "NDyI_QA-qOVz"
      }
    },
    {
      "cell_type": "code",
      "source": [
        "v1 = Matrix([1, 0, 1])\n",
        "v2 = Matrix([2, 1, -3])\n",
        "v3 = Matrix([5, 1, 0])\n",
        "v4 = Matrix([4, 0, 4])\n",
        "\n",
        "A = [v1,v2,v3,v4]\n",
        "\n",
        "algoritmo_espacio_columna(A)\n",
        "algoritmo_espacio_filas(A)"
      ],
      "metadata": {
        "colab": {
          "base_uri": "https://localhost:8080/",
          "height": 0
        },
        "id": "yxrE0bX7qW-S",
        "outputId": "12d13d85-ded6-45ae-cc0e-4d01d931fe3f"
      },
      "execution_count": 52,
      "outputs": [
        {
          "output_type": "execute_result",
          "data": {
            "text/latex": "$\\displaystyle \\left( \\left[ \\left[\\begin{matrix}1\\\\0\\\\1\\end{matrix}\\right], \\  \\left[\\begin{matrix}0\\\\1\\\\-5\\end{matrix}\\right]\\right], \\  \\left( 0, \\  1\\right)\\right)$",
            "text/plain": [
              "⎛⎡⎡1⎤  ⎡0 ⎤⎤        ⎞\n",
              "⎜⎢⎢ ⎥  ⎢  ⎥⎥        ⎟\n",
              "⎜⎢⎢0⎥, ⎢1 ⎥⎥, (0, 1)⎟\n",
              "⎜⎢⎢ ⎥  ⎢  ⎥⎥        ⎟\n",
              "⎝⎣⎣1⎦  ⎣-5⎦⎦        ⎠"
            ]
          },
          "metadata": {},
          "execution_count": 52
        }
      ]
    },
    {
      "cell_type": "markdown",
      "source": [
        "#### 1.**16.** Hallar los valores de a ∈ R para los que el conjunto $ {B_a} = {\\rm}\\left\\{\\begin{bmatrix}a\\\\\\frac{3}{2}\\\\\\frac{1}{2}\\\\0\\end{bmatrix},\\begin{bmatrix}1\\\\\\frac{3}{2}\\\\0\\\\-\\frac{1}{2}\\end{bmatrix}, \\begin{bmatrix}\\frac{3}{2}\\\\0\\\\a\\\\\\frac{3}{2}\\end{bmatrix}\\right\\}$ es una base del subespacio $S_a = {\\rm}\\left\\{ x \\in\\mathbb{R}^4: \\frac{1}{2}.x_1 - a.x_3 + x_4 = 0 \\right\\}$"
      ],
      "metadata": {
        "id": "K_7qGCqSuFjY"
      }
    },
    {
      "cell_type": "code",
      "source": [
        "a = Symbol('a')\n",
        "v1 = Matrix([a, 3/2, 1/2, 0])\n",
        "v2 = Matrix([1, 3/2, 0, -1/2])\n",
        "v3 = Matrix([3/2, 0, a, 3/2])\n",
        "\n",
        "S = Matrix([1/2, 0, -a, 1]).T\n",
        "\n",
        "#Chequeo que todos los generadores de la base estén en el subespacio\n",
        "S*v1 #da 0, ok\n",
        "S*v2 #da 0, ok\n",
        "S*v3 #tengo que despejar para que de 0\n",
        "matriz_resultado = S*v3 #me da una matriz\n",
        "ecuacion = matriz_resultado[0,0]  #obtengo el valor de la matriz\n",
        "roots(ecuacion) #despejo a: 3/2 y -3/2\n",
        "\n",
        "A = Matrix.hstack(v1,v2,v3)\n",
        "z = zeros(4,1)\n",
        "#Analizo si los vectores generan una base con cada valor de a\n",
        "\n",
        "#a = 3/2\n",
        "A1 = A.subs(a, 3/2)\n",
        "x = A1.gauss_jordan_solve(z) #la sol no es solamente la trivial, el conjunto no es LI\n",
        "\n",
        "#a = -3/2\n",
        "A1 = A.subs(a, -3/2)\n",
        "x = A1.gauss_jordan_solve(z) #la sol es solamente la trivial, el conjunto es LI\n",
        "\n",
        "#Entonces la respuesta es la base con a = -3/2"
      ],
      "metadata": {
        "id": "5I6J0h3uw103"
      },
      "execution_count": 53,
      "outputs": []
    },
    {
      "cell_type": "markdown",
      "source": [
        "#### 1.**21.** Sea $A \\in \\mathbb{R}^{4 \\times 5}$ la matriz definida por:\n",
        "$$\n",
        "A = \n",
        "\\begin{bmatrix}\n",
        "1 & 2 &  0 &  4 & 0 \\\\\n",
        "1 & 3 &  5 &  2 & 1 \\\\\n",
        "2 & 3 & -5 & 10 & 0 \\\\\n",
        "2 & 4 &  0 &  8 & 1 \n",
        "\\end{bmatrix}\n",
        "$$"
      ],
      "metadata": {
        "id": "ZlCI5lkca6Vy"
      }
    },
    {
      "cell_type": "markdown",
      "source": [
        "##### 1.21.**a.** Hallar una base de cada uno de los cuatro subespacios fundamentales de la matriz A."
      ],
      "metadata": {
        "id": "dtdsQ5peb0QQ"
      }
    },
    {
      "cell_type": "code",
      "source": [
        "A = Matrix([[1, 2, 0, 4, 0],\n",
        "            [1, 3, 5, 2, 1],\n",
        "            [2, 3,-5,10, 0],\n",
        "            [2, 4, 0, 8, 1]])\n",
        "At = A.T\n",
        "\n",
        "fil_A = At.columnspace() #fil(A)\n",
        "col_A =A.columnspace() #col(A)\n",
        "nul_A = A.nullspace() #nul(A)\n",
        "nul_At = At.nullspace() #nul(At)"
      ],
      "metadata": {
        "id": "kK6sHP1kQ3Ey"
      },
      "execution_count": 54,
      "outputs": []
    },
    {
      "cell_type": "markdown",
      "source": [
        "##### 1.21.**b.** Sea b = [3 5 5 7]T, ¿existe x ∈ R5 tal que Ax = b? Si la respuesta es afirmativa, hallar todas las soluciones del sistema Ax = b."
      ],
      "metadata": {
        "id": "yyBt3JpwcAOL"
      }
    },
    {
      "cell_type": "code",
      "source": [
        "A = Matrix([[1, 2, 0, 4, 0],\n",
        "            [1, 3, 5, 2, 1],\n",
        "            [2, 3,-5,10, 0],\n",
        "            [2, 4, 0, 8, 1]])\n",
        "\n",
        "b = Matrix([3, 5, 5, 7])\n",
        "\n",
        "x = A.gauss_jordan_solve(b)\n"
      ],
      "metadata": {
        "id": "WJHiAa1ycJXQ"
      },
      "execution_count": 55,
      "outputs": []
    },
    {
      "cell_type": "markdown",
      "source": [
        "##### 1.21.**c.** Sea b = [3 5 5 7]T, ¿existe x ∈ R5 tal que Ax = b? Si la respuesta es afirmativa, hallar todas las soluciones del sistema Ax = b pertenecientes a fil(A)."
      ],
      "metadata": {
        "id": "AR4TmRu4dT5v"
      }
    },
    {
      "cell_type": "code",
      "source": [
        "A = Matrix([[1, 2, 0, 4, 0],\n",
        "            [1, 3, 5, 2, 1],\n",
        "            [2, 3,-5,10, 0],\n",
        "            [2, 4, 0, 8, 1]])\n",
        "\n",
        "b = Matrix([3, 5, 5, 7])\n",
        "\n",
        "#Se que Fil_A . ε = x -> x es el resultado de una combinación lineal de los generadores de fil\n",
        "#También se que A.x = b\n",
        "#Tengo:\n",
        "#Fil_A . ε = x\n",
        "#A.Fil_A . ε = A. x -> Multiplico ambos lados por A\n",
        "#A.Fil_A . ε = b    -> A.x = b\n",
        "\n",
        "#Calculo A.Fil_A\n",
        "fil_A = A.T.columnspace() # Determinar una base de fil(A): f_1, f_2, ..., f_r\n",
        "F = Matrix.hstack(*fil_A) # Construir una matriz F=[f_1 f_2 ... f_r] \n",
        "A_F = A * F\n",
        "\n",
        "#Calculo ε sabiendo que A.Fil_A . ε = b \n",
        "x_aux, p = A_F.gauss_jordan_solve(b)\n",
        "\n",
        "#Calculo x sabiendo que Fil_A.ε = x \n",
        "x_f = F * x_aux #la solucion es x_f -> el resultado de la combinacion lineal"
      ],
      "metadata": {
        "id": "C2cnkywvdTZ_"
      },
      "execution_count": 56,
      "outputs": []
    },
    {
      "cell_type": "markdown",
      "source": [
        "#### 1.**24.** Sea $A \\in \\mathbb{R}^{3 \\times 3}$ y $B \\in \\mathbb{R}^{3 \\times 4}$ dos matrices tales que:\n",
        "\n",
        "$$\n",
        "AB = \n",
        "\\begin{bmatrix}\n",
        "10 & -10 & -5 & 5 \\\\\n",
        "11 & -11 & -4 & 7 \\\\\n",
        "11 & -11 & -5 & 6\n",
        "\\end{bmatrix}\n",
        "$$\n",
        "\n",
        "donde $\\mathrm{rg}(A) = 3$, y $B$ satisface que $B \\begin{bmatrix} 1 & 1 & 1 & 1 \\end{bmatrix}^T = \\begin{bmatrix} 0 & 3 & 1 \\end{bmatrix}^T$, $B \\begin{bmatrix} 1 & 0 & 1 & 0 \\end{bmatrix}^T = \\begin{bmatrix} 5 & 7 & 6 \\end{bmatrix}^T$.\n",
        "\n",
        "Hallar todas las soluciones del sistema $Bx=\\begin{bmatrix}5 & 1 & 4\\end{bmatrix}^T$."
      ],
      "metadata": {
        "id": "RG8SvrgTkwNG"
      }
    },
    {
      "cell_type": "code",
      "source": [
        "#Veo que rango de A es igual a la cantidad de columnas de A. Entonces,\n",
        "#Ax = b\n",
        "#x = A.inv().b\n",
        "\n",
        "#También se que el Nul(B) pertenece al Nul(AB)\n",
        "#Como existe A.inv(), entonces Nul(AB) pertenece al Nul(B)\n",
        "#Concluímos que Nul(B) = Nul(AB)\n",
        "\n",
        "AB = Matrix([[10, -10, -5, 5],\n",
        "             [11, -11, -4, 7],\n",
        "             [11, -11, -5, 6]])\n",
        "\n",
        "#Busco el nulo de B:\n",
        "nul_B = AB.nullspace()\n",
        "\n",
        "#Se que la solucion de Ax = b va a ser x = sp + gen(nul(B))\n",
        "#Los generadores del nul de B ya los tengo, busco la solucion particular:\n",
        "#Tengo estos datos del enunciado:\n",
        "#   α.B[1 1 1 1]t = α.[0 3 1]t        y          β.B[1 0 1 0]t = β.[5 7 6]t\n",
        "#Junto la información\n",
        "#   α.B[1 1 1 1]t + β.B[1 0 1 0]t = α.[0 3 1]t + β.[5 7 6]t = [5 1 4]t\n",
        "\n",
        "#Busco la combinación lineal que me provoque un [5 1 4]\n",
        "\n",
        "A = Matrix([[0, 5],\n",
        "            [3, 7],\n",
        "            [1, 6]])\n",
        "b = Matrix([5, 1, 4])\n",
        "\n",
        "x, pivot = A.gauss_jordan_solve(b)\n",
        "\n",
        "#Armo la solucion particular\n",
        "sp = x[0,0]*Matrix([1, 1, 1, 1]) + x[1,0]*Matrix([1, 0, 1, 0])\n",
        "\n",
        "#x = sp + gen(nul(B))"
      ],
      "metadata": {
        "id": "Dc66YuaBmOs9"
      },
      "execution_count": 57,
      "outputs": []
    },
    {
      "cell_type": "markdown",
      "source": [
        "#### 1.**29.** Sea $B_1$ la base de $\\mathbb{R}^{3}$ definida por\n",
        "\n",
        "$$ {B_1} = {\\rm}\\left\\{\\begin{bmatrix}\\frac{3}{5}\\\\0\\\\\\frac{4}{5}\\end{bmatrix},\\begin{bmatrix}0\\\\1\\\\0\\end{bmatrix}, \\begin{bmatrix}-\\frac{4}{5}\\\\0\\\\\\frac{3}{5}\\end{bmatrix}\\right\\},$$\n",
        "\n",
        "y sea $B_21$ la base de $\\mathbb{R}^{3}$ tal que la matriz de cambio de coordenadas de la base $B_1$ en la base $B_2$ es\n",
        "$$M_{B_1}^{B_2} =\n",
        "  \\frac{1}{15} \\begin{bmatrix}\n",
        "  10 &  10  & -5\\\\\n",
        "  11 & -10  &  2\\\\\n",
        "  2  &   5  & 14\n",
        "  \\end{bmatrix}.$$\n",
        "\n",
        "Hallar el vector de coordenadas de $v$ = $\\begin{bmatrix}5&4&3\\end{bmatrix}^T$ en base $B_2$."
      ],
      "metadata": {
        "id": "Zwwf-8sBg5YV"
      }
    },
    {
      "cell_type": "code",
      "source": [
        "v1 = Matrix(['3/5',0,'4/5'])\n",
        "v2 = Matrix([0,1,0])\n",
        "v3 = Matrix(['-4/5',0,'3/5'])\n",
        "M_B1_E = Matrix.hstack(v1,v2,v3) #recordar que M_B1_E = M_B1\n",
        "\n",
        "M_B1_B2 = Rational('1/15')*Matrix([[10,10,-5],\n",
        "                                   [11,-10,2],\n",
        "                                   [2,5,14]])\n",
        "\n",
        "v_E = Matrix([5,4,3]) #recordar que v_E = v\n",
        "\n",
        "#   M_B1_E . v_B1 = v_E  \n",
        "#            v_B1 = M_B1_E^(-1) . v_E  \n",
        "v_B1 = M_B1_E.inv()*v_E \n",
        "\n",
        "#   v_B2 = M_B1_B2.v_B1\n",
        "v_B2 = M_B1_B2*v_B1 "
      ],
      "metadata": {
        "id": "NskPj36ajdFc"
      },
      "execution_count": 58,
      "outputs": []
    },
    {
      "cell_type": "markdown",
      "source": [
        "#### 1.**32.** Para las siguientes elecciones de subespacios $\\mathbb{S_1}$ y $\\mathbb{S_2}$ del espacio vectorial $\\mathbb{V}$, hallar una base del mayor subespacio contenido en ambos y otra del menor subespacio que los contiene."
      ],
      "metadata": {
        "id": "64d94XGIvHpz"
      }
    },
    {
      "cell_type": "markdown",
      "source": [
        "##### 1.32.**a.** $\\mathbb{S_1}$ y $\\mathbb{S_2}$ son los subespacios de $\\mathbb{R}^4$ definidos por\n",
        "\n",
        "$$\n",
        "\\mathbb{S}_1 := \\left\\{\n",
        "  \\begin{bmatrix} x_1 & x_2 & x_3 & x_4 \\end{bmatrix}^T\n",
        "  \\in \\mathbb{R}^4 : x_2 + x_3 + x_4 = 0\\right\\}\n",
        "$$\n",
        "\n",
        "$$\n",
        "\\mathbb{S}_2 := \\left\\{\n",
        "  \\begin{bmatrix} x_1 & x_2 & x_3 & x_4 \\end{bmatrix}^T\n",
        "  \\in \\mathbb{R}^4 : x_1 + x_2 = 0, x_3 - 2.x_4 = 0\\right\\}\n",
        "$$"
      ],
      "metadata": {
        "id": "TrWdDT2evXVV"
      }
    },
    {
      "cell_type": "code",
      "source": [
        "#CASO DOS SUBESPACIOS CON ECUACIONES\n",
        "\n",
        "s11 = Matrix([0,1,1,1]).T\n",
        "S1 = Matrix.vstack(s11)\n",
        "s21 = Matrix([1,1,0,0]).T\n",
        "s22 = Matrix([0,0,1,-2]).T\n",
        "S2 = Matrix.vstack(s21,s22)\n",
        "\n",
        "#Intersección: infimo\n",
        "\n",
        "M_S1_S2 = (Matrix.vstack(S1,S2)) #los vectores como filas\n",
        "z = zeros(3, 1)\n",
        "x, x_0, generadores_interseccion = gauss_jordan_con_generadores(M_S1_S2, z)\n",
        "generadores_interseccion        #El infimo esta generado por estos vectores\n",
        "\n",
        "#Suma: supremo\n",
        "\n",
        "#Ahora busco bases de cada subespacio\n",
        "z = zeros(1, 1)\n",
        "xS1, x_0, generadores_bs1 = gauss_jordan_con_generadores(S1, z)\n",
        "generadores_bs1\n",
        "\n",
        "z = zeros(2, 1)\n",
        "xS2, x_0, generadores_bs2 = gauss_jordan_con_generadores(S2, z)\n",
        "generadores_bs2\n",
        "\n",
        "#Junto las bases\n",
        "generadores_suma = union_S1_S2(generadores_bs1, generadores_bs2)\n",
        "generadores_suma                #El supremo esta generado por estos vectores"
      ],
      "metadata": {
        "colab": {
          "base_uri": "https://localhost:8080/",
          "height": 0
        },
        "id": "WTXbdpdUq1nT",
        "outputId": "7aea157f-b36c-444c-966a-599720a56a3c"
      },
      "execution_count": 59,
      "outputs": [
        {
          "output_type": "execute_result",
          "data": {
            "text/latex": "$\\displaystyle \\left[ \\left[\\begin{matrix}1\\\\0\\\\0\\\\0\\end{matrix}\\right], \\  \\left[\\begin{matrix}0\\\\-1\\\\1\\\\0\\end{matrix}\\right], \\  \\left[\\begin{matrix}0\\\\-1\\\\0\\\\1\\end{matrix}\\right], \\  \\left[\\begin{matrix}-1\\\\1\\\\0\\\\0\\end{matrix}\\right]\\right]$",
            "text/plain": [
              "⎡⎡1⎤  ⎡0 ⎤  ⎡0 ⎤  ⎡-1⎤⎤\n",
              "⎢⎢ ⎥  ⎢  ⎥  ⎢  ⎥  ⎢  ⎥⎥\n",
              "⎢⎢0⎥  ⎢-1⎥  ⎢-1⎥  ⎢1 ⎥⎥\n",
              "⎢⎢ ⎥, ⎢  ⎥, ⎢  ⎥, ⎢  ⎥⎥\n",
              "⎢⎢0⎥  ⎢1 ⎥  ⎢0 ⎥  ⎢0 ⎥⎥\n",
              "⎢⎢ ⎥  ⎢  ⎥  ⎢  ⎥  ⎢  ⎥⎥\n",
              "⎣⎣0⎦  ⎣0 ⎦  ⎣1 ⎦  ⎣0 ⎦⎦"
            ]
          },
          "metadata": {},
          "execution_count": 59
        }
      ]
    },
    {
      "cell_type": "markdown",
      "source": [
        "##### 1.32.**b.** $\\mathbb{S_1}$ y $\\mathbb{S_2}$ son los subespacios de $\\mathbb{R}^5$ definidos por $\\mathbb{S_1} :=$ col($A$) y $\\mathbb{S_2} :=$ nul($A$) donde $A$ es la siguiente matriz de $\\mathbb{R}^{5 \\times 5}$\n",
        "\n",
        "$$A =\n",
        "  \\begin{bmatrix}\n",
        "  -1 & 1 & 1 & -2 & 1\\\\\n",
        "  -1 & 0 & 3 & -4 & 2\\\\\n",
        "  -1 & 0 & 3 & -5 & 3\\\\\n",
        "  -1 & 0 & 3 & -6 & 4\\\\\n",
        "  -1 & 0 & 3 & -6 & 4\n",
        "  \\end{bmatrix}.$$"
      ],
      "metadata": {
        "id": "Pp19LnwByX4i"
      }
    },
    {
      "cell_type": "code",
      "source": [
        "A = Matrix([[-1, 1,1,-2,1],\n",
        "            [-1,0,3,-4,2],\n",
        "            [-1,0,3,-5,3],\n",
        "            [-1,0,3,-6,4],\n",
        "            [-1,0,3,-6,4]])\n",
        "\n",
        "S1 = A.columnspace()\n",
        "S2 = A.nullspace()\n",
        "\n",
        "generadores_interseccion = interseccion_S1_S2_dos_lados(S1, S2) \n",
        "generadores_interseccion        #El infimo esta generado por estos vectores\n",
        "\n",
        "#Junto las bases\n",
        "generadores_suma = union_S1_S2(S1, S2)\n",
        "generadores_suma                #El supremo esta generado por estos vectores"
      ],
      "metadata": {
        "colab": {
          "base_uri": "https://localhost:8080/",
          "height": 0
        },
        "id": "zYFFKgJTzUtm",
        "outputId": "b4290d4e-262c-4294-8dd0-4aa30a2f2a62"
      },
      "execution_count": 60,
      "outputs": [
        {
          "output_type": "execute_result",
          "data": {
            "text/latex": "$\\displaystyle \\left[ \\left[\\begin{matrix}-1\\\\-1\\\\-1\\\\-1\\\\-1\\end{matrix}\\right], \\  \\left[\\begin{matrix}1\\\\0\\\\0\\\\0\\\\0\\end{matrix}\\right], \\  \\left[\\begin{matrix}-2\\\\-4\\\\-5\\\\-6\\\\-6\\end{matrix}\\right]\\right]$",
            "text/plain": [
              "⎡⎡-1⎤  ⎡1⎤  ⎡-2⎤⎤\n",
              "⎢⎢  ⎥  ⎢ ⎥  ⎢  ⎥⎥\n",
              "⎢⎢-1⎥  ⎢0⎥  ⎢-4⎥⎥\n",
              "⎢⎢  ⎥  ⎢ ⎥  ⎢  ⎥⎥\n",
              "⎢⎢-1⎥, ⎢0⎥, ⎢-5⎥⎥\n",
              "⎢⎢  ⎥  ⎢ ⎥  ⎢  ⎥⎥\n",
              "⎢⎢-1⎥  ⎢0⎥  ⎢-6⎥⎥\n",
              "⎢⎢  ⎥  ⎢ ⎥  ⎢  ⎥⎥\n",
              "⎣⎣-1⎦  ⎣0⎦  ⎣-6⎦⎦"
            ]
          },
          "metadata": {},
          "execution_count": 60
        }
      ]
    },
    {
      "cell_type": "markdown",
      "source": [
        "##### 1.32.**c.** $\\mathbb{S_1}$ y $\\mathbb{S_2}$ son los subespacios de $\\mathbb{R}^4$ definidos por\n",
        "\n",
        "$$\n",
        "\\mathbb{S}_1 := gen\\left\\{\n",
        "  \\begin{bmatrix} 1 & 0 & 2 & 1 \\end{bmatrix}^T,\n",
        "  \\begin{bmatrix} 1 & 1 & 1 & 1 \\end{bmatrix}^T \\right\\}\n",
        "$$\n",
        "\n",
        "$$\n",
        "\\mathbb{S}_2 := gen\\left\\{\n",
        "  \\begin{bmatrix} 4 & 2 & 2 & 0 \\end{bmatrix}^T,\n",
        "  \\begin{bmatrix} 2 & 0 & 2 & 0 \\end{bmatrix}^T \\right\\}\n",
        "$$"
      ],
      "metadata": {
        "id": "CdZXl5abE2hO"
      }
    },
    {
      "cell_type": "code",
      "source": [
        "S1 = [Matrix([1,0,2,1]), Matrix([1,1,1,1])]\n",
        "S2 = [Matrix([4,2,2,0]), Matrix([2,0,2,0])]\n",
        "\n",
        "generadores_interseccion = interseccion_S1_S2_dos_lados(S1, S2) \n",
        "generadores_interseccion        #El infimo esta generado por estos vectores\n",
        "\n",
        "#Junto las bases\n",
        "generadores_suma = union_S1_S2(S1, S2)\n",
        "generadores_suma                #El supremo esta generado por estos vectores"
      ],
      "metadata": {
        "colab": {
          "base_uri": "https://localhost:8080/",
          "height": 0
        },
        "id": "GpEXgpA2GLcu",
        "outputId": "8706d795-3b64-4f4c-93c0-b82efcb164ee"
      },
      "execution_count": 61,
      "outputs": [
        {
          "output_type": "execute_result",
          "data": {
            "text/latex": "$\\displaystyle \\left[ \\left[\\begin{matrix}1\\\\0\\\\2\\\\1\\end{matrix}\\right], \\  \\left[\\begin{matrix}1\\\\1\\\\1\\\\1\\end{matrix}\\right], \\  \\left[\\begin{matrix}4\\\\2\\\\2\\\\0\\end{matrix}\\right]\\right]$",
            "text/plain": [
              "⎡⎡1⎤  ⎡1⎤  ⎡4⎤⎤\n",
              "⎢⎢ ⎥  ⎢ ⎥  ⎢ ⎥⎥\n",
              "⎢⎢0⎥  ⎢1⎥  ⎢2⎥⎥\n",
              "⎢⎢ ⎥, ⎢ ⎥, ⎢ ⎥⎥\n",
              "⎢⎢2⎥  ⎢1⎥  ⎢2⎥⎥\n",
              "⎢⎢ ⎥  ⎢ ⎥  ⎢ ⎥⎥\n",
              "⎣⎣1⎦  ⎣1⎦  ⎣0⎦⎦"
            ]
          },
          "metadata": {},
          "execution_count": 61
        }
      ]
    },
    {
      "cell_type": "markdown",
      "source": [
        "#### 1.**35.** Sean $\\mathbb{S_1}$ y $\\mathbb{S_2}$ los subespacios de $\\mathbb{R}^4$ definidos por\n",
        "\n",
        "$$\n",
        "\\mathbb{S}_1 := gen\\left\\{\n",
        "  \\begin{bmatrix} 1 & 2 & 2 & 1 \\end{bmatrix}^T, \n",
        "  \\begin{bmatrix} 0 & 1 & 0 & -1 \\end{bmatrix}^T\\right\\}\n",
        "$$\n",
        "\n",
        "$$\n",
        "\\mathbb{S}_2 := gen\\left\\{\n",
        "  \\begin{bmatrix} 1 & 0 & 1 & 2 \\end{bmatrix}^T, \n",
        "  \\begin{bmatrix} 1 & 2 & 1 & 0 \\end{bmatrix}^T\\right\\}.\n",
        "$$\n",
        "\n",
        "Construir un subespacio $\\mathbb{T}$ de $\\mathbb{R}^4$ tal que \n",
        "\n",
        "$$\n",
        "  \\mathbb{S}_1 \\oplus \\mathbb{T} = \\mathbb{S}_2 \\oplus \\mathbb{T} =\n",
        "  \\left\\{ x \\in \\mathbb{R}^4 : x_1 - x_2 + x_3 - x_4 = 0 \\right\\}.\n",
        "$$\n",
        "\n",
        "¿Es unico? Si la respuesta es negativa, construir otro.\n",
        "\n"
      ],
      "metadata": {
        "id": "5D4Xde7sKSZB"
      }
    },
    {
      "cell_type": "code",
      "source": [
        "#Escribo dimensiones:\n",
        "#   dim(V) = 3\n",
        "#   dim(S1) = 2\n",
        "#   dim(S2) = 2\n",
        "#   dim(T) = dim(V) - dim(S1) = 1\n",
        "\n",
        "\n",
        "#1.Busco base de S1∩S2: a.v1 + b.v2 = c.v3 + d.v4\n",
        "s11, s12 = Matrix([1,2,2,1]), Matrix([0,1,0,-1])\n",
        "S1 = [s11, s12]\n",
        "\n",
        "s21, s22 = Matrix([1,0,1,2]), Matrix([1,2,1,0])\n",
        "S2 = [s21, s22]\n",
        "\n",
        "S1_int_S2 = interseccion_S1_S2_dos_lados(S1, S2) \n",
        "#generadores_interseccion = generadores_interseccion[0] #es un solo elemento, lo saco\n",
        "\n",
        "#2.Extiendo las bases\n",
        "\n",
        "#S1: le agrego algun vector del enunciado que sea LI con S1_int_S2\n",
        "#    FORMA 1: A ojo\n",
        "v1 = Matrix([1, 2, 2, 1])\n",
        "BS1 = [*S1_int_S2, v1] \n",
        "\n",
        "#    FORMA 2: junto los generadores de la interseccion y los generadores de s1 y obtengo conjunto li\n",
        "A_ld = Matrix.hstack(*S1_int_S2, *S1)\n",
        "A_li = obtener_vectores_li(A_ld)\n",
        "v1 = A_li[1] #lo escribo a mano\n",
        "\n",
        "#S2: le agrego algun vector del enunciado que sea LI con S1_int_S2\n",
        "A_ld = Matrix.hstack(*S1_int_S2, *S2)\n",
        "A_li = obtener_vectores_li(A_ld)\n",
        "w1 = A_li[1] #lo escribo a mano\n",
        "\n",
        "#3.Busco S1+S2: tiene que tener dim(S1+S2) = dim(S1) + dim(S2) - dim(S1∩S2) = 2 + 2 - 1 = 3 \n",
        "S1_un_S2 = union_S1_S2(S1, S2)#escribo los vectores de S1 y S2\n",
        "S1_un_S2\n",
        "\n",
        "#4.Busco U para que (S1+S2)+U = Nul([1 -1 1 1])\n",
        "#  dim(S1+S2) + dim(U) = dim(Nul([0 -1 1 1]))\n",
        "#       3     + dim(U) = 3\n",
        "#               dim(U) = 0\n",
        "\n",
        "#Construyo T:\n",
        "#  dim(S1) + dim(T) = dim(Nul([0 -1 1 1]))\n",
        "#     2    + dim(T) = 3\n",
        "#            dim(T) = 1\n",
        "\n",
        "#T = gen{a.v1 + b.w1}\n",
        "a,b = symbols('a, b')\n",
        "gen_T = a*v1 + b*w1\n",
        "gen_T1 = gen_T.subs({a:1, b:1})     \n",
        "gen_T2 = gen_T.subs({a:2, b:1})"
      ],
      "metadata": {
        "id": "_cT9qj7DKWxk"
      },
      "execution_count": 62,
      "outputs": []
    }
  ]
}